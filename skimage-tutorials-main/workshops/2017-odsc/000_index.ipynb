{
 "cells": [
  {
   "cell_type": "markdown",
   "metadata": {},
   "source": [
    "\n",
    "# scikit-image: Image Processing in Python\n",
    "\n",
    "# https://github.com/scikit-image/skimage-tutorials\n",
    "\n",
    "\n",
    "0. If you haven't yet, please clone this repository:\n",
    "\n",
    "```\n",
    "git clone --depth=1 https://github.com/scikit-image/skimage-tutorials\n",
    "```\n",
    "\n",
    "On conference wifi, this will take about 5 minutes :/  You can also copy a cloned copy from a friend via, e.g., a USB stick.\n",
    "\n",
    "\n",
    "1. If you already have, please pull the latest updates:\n",
    "\n",
    "```\n",
    "git pull\n",
    "```\n",
    "\n",
    "## Abstract\n",
    "\n",
    "Across domains, modalities, and scales of exploration, images form an integral subset of scientific measurements. Despite a deep appeal to human intuition, gaining understanding of image content remains challenging; yet the wealth of knowledge contained inside of images cannot be overstated.\n",
    "\n",
    "`scikit-image` is a collection of image processing algorithms for the Scientific Python (SciPy) ecosystem. It has a Pythonic API, is well documented, and aims to provide researchers and practitioners with well-tested, fundamental building blocks for rapidly constructing sophisticated image processing pipelines.\n",
    "\n",
    "In this training, we give an interactive overview of the library, and let participants try their hand at various educational image processing challenges.\n",
    "\n",
    "Attendees are expected to have a working knowledge of NumPy, SciPy, and Matplotlib.\n",
    "\n",
    "## Presenter Bio\n",
    "\n",
    "Stéfan van der Walt is a researcher at the Berkeley Institute for Data Science, UC Berkeley. He has been a part of the scientific Python developer community since 2006, and is the founder of scikit-image. Outside of work, he enjoys running, music, the great outdoors, and being a dad.\n",
    "\n",
    "\n",
    "# Prerequisites\n",
    "\n",
    "Please refer to the [preparation instructions](https://github.com/scikit-image/skimage-tutorials/blob/main/preparation.md).\n",
    "\n",
    "\n",
    "# Sections\n",
    "\n",
    "Throughout the tutorial, please feel free to interrupt with questions.  The roadmap below is a guideline only.\n",
    "\n",
    "- 2:00 - 2:30:\n",
    "  - Introduction\n",
    "  - [Images are just NumPy arrays](../../lectures/00_images_are_arrays.ipynb) + exercises\n",
    "- 3:00 - 3:30: [SciPy Quiz: Know your toolbox!](../../lectures/numpy_scipy_quiz.ipynb)\n",
    "- 3:30 - 4:15:\n",
    "   - [Filters](../../lectures/1_image_filters.ipynb) + exercises\n",
    "- 4:15 - 5:15:\n",
    "   - [3D segmentation](../../lectures/three_dimensional_image_processing.ipynb) + exercises\n",
    "   - [RANSAC](../../lectures/5_ransac.ipynb)\n",
    "- 5:15 - 5:45: [Interlude: Neural Networks, Parallelization, SciPy LowLevelCallable](../../lectures/other_libraries.ipynb)\n",
    "- 5:45 - 6:00: Q&A, General Discussion\n",
    "\n",
    "Optional extra: [stitching image panoramas](../../lectures/adv3_panorama-stitching.ipynb)\n",
    "\n",
    "\n",
    "# For later\n",
    "\n",
    "- Check out the other [scikit-image lectures](../../lectures)\n",
    "- Try some [StackOverflow challenges](../../lectures/stackoverflow_challenges)\n",
    "\n",
    "# Further information\n",
    "\n",
    "- Here are some [real world use cases](http://bit.ly/skimage_real_world).\n",
    "- ndimage vs scikit-image\n",
    "- scikit-image vs opencv\n",
    "\n",
    "\n",
    "# After the tutorial\n",
    "\n",
    "Stay in touch!\n",
    "\n",
    "- Follow the project's progress [on GitHub](https://github.com/scikit-image/scikit-image).\n",
    "- Ask the team questions on the [mailing list](https://mail.python.org/mailman/listinfo/scikit-image)\n",
    "- [Contribute!](https://github.com/scikit-image/scikit-image/blob/main/.github/CONTRIBUTING.txt)\n",
    "- Read [our paper](https://peerj.com/articles/453/) (or [this one, for skimage in microscopy](https://ascimaging.springeropen.com/articles/10.1186/s40679-016-0031-0))"
   ]
  },
  {
   "cell_type": "code",
   "execution_count": null,
   "metadata": {
    "collapsed": true
   },
   "outputs": [],
   "source": [
    "import numpy as np\n",
    "np.__version__"
   ]
  },
  {
   "cell_type": "code",
   "execution_count": null,
   "metadata": {
    "collapsed": true
   },
   "outputs": [],
   "source": [
    "import skimage"
   ]
  },
  {
   "cell_type": "code",
   "execution_count": null,
   "metadata": {
    "collapsed": true
   },
   "outputs": [],
   "source": [
    "skimage.__version__"
   ]
  }
 ],
 "metadata": {
  "kernelspec": {
   "display_name": "Python 3",
   "language": "python",
   "name": "python3"
  },
  "language_info": {
   "codemirror_mode": {
    "name": "ipython",
    "version": 3
   },
   "file_extension": ".py",
   "mimetype": "text/x-python",
   "name": "python",
   "nbconvert_exporter": "python",
   "pygments_lexer": "ipython3",
   "version": "3.6.6rc1"
  },
  "widgets": {
   "state": {},
   "version": "1.1.2"
  }
 },
 "nbformat": 4,
 "nbformat_minor": 1
}
