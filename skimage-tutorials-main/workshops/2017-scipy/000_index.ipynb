{
 "cells": [
  {
   "cell_type": "markdown",
   "metadata": {},
   "source": [
    "\n",
    "# Image analysis in Python with SciPy and scikit-image\n",
    "\n",
    "# Please clone\n",
    "# https://github.com/scikit-image/skimage-tutorials\n",
    "\n",
    "scikit-image is a collection of image processing algorithms for the\n",
    "SciPy ecosystem.  It aims to have a Pythonic API (read: does what you'd expect), \n",
    "is well documented, and provides researchers and practitioners with well-tested,\n",
    "fundamental building blocks for rapidly constructing sophisticated image\n",
    "processing pipelines.\n",
    "\n",
    "In this tutorial, we provide an interactive overview of the library,\n",
    "where participants have the opportunity to try their hand at various\n",
    "image processing challenges.\n",
    "\n",
    "The tutorial consists of four parts, in which we:\n",
    "\n",
    "1. give a general overview of the functionality available in the various submodules;\n",
    "2. showcase analysis of real-world, anisotropic three-dimensional\n",
    "   microscopy data, in celebration of the 0.13 release which greatly\n",
    "   improves N-dimensional processing; \n",
    "3. demonstrate how to use scikit-image for machine learning tasks in\n",
    "   combination with scikit-learn, and \n",
    "4. highlight interaction with other libraries, such as Keras and\n",
    "   SciPy's LowLevelCallable.\n",
    "\n",
    "Attendees are expected to have a working knowledge of NumPy, SciPy, and Matplotlib.\n",
    "\n",
    "Across domains, modalities, and scales of exploration, images form an integral subset of scientific measurements. Despite a deep appeal to human intuition, gaining understanding of image content remains challenging, and often relies on heuristics (we hope to address some of that in part 3!). Even so, the wealth of knowledge contained inside of images cannot be understated, and <a href=\"http://scikit-image.org\">scikit-image</a>, along with <a href=\"http://scipy.org\">SciPy</a>, provides a strong foundation upon which to build algorithms and applications for exploring this domain.\n",
    "\n",
    "\n",
    "# Prerequisites\n",
    "\n",
    "All of the below packages, including the non-Python ones, can be found in the [Anaconda](https://store.continuum.io/cshop/anaconda/) Python distribution, which can be obtained for free. (Though some packages may need to be installed using `conda install packagename`.)\n",
    "\n",
    "## Required packages\n",
    "\n",
    "- scikit-image (0.13)\n",
    "\n",
    "Required for scikit-image:\n",
    "\n",
    "- Python >= 3.5\n",
    "- numpy >= 1.13.1\n",
    "- scipy >= 0.19\n",
    "\n",
    "Required for image viewing and other examples:\n",
    "\n",
    "- matplotlib >= 2\n",
    "\n",
    "Required for machine learning section:\n",
    "\n",
    "- scikit-learn >= 0.18\n",
    "\n",
    "## Example images\n",
    "\n",
    "scikit-image ships with some example images in `skimage.data`.\n",
    "\n",
    "# Sections\n",
    "\n",
    "For convenience, we have divided this tutorial into several chapters, linked below. Throughout the tutorials, feel free to ask questions. We want you to come away confident in your image analysis skills!\n",
    "\n",
    "- 1:30 - 1:40: Introduction\n",
    "- 1:40 - 2:10: [Images are just NumPy arrays](../../lectures/00_images_are_arrays.ipynb), [RANSAC](../lectures/5_ransac.ipynb)\n",
    "- 2:15 - 3:30: [3D Image Processing](../../lectures/three_dimensional_image_processing.ipynb)\n",
    "- 3:35 - 4:50: [Machine Learning](../../lectures/machine_learning.ipynb)\n",
    "- 4:55 - 5:30: [Other Libraries](../../lectures/other_libraries.ipynb)\n",
    "\n",
    "**Note:** Snacks are available 2:15-4:00; coffee & tea until 5.\n",
    "\n",
    "# For later\n",
    "\n",
    "- Check out the other [lectures](../../lectures)\n",
    "- Try some [StackOverflow challenges](../../lectures/stackoverflow_challenges)\n",
    "\n",
    "# Further information\n",
    "\n",
    "- Here are some [real world use cases](http://bit.ly/skimage_real_world).\n",
    "- [The other scikits](http://scikits.appspot.com) & interoperation with other Python packages\n",
    "- ndimage vs scikit-image\n",
    "- scikit-image vs opencv\n",
    "\n",
    "\n",
    "# After the tutorial\n",
    "\n",
    "Stay in touch!\n",
    "\n",
    "- Follow the project's progress [on GitHub](https://github.com/scikit-image/scikit-image).\n",
    "- Ask the team questions on the [mailing list](https://mail.python.org/mailman/listinfo/scikit-image)\n",
    "- [Contribute!](https://github.com/scikit-image/scikit-image/blob/main/.github/CONTRIBUTING.txt)\n",
    "- Read [our paper](https://peerj.com/articles/453/) (or [this one, for skimage in microscopy](https://ascimaging.springeropen.com/articles/10.1186/s40679-016-0031-0))"
   ]
  },
  {
   "cell_type": "code",
   "execution_count": 1,
   "metadata": {},
   "outputs": [
    {
     "data": {
      "text/plain": [
       "'1.13.0'"
      ]
     },
     "execution_count": 1,
     "metadata": {},
     "output_type": "execute_result"
    }
   ],
   "source": [
    "import numpy as np\n",
    "np.__version__"
   ]
  },
  {
   "cell_type": "code",
   "execution_count": 2,
   "metadata": {},
   "outputs": [
    {
     "name": "stdout",
     "output_type": "stream",
     "text": [
      "Collecting numpy\n",
      "  Downloading numpy-1.13.1-cp36-cp36m-manylinux1_x86_64.whl (17.0MB)\n",
      "\u001b[K    100% |████████████████████████████████| 17.0MB 90kB/s eta 0:00:01    63% |████████████████████▏           | 10.7MB 1.7MB/s eta 0:00:04    83% |██████████████████████████▋     | 14.1MB 898kB/s eta 0:00:04\n",
      "\u001b[?25hInstalling collected packages: numpy\n",
      "  Found existing installation: numpy 1.13.0\n",
      "    Uninstalling numpy-1.13.0:\n",
      "      Successfully uninstalled numpy-1.13.0\n",
      "Successfully installed numpy-1.13.1\n"
     ]
    }
   ],
   "source": [
    "!pip install numpy --upgrade"
   ]
  },
  {
   "cell_type": "code",
   "execution_count": 3,
   "metadata": {
    "collapsed": true
   },
   "outputs": [],
   "source": [
    "import skimage"
   ]
  },
  {
   "cell_type": "code",
   "execution_count": 4,
   "metadata": {},
   "outputs": [
    {
     "data": {
      "text/plain": [
       "'0.13.0'"
      ]
     },
     "execution_count": 4,
     "metadata": {},
     "output_type": "execute_result"
    }
   ],
   "source": [
    "skimage.__version__"
   ]
  }
 ],
 "metadata": {
  "kernelspec": {
   "display_name": "Python 3",
   "language": "python",
   "name": "python3"
  },
  "language_info": {
   "codemirror_mode": {
    "name": "ipython",
    "version": 3
   },
   "file_extension": ".py",
   "mimetype": "text/x-python",
   "name": "python",
   "nbconvert_exporter": "python",
   "pygments_lexer": "ipython3",
   "version": "3.6.6rc1"
  },
  "widgets": {
   "state": {},
   "version": "1.1.2"
  }
 },
 "nbformat": 4,
 "nbformat_minor": 1
}
