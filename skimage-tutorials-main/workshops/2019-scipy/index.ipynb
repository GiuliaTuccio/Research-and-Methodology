{
 "cells": [
  {
   "cell_type": "markdown",
   "metadata": {},
   "source": [
    "# Image analysis in Python with SciPy and scikit-image\n",
    "\n",
    "<div style=\"border: solid 1px; background: #abcfef; font-size: 150%; padding: 1em; margin: 1em; width: 75%;\">\n",
    "\n",
    "<p>To participate, please follow the preparation instructions at</p>\n",
    "<p>https://github.com/scikit-image/skimage-tutorials/</p>\n",
    "<p>(click on **preparation.md**).</p>\n",
    "\n",
    "</div>\n",
    "\n",
    "<hr/>\n",
    "TL;DR: Install Python 3.6, scikit-image, and the Jupyter notebook.  Then clone this repo:\n",
    "\n",
    "```python\n",
    "git clone --depth=1 https://github.com/scikit-image/skimage-tutorials\n",
    "```\n",
    "<hr/>\n",
    "\n",
    "If you cloned it before today, use `git pull origin` to get the latest changes."
   ]
  },
  {
   "cell_type": "code",
   "execution_count": 1,
   "metadata": {},
   "outputs": [
    {
     "ename": "FileNotFoundError",
     "evalue": "[Errno 2] No such file or directory: ''",
     "output_type": "error",
     "traceback": [
      "\u001b[1;31m---------------------------------------------------------------------------\u001b[0m",
      "\u001b[1;31mFileNotFoundError\u001b[0m                         Traceback (most recent call last)",
      "\u001b[1;32mscikit-image[data]\u001b[0m in \u001b[0;36m<module>\u001b[1;34m\u001b[0m\n\u001b[0;32m     11\u001b[0m \u001b[1;33m\u001b[0m\u001b[0m\n\u001b[0;32m     12\u001b[0m \u001b[0m__file__\u001b[0m \u001b[1;33m=\u001b[0m \u001b[1;34m'scikit-image[data]'\u001b[0m\u001b[1;33m\u001b[0m\u001b[1;33m\u001b[0m\u001b[0m\n\u001b[1;32m---> 13\u001b[1;33m \u001b[1;32mwith\u001b[0m \u001b[0mopen\u001b[0m\u001b[1;33m(\u001b[0m\u001b[0mos\u001b[0m\u001b[1;33m.\u001b[0m\u001b[0mpath\u001b[0m\u001b[1;33m.\u001b[0m\u001b[0mjoin\u001b[0m\u001b[1;33m(\u001b[0m\u001b[0mos\u001b[0m\u001b[1;33m.\u001b[0m\u001b[0mpath\u001b[0m\u001b[1;33m.\u001b[0m\u001b[0mdirname\u001b[0m\u001b[1;33m(\u001b[0m\u001b[0m__file__\u001b[0m\u001b[1;33m)\u001b[0m\u001b[1;33m)\u001b[0m\u001b[1;33m)\u001b[0m \u001b[1;32mas\u001b[0m \u001b[0mf\u001b[0m\u001b[1;33m:\u001b[0m\u001b[1;33m\u001b[0m\u001b[1;33m\u001b[0m\u001b[0m\n\u001b[0m\u001b[0;32m     14\u001b[0m     \u001b[0mreqs\u001b[0m \u001b[1;33m=\u001b[0m \u001b[0mf\u001b[0m\u001b[1;33m.\u001b[0m\u001b[0mreadlines\u001b[0m\u001b[1;33m(\u001b[0m\u001b[1;33m)\u001b[0m\u001b[1;33m\u001b[0m\u001b[1;33m\u001b[0m\u001b[0m\n\u001b[0;32m     15\u001b[0m \u001b[1;33m\u001b[0m\u001b[0m\n",
      "\u001b[1;31mFileNotFoundError\u001b[0m: [Errno 2] No such file or directory: ''"
     ]
    }
   ],
   "source": [
    "%run ../../check_setup.py"
   ]
  },
  {
   "cell_type": "markdown",
   "metadata": {},
   "source": [
    "scikit-image is a collection of image processing algorithms for the\n",
    "SciPy ecosystem.  It aims to have a Pythonic API (read: does what you'd expect), \n",
    "is well documented, and provides researchers and practitioners with well-tested,\n",
    "fundamental building blocks for rapidly constructing sophisticated image\n",
    "processing pipelines.\n",
    "\n",
    "In this tutorial, we provide an interactive overview of the library,\n",
    "where participants have the opportunity to try their hand at various\n",
    "image processing challenges.\n",
    "\n",
    "Attendees are expected to have a working knowledge of NumPy, SciPy, and Matplotlib.\n",
    "\n",
    "Across domains, modalities, and scales of exploration, images form an integral subset of scientific measurements. Despite a deep appeal to human intuition, gaining understanding of image content remains challenging, and often relies on heuristics. Even so, the wealth of knowledge contained inside of images cannot be understated, and <a href=\"http://scikit-image.org\">scikit-image</a>, along with <a href=\"http://scipy.org\">SciPy</a>, provides a strong foundation upon which to build algorithms and applications for exploring this domain.\n",
    "\n",
    "\n",
    "# Prerequisites\n",
    "\n",
    "Please see the [preparation instructions](https://github.com/scikit-image/skimage-tutorials/blob/main/preparation.md).\n",
    "\n",
    "# Schedule\n",
    "\n",
    "- 1:30–2:20: Introduction & [images as NumPy arrays](../../lectures/00_images_are_arrays.ipynb)\n",
    "- 2:30–3:20: [Filters](../../lectures/1_image_filters.ipynb)\n",
    "- 3:30–4:20: [Segmentation](../../lectures/4_segmentation.ipynb)\n",
    "- 4:30–5:00: [Advanced workflow example](../../lectures/adv5-pores.ipynb)\n",
    "- 5:00–5:20: [Tour of scikit-image](../../lectures/tour_of_skimage.ipynb)\n",
    "- 5:20–5:30: Q&A\n",
    "\n",
    "**Note:** Snacks are available 2:15-4:00; coffee & tea until 5.\n",
    "\n",
    "# For later\n",
    "\n",
    "- Check out the other [lectures](../../lectures)\n",
    "- Check out a [3D segmentation workflow](../../lectures/three_dimensional_image_processing.ipynb)\n",
    "- Some [real world use cases](http://bit.ly/skimage_real_world)\n",
    "\n",
    "\n",
    "# After the tutorial\n",
    "\n",
    "Stay in touch!\n",
    "\n",
    "- Come to the [sprint](https://www.scipy2019.scipy.org/sprints-schedule)!\n",
    "- Follow the project's progress [on GitHub](https://github.com/scikit-image/scikit-image).\n",
    "- Ask the team questions on the [mailing list](https://mail.python.org/mailman/listinfo/scikit-image)\n",
    "- [Contribute!](http://scikit-image.org/docs/dev/contribute.html)\n",
    "- Read [our paper](https://peerj.com/articles/453/) (or [this other paper, for skimage in microtomography](https://ascimaging.springeropen.com/articles/10.1186/s40679-016-0031-0))"
   ]
  },
  {
   "cell_type": "code",
   "execution_count": null,
   "metadata": {},
   "outputs": [],
   "source": []
  }
 ],
 "metadata": {
  "kernelspec": {
   "display_name": "Python 3 (ipykernel)",
   "language": "python",
   "name": "python3"
  },
  "language_info": {
   "codemirror_mode": {
    "name": "ipython",
    "version": 3
   },
   "file_extension": ".py",
   "mimetype": "text/x-python",
   "name": "python",
   "nbconvert_exporter": "python",
   "pygments_lexer": "ipython3",
   "version": "3.9.7"
  },
  "widgets": {
   "state": {},
   "version": "1.1.2"
  }
 },
 "nbformat": 4,
 "nbformat_minor": 1
}
