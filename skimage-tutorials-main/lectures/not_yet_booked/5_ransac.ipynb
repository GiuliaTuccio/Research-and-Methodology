{
 "cells": [
  {
   "cell_type": "code",
   "execution_count": null,
   "metadata": {
    "collapsed": true
   },
   "outputs": [],
   "source": [
    "%matplotlib inline\n",
    "import matplotlib\n",
    "matplotlib.rcParams['image.cmap'] = 'gray'"
   ]
  },
  {
   "cell_type": "markdown",
   "metadata": {},
   "source": [
    "# RANSAC\n",
    "\n",
    "From WikiPedia:\n",
    "\n",
    "> Random sample consensus (RANSAC) is an iterative method to estimate\n",
    "> parameters of a mathematical model from a set of observed data which\n",
    "> contains outliers. Therefore, it also can be interpreted as an\n",
    "> outlier detection method.\n",
    "\n",
    "[Gallery example](http://scikit-image.org/docs/dev/auto_examples/plot_matching.html)"
   ]
  },
  {
   "cell_type": "code",
   "execution_count": null,
   "metadata": {
    "collapsed": true
   },
   "outputs": [],
   "source": [
    "import numpy as np\n",
    "from matplotlib import pyplot as plt\n",
    "\n",
    "from skimage.measure import ransac"
   ]
  },
  {
   "cell_type": "markdown",
   "metadata": {},
   "source": [
    "Let's set up some random data points:"
   ]
  },
  {
   "cell_type": "code",
   "execution_count": null,
   "metadata": {},
   "outputs": [],
   "source": [
    "np.random.seed(seed=1)\n",
    "\n",
    "# generate coordinates of line\n",
    "x = np.arange(-200, 200)\n",
    "y = 0.2 * x + 20\n",
    "data = np.column_stack([x, y])\n",
    "\n",
    "# add faulty data\n",
    "faulty = np.array(30 * [(180., -100)])\n",
    "faulty += 5 * np.random.normal(size=faulty.shape)\n",
    "data[:faulty.shape[0]] = faulty\n",
    "\n",
    "# add gaussian noise to coordinates\n",
    "noise = np.random.normal(size=data.shape)\n",
    "data += 0.5 * noise\n",
    "data[::2] += 5 * noise[::2]\n",
    "data[::4] += 20 * noise[::4]\n",
    "\n",
    "plt.plot(data[:, 0], data[:, 1], 'b.');"
   ]
  },
  {
   "cell_type": "markdown",
   "metadata": {},
   "source": [
    "Now, fit a line to the data.  We start with our model:\n",
    "\n",
    "$$\\mathbf{y} = m \\mathbf{x} + c$$\n",
    "\n",
    "Or, in matrix notation:\n",
    "\n",
    "$$\\mathbf{y} = \\left[ \\begin{array}{c} \\vdots \\\\ \\mathbf{x} \\\\ \\vdots \\end{array}\n",
    "                     \\ \\begin{array}{c} \\vdots \\\\ \\mathbf{1} \\\\ \\vdots \\end{array} \\right]\n",
    "                     \\left[ \\begin{array}{c} m \\\\ c \\end{array} \\right]\n",
    "                     = X \\mathbf{p}$$\n",
    "\n",
    "Since we have an over-determined system, we use least squares to solve:"
   ]
  },
  {
   "cell_type": "code",
   "execution_count": null,
   "metadata": {},
   "outputs": [],
   "source": [
    "x = data[:, 0]\n",
    "y = data[:, 1]\n",
    "\n",
    "X = np.column_stack((x, np.ones_like(x)))\n",
    "\n",
    "p, _, _, _ = np.linalg.lstsq(X, y)\n",
    "p"
   ]
  },
  {
   "cell_type": "markdown",
   "metadata": {},
   "source": [
    "With those parameters in hand, let's plot the resulting line:"
   ]
  },
  {
   "cell_type": "code",
   "execution_count": null,
   "metadata": {},
   "outputs": [],
   "source": [
    "m, c = p\n",
    "plt.plot(x, y, 'b.')\n",
    "\n",
    "xx = np.arange(-250, 250)\n",
    "plt.plot(xx, m * xx + c, 'r-');"
   ]
  },
  {
   "cell_type": "markdown",
   "metadata": {},
   "source": [
    "Scikit-image provides an N-dimensional LineModel object that encapsulates the above:"
   ]
  },
  {
   "cell_type": "code",
   "execution_count": null,
   "metadata": {},
   "outputs": [],
   "source": [
    "from skimage.measure import ransac, LineModelND\n",
    "\n",
    "model = LineModelND()\n",
    "model.estimate(data)\n",
    "model.params"
   ]
  },
  {
   "cell_type": "markdown",
   "metadata": {},
   "source": [
    "Instead of ``m`` and ``c``, it parameterizes the line by ``origin``\n",
    "and ``direction`` --- much safer when dealing with vertical lines,\n",
    "e.g.!"
   ]
  },
  {
   "cell_type": "code",
   "execution_count": null,
   "metadata": {},
   "outputs": [],
   "source": [
    "origin, direction = model.params\n",
    "plt.plot(x, y, 'b.')\n",
    "plt.plot(xx, model.predict_y(xx), 'r-');"
   ]
  },
  {
   "cell_type": "markdown",
   "metadata": {},
   "source": [
    "Now, we robustly fit the line using inlier data selecte with the RANSAC algorithm:"
   ]
  },
  {
   "cell_type": "code",
   "execution_count": null,
   "metadata": {},
   "outputs": [],
   "source": [
    "model_robust, inliers = ransac(data, LineModelND, min_samples=2,\n",
    "                               residual_threshold=10, max_trials=1000)\n",
    "outliers = (inliers == False)\n",
    "\n",
    "yy = model_robust.predict_y(xx)\n",
    "\n",
    "fig, ax = plt.subplots()\n",
    "\n",
    "ax.plot(data[inliers, 0], data[inliers, 1], '.b', alpha=0.6, label='Inlier data')\n",
    "ax.plot(data[outliers, 0], data[outliers, 1], '.r', alpha=0.6, label='Outlier data')\n",
    "ax.plot(xx, yy, '-b', label='Robust line model')\n",
    "\n",
    "plt.legend(loc='lower left')\n",
    "plt.show()"
   ]
  },
  {
   "cell_type": "markdown",
   "metadata": {},
   "source": [
    "## Exercise: Going interplanetary\n",
    "\n",
    "The sun is one of the most spherical objects in our solar system.\n",
    "According to an [article in Scientific American](http://www.scientificamerican.com/gallery/well-rounded-sun-stays-nearly-spherical-even-when-it-freaks-out/):\n",
    "\n",
    "> Earth's closest star is one of the roundest objects humans have\n",
    "> measured. If you shrank the sun down to beach ball size, the\n",
    "> difference between its north-south and the east-west diameters would\n",
    "> be thinner than the width of a human hair, says Jeffery Kuhn, a\n",
    "> physicist and solar researcher at the University of Hawaii at\n",
    "> Manoa. \"Not only is it very round, but it's too round,\" he adds. The\n",
    "> sun is more spherical and more invariable than theories predict.\n",
    "\n",
    "If the sun is spherical, we should be able to fit a circle to a 2D\n",
    "slice of it!  Your task is to do just that, using RANSAC and scikit-image's CircleModel.\n",
    "\n",
    "Let's start by loading an example image:"
   ]
  },
  {
   "cell_type": "code",
   "execution_count": null,
   "metadata": {},
   "outputs": [],
   "source": [
    "from skimage import io\n",
    "\n",
    "image = io.imread('../images/superprom_prev.jpg')\n",
    "\n",
    "f, ax = plt.subplots(figsize=(8, 8))\n",
    "ax.imshow(image);"
   ]
  },
  {
   "cell_type": "markdown",
   "metadata": {},
   "source": [
    "In this specific image, we got a bit more than we bargained for in the\n",
    "form of magnificently large solar flares.  Let's see if some *canny\n",
    "edge detection* will help isolate the sun's boundaries."
   ]
  },
  {
   "cell_type": "code",
   "execution_count": null,
   "metadata": {},
   "outputs": [],
   "source": [
    "from skimage import feature, color\n",
    "\n",
    "# Step 1: convert the image from color to gray, using `color.rgb2gray`\n",
    "\n",
    "...\n",
    "\n",
    "# Step 2: do edge detection on the image, using `feature.canny`.  Play around with the `sigma`\n",
    "# parameter until you get a reasonable set of edges.\n",
    "\n",
    "f, ax = plt.subplots(figsize=(10, 10))\n",
    "ax.imshow(my_result, cmap='gray')"
   ]
  },
  {
   "cell_type": "markdown",
   "metadata": {},
   "source": [
    "The edges look good, but there's a lot going on inside the sun.  We\n",
    "use RANSAC to fit a robust circle model."
   ]
  },
  {
   "cell_type": "code",
   "execution_count": null,
   "metadata": {},
   "outputs": [],
   "source": [
    "from skimage.measure import CircleModel\n",
    "\n",
    "points = ...    # Let points be an array with coordinate positions of edge pixels found above, shape (N, 2)\n",
    "\n",
    "model_robust, inliers = ransac(...)"
   ]
  },
  {
   "cell_type": "markdown",
   "metadata": {},
   "source": [
    "The parameters of the circle are center x, y and radius:"
   ]
  },
  {
   "cell_type": "code",
   "execution_count": null,
   "metadata": {},
   "outputs": [],
   "source": [
    "model_robust.params"
   ]
  },
  {
   "cell_type": "markdown",
   "metadata": {},
   "source": [
    "Let's visualize the results, drawing a circle on the sun, and also\n",
    "highlighting inlier vs outlier edge pixels:"
   ]
  },
  {
   "cell_type": "code",
   "execution_count": null,
   "metadata": {},
   "outputs": [],
   "source": [
    "from skimage import draw\n",
    "\n",
    "cy, cx, r = model_robust.params\n",
    "\n",
    "f, (ax0, ax1) = plt.subplots(1, 2, figsize=(15, 8))\n",
    "\n",
    "ax0.imshow(image)\n",
    "ax1.imshow(image)\n",
    "\n",
    "ax1.plot(points[inliers, 1], points[inliers, 0], 'b.', markersize=1)\n",
    "ax1.plot(points[~inliers, 1], points[~inliers, 0], 'g.', markersize=1)\n",
    "ax1.axis('image')\n",
    "\n",
    "circle = plt.Circle((cx, cy), radius=r, facecolor='none', linewidth=2)\n",
    "ax0.add_patch(circle);"
   ]
  },
  {
   "cell_type": "markdown",
   "metadata": {},
   "source": [
    "## Exercise: CardShark\n",
    "\n",
    "Your small start-up, CardShark, that you run from your garage over nights and\n",
    "evenings, takes photos of credit cards and turns them into machine\n",
    "readable information.\n",
    "\n",
    "The first step is to identify where in a photo the credit card is\n",
    "located.\n",
    "\n",
    "1. Load the photo `../images/credit_card.jpg`\n",
    "2. Using RANSAC and LineModelND shown above, find the first most\n",
    "   prominent edge of the card\n",
    "3. Remove the edge points belonging to the most prominent edge, and\n",
    "   repeat the process to find the second, third, and fourth"
   ]
  },
  {
   "cell_type": "code",
   "execution_count": null,
   "metadata": {
    "collapsed": true
   },
   "outputs": [],
   "source": [
    "f, ax = plt.subplots()\n",
    "\n",
    "image = io.imread('../images/credit_card.jpg')\n",
    "ax.imshow(image);"
   ]
  }
 ],
 "metadata": {
  "kernelspec": {
   "display_name": "Python 3",
   "language": "python",
   "name": "python3"
  },
  "language_info": {
   "codemirror_mode": {
    "name": "ipython",
    "version": 3
   },
   "file_extension": ".py",
   "mimetype": "text/x-python",
   "name": "python",
   "nbconvert_exporter": "python",
   "pygments_lexer": "ipython3",
   "version": "3.6.0"
  }
 },
 "nbformat": 4,
 "nbformat_minor": 1
}
