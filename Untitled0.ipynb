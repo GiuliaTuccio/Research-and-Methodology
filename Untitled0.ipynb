{
  "nbformat": 4,
  "nbformat_minor": 0,
  "metadata": {
    "colab": {
      "name": "Untitled0.ipynb",
      "provenance": [],
      "collapsed_sections": [],
      "include_colab_link": true
    },
    "kernelspec": {
      "name": "python3",
      "display_name": "Python 3"
    },
    "language_info": {
      "name": "python"
    },
    "accelerator": "GPU",
    "widgets": {
      "application/vnd.jupyter.widget-state+json": {
        "e063044fce76459d8da4ca001cb9a7a0": {
          "model_module": "@jupyter-widgets/controls",
          "model_name": "HBoxModel",
          "model_module_version": "1.5.0",
          "state": {
            "_view_name": "HBoxView",
            "_dom_classes": [],
            "_model_name": "HBoxModel",
            "_view_module": "@jupyter-widgets/controls",
            "_model_module_version": "1.5.0",
            "_view_count": null,
            "_view_module_version": "1.5.0",
            "box_style": "",
            "layout": "IPY_MODEL_198ff8340f92462d879fb448c40dced9",
            "_model_module": "@jupyter-widgets/controls",
            "children": [
              "IPY_MODEL_e15188cc79d74cfc98468ca6498c6349",
              "IPY_MODEL_b11a448586c649379993e8d6e79e1fa0",
              "IPY_MODEL_96d2da821c1f43a2ae4220af5e0ddc12"
            ]
          }
        },
        "198ff8340f92462d879fb448c40dced9": {
          "model_module": "@jupyter-widgets/base",
          "model_name": "LayoutModel",
          "model_module_version": "1.2.0",
          "state": {
            "_view_name": "LayoutView",
            "grid_template_rows": null,
            "right": null,
            "justify_content": null,
            "_view_module": "@jupyter-widgets/base",
            "overflow": null,
            "_model_module_version": "1.2.0",
            "_view_count": null,
            "flex_flow": null,
            "width": null,
            "min_width": null,
            "border": null,
            "align_items": null,
            "bottom": null,
            "_model_module": "@jupyter-widgets/base",
            "top": null,
            "grid_column": null,
            "overflow_y": null,
            "overflow_x": null,
            "grid_auto_flow": null,
            "grid_area": null,
            "grid_template_columns": null,
            "flex": null,
            "_model_name": "LayoutModel",
            "justify_items": null,
            "grid_row": null,
            "max_height": null,
            "align_content": null,
            "visibility": null,
            "align_self": null,
            "height": null,
            "min_height": null,
            "padding": null,
            "grid_auto_rows": null,
            "grid_gap": null,
            "max_width": null,
            "order": null,
            "_view_module_version": "1.2.0",
            "grid_template_areas": null,
            "object_position": null,
            "object_fit": null,
            "grid_auto_columns": null,
            "margin": null,
            "display": null,
            "left": null
          }
        },
        "e15188cc79d74cfc98468ca6498c6349": {
          "model_module": "@jupyter-widgets/controls",
          "model_name": "HTMLModel",
          "model_module_version": "1.5.0",
          "state": {
            "_view_name": "HTMLView",
            "style": "IPY_MODEL_ea16a359518d49f59fc7af96c42b2fb2",
            "_dom_classes": [],
            "description": "",
            "_model_name": "HTMLModel",
            "placeholder": "​",
            "_view_module": "@jupyter-widgets/controls",
            "_model_module_version": "1.5.0",
            "value": "Epoch: 100%",
            "_view_count": null,
            "_view_module_version": "1.5.0",
            "description_tooltip": null,
            "_model_module": "@jupyter-widgets/controls",
            "layout": "IPY_MODEL_a1a771a1e1194798ab445a47bff18900"
          }
        },
        "b11a448586c649379993e8d6e79e1fa0": {
          "model_module": "@jupyter-widgets/controls",
          "model_name": "FloatProgressModel",
          "model_module_version": "1.5.0",
          "state": {
            "_view_name": "ProgressView",
            "style": "IPY_MODEL_b3c9fdead708463e9fe790603b27a19a",
            "_dom_classes": [],
            "description": "",
            "_model_name": "FloatProgressModel",
            "bar_style": "success",
            "max": 1,
            "_view_module": "@jupyter-widgets/controls",
            "_model_module_version": "1.5.0",
            "value": 1,
            "_view_count": null,
            "_view_module_version": "1.5.0",
            "orientation": "horizontal",
            "min": 0,
            "description_tooltip": null,
            "_model_module": "@jupyter-widgets/controls",
            "layout": "IPY_MODEL_f58b94e3429a4ab390b15ff56945ba41"
          }
        },
        "96d2da821c1f43a2ae4220af5e0ddc12": {
          "model_module": "@jupyter-widgets/controls",
          "model_name": "HTMLModel",
          "model_module_version": "1.5.0",
          "state": {
            "_view_name": "HTMLView",
            "style": "IPY_MODEL_80e012c0b44f48baa20c874aa82ecfa4",
            "_dom_classes": [],
            "description": "",
            "_model_name": "HTMLModel",
            "placeholder": "​",
            "_view_module": "@jupyter-widgets/controls",
            "_model_module_version": "1.5.0",
            "value": " 1/1 [4:31:59&lt;00:00, 16319.16s/it]",
            "_view_count": null,
            "_view_module_version": "1.5.0",
            "description_tooltip": null,
            "_model_module": "@jupyter-widgets/controls",
            "layout": "IPY_MODEL_286b399ed3e1468092478b2be0c26ed7"
          }
        },
        "ea16a359518d49f59fc7af96c42b2fb2": {
          "model_module": "@jupyter-widgets/controls",
          "model_name": "DescriptionStyleModel",
          "model_module_version": "1.5.0",
          "state": {
            "_view_name": "StyleView",
            "_model_name": "DescriptionStyleModel",
            "description_width": "",
            "_view_module": "@jupyter-widgets/base",
            "_model_module_version": "1.5.0",
            "_view_count": null,
            "_view_module_version": "1.2.0",
            "_model_module": "@jupyter-widgets/controls"
          }
        },
        "a1a771a1e1194798ab445a47bff18900": {
          "model_module": "@jupyter-widgets/base",
          "model_name": "LayoutModel",
          "model_module_version": "1.2.0",
          "state": {
            "_view_name": "LayoutView",
            "grid_template_rows": null,
            "right": null,
            "justify_content": null,
            "_view_module": "@jupyter-widgets/base",
            "overflow": null,
            "_model_module_version": "1.2.0",
            "_view_count": null,
            "flex_flow": null,
            "width": null,
            "min_width": null,
            "border": null,
            "align_items": null,
            "bottom": null,
            "_model_module": "@jupyter-widgets/base",
            "top": null,
            "grid_column": null,
            "overflow_y": null,
            "overflow_x": null,
            "grid_auto_flow": null,
            "grid_area": null,
            "grid_template_columns": null,
            "flex": null,
            "_model_name": "LayoutModel",
            "justify_items": null,
            "grid_row": null,
            "max_height": null,
            "align_content": null,
            "visibility": null,
            "align_self": null,
            "height": null,
            "min_height": null,
            "padding": null,
            "grid_auto_rows": null,
            "grid_gap": null,
            "max_width": null,
            "order": null,
            "_view_module_version": "1.2.0",
            "grid_template_areas": null,
            "object_position": null,
            "object_fit": null,
            "grid_auto_columns": null,
            "margin": null,
            "display": null,
            "left": null
          }
        },
        "b3c9fdead708463e9fe790603b27a19a": {
          "model_module": "@jupyter-widgets/controls",
          "model_name": "ProgressStyleModel",
          "model_module_version": "1.5.0",
          "state": {
            "_view_name": "StyleView",
            "_model_name": "ProgressStyleModel",
            "description_width": "",
            "_view_module": "@jupyter-widgets/base",
            "_model_module_version": "1.5.0",
            "_view_count": null,
            "_view_module_version": "1.2.0",
            "bar_color": null,
            "_model_module": "@jupyter-widgets/controls"
          }
        },
        "f58b94e3429a4ab390b15ff56945ba41": {
          "model_module": "@jupyter-widgets/base",
          "model_name": "LayoutModel",
          "model_module_version": "1.2.0",
          "state": {
            "_view_name": "LayoutView",
            "grid_template_rows": null,
            "right": null,
            "justify_content": null,
            "_view_module": "@jupyter-widgets/base",
            "overflow": null,
            "_model_module_version": "1.2.0",
            "_view_count": null,
            "flex_flow": null,
            "width": null,
            "min_width": null,
            "border": null,
            "align_items": null,
            "bottom": null,
            "_model_module": "@jupyter-widgets/base",
            "top": null,
            "grid_column": null,
            "overflow_y": null,
            "overflow_x": null,
            "grid_auto_flow": null,
            "grid_area": null,
            "grid_template_columns": null,
            "flex": null,
            "_model_name": "LayoutModel",
            "justify_items": null,
            "grid_row": null,
            "max_height": null,
            "align_content": null,
            "visibility": null,
            "align_self": null,
            "height": null,
            "min_height": null,
            "padding": null,
            "grid_auto_rows": null,
            "grid_gap": null,
            "max_width": null,
            "order": null,
            "_view_module_version": "1.2.0",
            "grid_template_areas": null,
            "object_position": null,
            "object_fit": null,
            "grid_auto_columns": null,
            "margin": null,
            "display": null,
            "left": null
          }
        },
        "80e012c0b44f48baa20c874aa82ecfa4": {
          "model_module": "@jupyter-widgets/controls",
          "model_name": "DescriptionStyleModel",
          "model_module_version": "1.5.0",
          "state": {
            "_view_name": "StyleView",
            "_model_name": "DescriptionStyleModel",
            "description_width": "",
            "_view_module": "@jupyter-widgets/base",
            "_model_module_version": "1.5.0",
            "_view_count": null,
            "_view_module_version": "1.2.0",
            "_model_module": "@jupyter-widgets/controls"
          }
        },
        "286b399ed3e1468092478b2be0c26ed7": {
          "model_module": "@jupyter-widgets/base",
          "model_name": "LayoutModel",
          "model_module_version": "1.2.0",
          "state": {
            "_view_name": "LayoutView",
            "grid_template_rows": null,
            "right": null,
            "justify_content": null,
            "_view_module": "@jupyter-widgets/base",
            "overflow": null,
            "_model_module_version": "1.2.0",
            "_view_count": null,
            "flex_flow": null,
            "width": null,
            "min_width": null,
            "border": null,
            "align_items": null,
            "bottom": null,
            "_model_module": "@jupyter-widgets/base",
            "top": null,
            "grid_column": null,
            "overflow_y": null,
            "overflow_x": null,
            "grid_auto_flow": null,
            "grid_area": null,
            "grid_template_columns": null,
            "flex": null,
            "_model_name": "LayoutModel",
            "justify_items": null,
            "grid_row": null,
            "max_height": null,
            "align_content": null,
            "visibility": null,
            "align_self": null,
            "height": null,
            "min_height": null,
            "padding": null,
            "grid_auto_rows": null,
            "grid_gap": null,
            "max_width": null,
            "order": null,
            "_view_module_version": "1.2.0",
            "grid_template_areas": null,
            "object_position": null,
            "object_fit": null,
            "grid_auto_columns": null,
            "margin": null,
            "display": null,
            "left": null
          }
        },
        "204eda695db8419683e0ffb509b8f1e6": {
          "model_module": "@jupyter-widgets/controls",
          "model_name": "HBoxModel",
          "model_module_version": "1.5.0",
          "state": {
            "_view_name": "HBoxView",
            "_dom_classes": [],
            "_model_name": "HBoxModel",
            "_view_module": "@jupyter-widgets/controls",
            "_model_module_version": "1.5.0",
            "_view_count": null,
            "_view_module_version": "1.5.0",
            "box_style": "",
            "layout": "IPY_MODEL_08640326df8d47e2be813b2c17de06ed",
            "_model_module": "@jupyter-widgets/controls",
            "children": [
              "IPY_MODEL_42f33845d55645758d91fa708171edc5",
              "IPY_MODEL_5e7014649557473387497dfad82d844a",
              "IPY_MODEL_67faf404ef394c0790feb09656204212"
            ]
          }
        },
        "08640326df8d47e2be813b2c17de06ed": {
          "model_module": "@jupyter-widgets/base",
          "model_name": "LayoutModel",
          "model_module_version": "1.2.0",
          "state": {
            "_view_name": "LayoutView",
            "grid_template_rows": null,
            "right": null,
            "justify_content": null,
            "_view_module": "@jupyter-widgets/base",
            "overflow": null,
            "_model_module_version": "1.2.0",
            "_view_count": null,
            "flex_flow": null,
            "width": null,
            "min_width": null,
            "border": null,
            "align_items": null,
            "bottom": null,
            "_model_module": "@jupyter-widgets/base",
            "top": null,
            "grid_column": null,
            "overflow_y": null,
            "overflow_x": null,
            "grid_auto_flow": null,
            "grid_area": null,
            "grid_template_columns": null,
            "flex": null,
            "_model_name": "LayoutModel",
            "justify_items": null,
            "grid_row": null,
            "max_height": null,
            "align_content": null,
            "visibility": null,
            "align_self": null,
            "height": null,
            "min_height": null,
            "padding": null,
            "grid_auto_rows": null,
            "grid_gap": null,
            "max_width": null,
            "order": null,
            "_view_module_version": "1.2.0",
            "grid_template_areas": null,
            "object_position": null,
            "object_fit": null,
            "grid_auto_columns": null,
            "margin": null,
            "display": null,
            "left": null
          }
        },
        "42f33845d55645758d91fa708171edc5": {
          "model_module": "@jupyter-widgets/controls",
          "model_name": "HTMLModel",
          "model_module_version": "1.5.0",
          "state": {
            "_view_name": "HTMLView",
            "style": "IPY_MODEL_940b13033c9549d2b2e4fe29300cb404",
            "_dom_classes": [],
            "description": "",
            "_model_name": "HTMLModel",
            "placeholder": "​",
            "_view_module": "@jupyter-widgets/controls",
            "_model_module_version": "1.5.0",
            "value": "Iteration: 100%",
            "_view_count": null,
            "_view_module_version": "1.5.0",
            "description_tooltip": null,
            "_model_module": "@jupyter-widgets/controls",
            "layout": "IPY_MODEL_e80c9f04dace4801957f9734c5cb0db3"
          }
        },
        "5e7014649557473387497dfad82d844a": {
          "model_module": "@jupyter-widgets/controls",
          "model_name": "FloatProgressModel",
          "model_module_version": "1.5.0",
          "state": {
            "_view_name": "ProgressView",
            "style": "IPY_MODEL_e59e3c9535f34634bf6707088f7a80b5",
            "_dom_classes": [],
            "description": "",
            "_model_name": "FloatProgressModel",
            "bar_style": "success",
            "max": 34385,
            "_view_module": "@jupyter-widgets/controls",
            "_model_module_version": "1.5.0",
            "value": 34385,
            "_view_count": null,
            "_view_module_version": "1.5.0",
            "orientation": "horizontal",
            "min": 0,
            "description_tooltip": null,
            "_model_module": "@jupyter-widgets/controls",
            "layout": "IPY_MODEL_b9ae416fd1904e4f9d0ada952a330fbb"
          }
        },
        "67faf404ef394c0790feb09656204212": {
          "model_module": "@jupyter-widgets/controls",
          "model_name": "HTMLModel",
          "model_module_version": "1.5.0",
          "state": {
            "_view_name": "HTMLView",
            "style": "IPY_MODEL_02d43f6214524ee5b8908e4c8eb0248a",
            "_dom_classes": [],
            "description": "",
            "_model_name": "HTMLModel",
            "placeholder": "​",
            "_view_module": "@jupyter-widgets/controls",
            "_model_module_version": "1.5.0",
            "value": " 34385/34385 [4:30:55&lt;00:00,  2.42it/s]",
            "_view_count": null,
            "_view_module_version": "1.5.0",
            "description_tooltip": null,
            "_model_module": "@jupyter-widgets/controls",
            "layout": "IPY_MODEL_0b8687306af14ab080616f238bad6d4a"
          }
        },
        "940b13033c9549d2b2e4fe29300cb404": {
          "model_module": "@jupyter-widgets/controls",
          "model_name": "DescriptionStyleModel",
          "model_module_version": "1.5.0",
          "state": {
            "_view_name": "StyleView",
            "_model_name": "DescriptionStyleModel",
            "description_width": "",
            "_view_module": "@jupyter-widgets/base",
            "_model_module_version": "1.5.0",
            "_view_count": null,
            "_view_module_version": "1.2.0",
            "_model_module": "@jupyter-widgets/controls"
          }
        },
        "e80c9f04dace4801957f9734c5cb0db3": {
          "model_module": "@jupyter-widgets/base",
          "model_name": "LayoutModel",
          "model_module_version": "1.2.0",
          "state": {
            "_view_name": "LayoutView",
            "grid_template_rows": null,
            "right": null,
            "justify_content": null,
            "_view_module": "@jupyter-widgets/base",
            "overflow": null,
            "_model_module_version": "1.2.0",
            "_view_count": null,
            "flex_flow": null,
            "width": null,
            "min_width": null,
            "border": null,
            "align_items": null,
            "bottom": null,
            "_model_module": "@jupyter-widgets/base",
            "top": null,
            "grid_column": null,
            "overflow_y": null,
            "overflow_x": null,
            "grid_auto_flow": null,
            "grid_area": null,
            "grid_template_columns": null,
            "flex": null,
            "_model_name": "LayoutModel",
            "justify_items": null,
            "grid_row": null,
            "max_height": null,
            "align_content": null,
            "visibility": null,
            "align_self": null,
            "height": null,
            "min_height": null,
            "padding": null,
            "grid_auto_rows": null,
            "grid_gap": null,
            "max_width": null,
            "order": null,
            "_view_module_version": "1.2.0",
            "grid_template_areas": null,
            "object_position": null,
            "object_fit": null,
            "grid_auto_columns": null,
            "margin": null,
            "display": null,
            "left": null
          }
        },
        "e59e3c9535f34634bf6707088f7a80b5": {
          "model_module": "@jupyter-widgets/controls",
          "model_name": "ProgressStyleModel",
          "model_module_version": "1.5.0",
          "state": {
            "_view_name": "StyleView",
            "_model_name": "ProgressStyleModel",
            "description_width": "",
            "_view_module": "@jupyter-widgets/base",
            "_model_module_version": "1.5.0",
            "_view_count": null,
            "_view_module_version": "1.2.0",
            "bar_color": null,
            "_model_module": "@jupyter-widgets/controls"
          }
        },
        "b9ae416fd1904e4f9d0ada952a330fbb": {
          "model_module": "@jupyter-widgets/base",
          "model_name": "LayoutModel",
          "model_module_version": "1.2.0",
          "state": {
            "_view_name": "LayoutView",
            "grid_template_rows": null,
            "right": null,
            "justify_content": null,
            "_view_module": "@jupyter-widgets/base",
            "overflow": null,
            "_model_module_version": "1.2.0",
            "_view_count": null,
            "flex_flow": null,
            "width": null,
            "min_width": null,
            "border": null,
            "align_items": null,
            "bottom": null,
            "_model_module": "@jupyter-widgets/base",
            "top": null,
            "grid_column": null,
            "overflow_y": null,
            "overflow_x": null,
            "grid_auto_flow": null,
            "grid_area": null,
            "grid_template_columns": null,
            "flex": null,
            "_model_name": "LayoutModel",
            "justify_items": null,
            "grid_row": null,
            "max_height": null,
            "align_content": null,
            "visibility": null,
            "align_self": null,
            "height": null,
            "min_height": null,
            "padding": null,
            "grid_auto_rows": null,
            "grid_gap": null,
            "max_width": null,
            "order": null,
            "_view_module_version": "1.2.0",
            "grid_template_areas": null,
            "object_position": null,
            "object_fit": null,
            "grid_auto_columns": null,
            "margin": null,
            "display": null,
            "left": null
          }
        },
        "02d43f6214524ee5b8908e4c8eb0248a": {
          "model_module": "@jupyter-widgets/controls",
          "model_name": "DescriptionStyleModel",
          "model_module_version": "1.5.0",
          "state": {
            "_view_name": "StyleView",
            "_model_name": "DescriptionStyleModel",
            "description_width": "",
            "_view_module": "@jupyter-widgets/base",
            "_model_module_version": "1.5.0",
            "_view_count": null,
            "_view_module_version": "1.2.0",
            "_model_module": "@jupyter-widgets/controls"
          }
        },
        "0b8687306af14ab080616f238bad6d4a": {
          "model_module": "@jupyter-widgets/base",
          "model_name": "LayoutModel",
          "model_module_version": "1.2.0",
          "state": {
            "_view_name": "LayoutView",
            "grid_template_rows": null,
            "right": null,
            "justify_content": null,
            "_view_module": "@jupyter-widgets/base",
            "overflow": null,
            "_model_module_version": "1.2.0",
            "_view_count": null,
            "flex_flow": null,
            "width": null,
            "min_width": null,
            "border": null,
            "align_items": null,
            "bottom": null,
            "_model_module": "@jupyter-widgets/base",
            "top": null,
            "grid_column": null,
            "overflow_y": null,
            "overflow_x": null,
            "grid_auto_flow": null,
            "grid_area": null,
            "grid_template_columns": null,
            "flex": null,
            "_model_name": "LayoutModel",
            "justify_items": null,
            "grid_row": null,
            "max_height": null,
            "align_content": null,
            "visibility": null,
            "align_self": null,
            "height": null,
            "min_height": null,
            "padding": null,
            "grid_auto_rows": null,
            "grid_gap": null,
            "max_width": null,
            "order": null,
            "_view_module_version": "1.2.0",
            "grid_template_areas": null,
            "object_position": null,
            "object_fit": null,
            "grid_auto_columns": null,
            "margin": null,
            "display": null,
            "left": null
          }
        },
        "bd957d6bb2e441ed9bca7c01031e4b8e": {
          "model_module": "@jupyter-widgets/controls",
          "model_name": "HBoxModel",
          "model_module_version": "1.5.0",
          "state": {
            "_view_name": "HBoxView",
            "_dom_classes": [],
            "_model_name": "HBoxModel",
            "_view_module": "@jupyter-widgets/controls",
            "_model_module_version": "1.5.0",
            "_view_count": null,
            "_view_module_version": "1.5.0",
            "box_style": "",
            "layout": "IPY_MODEL_c4ca7cfb575b4050af4ca8cf365721f1",
            "_model_module": "@jupyter-widgets/controls",
            "children": [
              "IPY_MODEL_edb84cf90e5a46eb80b6c8eb17fe561d",
              "IPY_MODEL_a501577b628a4df78a2217fc811e4401",
              "IPY_MODEL_6297dd9d72a94dc0a46b3d611a7b7a12"
            ]
          }
        },
        "c4ca7cfb575b4050af4ca8cf365721f1": {
          "model_module": "@jupyter-widgets/base",
          "model_name": "LayoutModel",
          "model_module_version": "1.2.0",
          "state": {
            "_view_name": "LayoutView",
            "grid_template_rows": null,
            "right": null,
            "justify_content": null,
            "_view_module": "@jupyter-widgets/base",
            "overflow": null,
            "_model_module_version": "1.2.0",
            "_view_count": null,
            "flex_flow": null,
            "width": null,
            "min_width": null,
            "border": null,
            "align_items": null,
            "bottom": null,
            "_model_module": "@jupyter-widgets/base",
            "top": null,
            "grid_column": null,
            "overflow_y": null,
            "overflow_x": null,
            "grid_auto_flow": null,
            "grid_area": null,
            "grid_template_columns": null,
            "flex": null,
            "_model_name": "LayoutModel",
            "justify_items": null,
            "grid_row": null,
            "max_height": null,
            "align_content": null,
            "visibility": null,
            "align_self": null,
            "height": null,
            "min_height": null,
            "padding": null,
            "grid_auto_rows": null,
            "grid_gap": null,
            "max_width": null,
            "order": null,
            "_view_module_version": "1.2.0",
            "grid_template_areas": null,
            "object_position": null,
            "object_fit": null,
            "grid_auto_columns": null,
            "margin": null,
            "display": null,
            "left": null
          }
        },
        "edb84cf90e5a46eb80b6c8eb17fe561d": {
          "model_module": "@jupyter-widgets/controls",
          "model_name": "HTMLModel",
          "model_module_version": "1.5.0",
          "state": {
            "_view_name": "HTMLView",
            "style": "IPY_MODEL_5e12b2232a3449f08f8c80979bce6dc3",
            "_dom_classes": [],
            "description": "",
            "_model_name": "HTMLModel",
            "placeholder": "​",
            "_view_module": "@jupyter-widgets/controls",
            "_model_module_version": "1.5.0",
            "value": "Downloading: 100%",
            "_view_count": null,
            "_view_module_version": "1.5.0",
            "description_tooltip": null,
            "_model_module": "@jupyter-widgets/controls",
            "layout": "IPY_MODEL_407faea7331e40e2930b9c9c02aac76f"
          }
        },
        "a501577b628a4df78a2217fc811e4401": {
          "model_module": "@jupyter-widgets/controls",
          "model_name": "FloatProgressModel",
          "model_module_version": "1.5.0",
          "state": {
            "_view_name": "ProgressView",
            "style": "IPY_MODEL_d19a9060690f4f07b545b9e4a11b731b",
            "_dom_classes": [],
            "description": "",
            "_model_name": "FloatProgressModel",
            "bar_style": "success",
            "max": 570,
            "_view_module": "@jupyter-widgets/controls",
            "_model_module_version": "1.5.0",
            "value": 570,
            "_view_count": null,
            "_view_module_version": "1.5.0",
            "orientation": "horizontal",
            "min": 0,
            "description_tooltip": null,
            "_model_module": "@jupyter-widgets/controls",
            "layout": "IPY_MODEL_a10de484e8884f1889ea6c4765f913fe"
          }
        },
        "6297dd9d72a94dc0a46b3d611a7b7a12": {
          "model_module": "@jupyter-widgets/controls",
          "model_name": "HTMLModel",
          "model_module_version": "1.5.0",
          "state": {
            "_view_name": "HTMLView",
            "style": "IPY_MODEL_aa2ebd9183ed4a818997dd9eafa28cce",
            "_dom_classes": [],
            "description": "",
            "_model_name": "HTMLModel",
            "placeholder": "​",
            "_view_module": "@jupyter-widgets/controls",
            "_model_module_version": "1.5.0",
            "value": " 570/570 [00:00&lt;00:00, 13.7kB/s]",
            "_view_count": null,
            "_view_module_version": "1.5.0",
            "description_tooltip": null,
            "_model_module": "@jupyter-widgets/controls",
            "layout": "IPY_MODEL_5ef43cafbac4419db15556db0fc0824a"
          }
        },
        "5e12b2232a3449f08f8c80979bce6dc3": {
          "model_module": "@jupyter-widgets/controls",
          "model_name": "DescriptionStyleModel",
          "model_module_version": "1.5.0",
          "state": {
            "_view_name": "StyleView",
            "_model_name": "DescriptionStyleModel",
            "description_width": "",
            "_view_module": "@jupyter-widgets/base",
            "_model_module_version": "1.5.0",
            "_view_count": null,
            "_view_module_version": "1.2.0",
            "_model_module": "@jupyter-widgets/controls"
          }
        },
        "407faea7331e40e2930b9c9c02aac76f": {
          "model_module": "@jupyter-widgets/base",
          "model_name": "LayoutModel",
          "model_module_version": "1.2.0",
          "state": {
            "_view_name": "LayoutView",
            "grid_template_rows": null,
            "right": null,
            "justify_content": null,
            "_view_module": "@jupyter-widgets/base",
            "overflow": null,
            "_model_module_version": "1.2.0",
            "_view_count": null,
            "flex_flow": null,
            "width": null,
            "min_width": null,
            "border": null,
            "align_items": null,
            "bottom": null,
            "_model_module": "@jupyter-widgets/base",
            "top": null,
            "grid_column": null,
            "overflow_y": null,
            "overflow_x": null,
            "grid_auto_flow": null,
            "grid_area": null,
            "grid_template_columns": null,
            "flex": null,
            "_model_name": "LayoutModel",
            "justify_items": null,
            "grid_row": null,
            "max_height": null,
            "align_content": null,
            "visibility": null,
            "align_self": null,
            "height": null,
            "min_height": null,
            "padding": null,
            "grid_auto_rows": null,
            "grid_gap": null,
            "max_width": null,
            "order": null,
            "_view_module_version": "1.2.0",
            "grid_template_areas": null,
            "object_position": null,
            "object_fit": null,
            "grid_auto_columns": null,
            "margin": null,
            "display": null,
            "left": null
          }
        },
        "d19a9060690f4f07b545b9e4a11b731b": {
          "model_module": "@jupyter-widgets/controls",
          "model_name": "ProgressStyleModel",
          "model_module_version": "1.5.0",
          "state": {
            "_view_name": "StyleView",
            "_model_name": "ProgressStyleModel",
            "description_width": "",
            "_view_module": "@jupyter-widgets/base",
            "_model_module_version": "1.5.0",
            "_view_count": null,
            "_view_module_version": "1.2.0",
            "bar_color": null,
            "_model_module": "@jupyter-widgets/controls"
          }
        },
        "a10de484e8884f1889ea6c4765f913fe": {
          "model_module": "@jupyter-widgets/base",
          "model_name": "LayoutModel",
          "model_module_version": "1.2.0",
          "state": {
            "_view_name": "LayoutView",
            "grid_template_rows": null,
            "right": null,
            "justify_content": null,
            "_view_module": "@jupyter-widgets/base",
            "overflow": null,
            "_model_module_version": "1.2.0",
            "_view_count": null,
            "flex_flow": null,
            "width": null,
            "min_width": null,
            "border": null,
            "align_items": null,
            "bottom": null,
            "_model_module": "@jupyter-widgets/base",
            "top": null,
            "grid_column": null,
            "overflow_y": null,
            "overflow_x": null,
            "grid_auto_flow": null,
            "grid_area": null,
            "grid_template_columns": null,
            "flex": null,
            "_model_name": "LayoutModel",
            "justify_items": null,
            "grid_row": null,
            "max_height": null,
            "align_content": null,
            "visibility": null,
            "align_self": null,
            "height": null,
            "min_height": null,
            "padding": null,
            "grid_auto_rows": null,
            "grid_gap": null,
            "max_width": null,
            "order": null,
            "_view_module_version": "1.2.0",
            "grid_template_areas": null,
            "object_position": null,
            "object_fit": null,
            "grid_auto_columns": null,
            "margin": null,
            "display": null,
            "left": null
          }
        },
        "aa2ebd9183ed4a818997dd9eafa28cce": {
          "model_module": "@jupyter-widgets/controls",
          "model_name": "DescriptionStyleModel",
          "model_module_version": "1.5.0",
          "state": {
            "_view_name": "StyleView",
            "_model_name": "DescriptionStyleModel",
            "description_width": "",
            "_view_module": "@jupyter-widgets/base",
            "_model_module_version": "1.5.0",
            "_view_count": null,
            "_view_module_version": "1.2.0",
            "_model_module": "@jupyter-widgets/controls"
          }
        },
        "5ef43cafbac4419db15556db0fc0824a": {
          "model_module": "@jupyter-widgets/base",
          "model_name": "LayoutModel",
          "model_module_version": "1.2.0",
          "state": {
            "_view_name": "LayoutView",
            "grid_template_rows": null,
            "right": null,
            "justify_content": null,
            "_view_module": "@jupyter-widgets/base",
            "overflow": null,
            "_model_module_version": "1.2.0",
            "_view_count": null,
            "flex_flow": null,
            "width": null,
            "min_width": null,
            "border": null,
            "align_items": null,
            "bottom": null,
            "_model_module": "@jupyter-widgets/base",
            "top": null,
            "grid_column": null,
            "overflow_y": null,
            "overflow_x": null,
            "grid_auto_flow": null,
            "grid_area": null,
            "grid_template_columns": null,
            "flex": null,
            "_model_name": "LayoutModel",
            "justify_items": null,
            "grid_row": null,
            "max_height": null,
            "align_content": null,
            "visibility": null,
            "align_self": null,
            "height": null,
            "min_height": null,
            "padding": null,
            "grid_auto_rows": null,
            "grid_gap": null,
            "max_width": null,
            "order": null,
            "_view_module_version": "1.2.0",
            "grid_template_areas": null,
            "object_position": null,
            "object_fit": null,
            "grid_auto_columns": null,
            "margin": null,
            "display": null,
            "left": null
          }
        },
        "8cc240554f49414eb05c182d4af22530": {
          "model_module": "@jupyter-widgets/controls",
          "model_name": "HBoxModel",
          "model_module_version": "1.5.0",
          "state": {
            "_view_name": "HBoxView",
            "_dom_classes": [],
            "_model_name": "HBoxModel",
            "_view_module": "@jupyter-widgets/controls",
            "_model_module_version": "1.5.0",
            "_view_count": null,
            "_view_module_version": "1.5.0",
            "box_style": "",
            "layout": "IPY_MODEL_11a4000a7f8844dba4de947e82b3c913",
            "_model_module": "@jupyter-widgets/controls",
            "children": [
              "IPY_MODEL_89b48dd01ab040e5bdc22095b75a1e1a",
              "IPY_MODEL_1a4a2a5056fc41c09acc32626a9d2ede",
              "IPY_MODEL_ddbe00774b604259abbcd67ff764225f"
            ]
          }
        },
        "11a4000a7f8844dba4de947e82b3c913": {
          "model_module": "@jupyter-widgets/base",
          "model_name": "LayoutModel",
          "model_module_version": "1.2.0",
          "state": {
            "_view_name": "LayoutView",
            "grid_template_rows": null,
            "right": null,
            "justify_content": null,
            "_view_module": "@jupyter-widgets/base",
            "overflow": null,
            "_model_module_version": "1.2.0",
            "_view_count": null,
            "flex_flow": null,
            "width": null,
            "min_width": null,
            "border": null,
            "align_items": null,
            "bottom": null,
            "_model_module": "@jupyter-widgets/base",
            "top": null,
            "grid_column": null,
            "overflow_y": null,
            "overflow_x": null,
            "grid_auto_flow": null,
            "grid_area": null,
            "grid_template_columns": null,
            "flex": null,
            "_model_name": "LayoutModel",
            "justify_items": null,
            "grid_row": null,
            "max_height": null,
            "align_content": null,
            "visibility": null,
            "align_self": null,
            "height": null,
            "min_height": null,
            "padding": null,
            "grid_auto_rows": null,
            "grid_gap": null,
            "max_width": null,
            "order": null,
            "_view_module_version": "1.2.0",
            "grid_template_areas": null,
            "object_position": null,
            "object_fit": null,
            "grid_auto_columns": null,
            "margin": null,
            "display": null,
            "left": null
          }
        },
        "89b48dd01ab040e5bdc22095b75a1e1a": {
          "model_module": "@jupyter-widgets/controls",
          "model_name": "HTMLModel",
          "model_module_version": "1.5.0",
          "state": {
            "_view_name": "HTMLView",
            "style": "IPY_MODEL_c9ddf6b8a0c04ab280a8c5eff23ad985",
            "_dom_classes": [],
            "description": "",
            "_model_name": "HTMLModel",
            "placeholder": "​",
            "_view_module": "@jupyter-widgets/controls",
            "_model_module_version": "1.5.0",
            "value": "Downloading: 100%",
            "_view_count": null,
            "_view_module_version": "1.5.0",
            "description_tooltip": null,
            "_model_module": "@jupyter-widgets/controls",
            "layout": "IPY_MODEL_3fd87d4fd0024411be36fb7fea275cf8"
          }
        },
        "1a4a2a5056fc41c09acc32626a9d2ede": {
          "model_module": "@jupyter-widgets/controls",
          "model_name": "FloatProgressModel",
          "model_module_version": "1.5.0",
          "state": {
            "_view_name": "ProgressView",
            "style": "IPY_MODEL_75226aff2f724ccb9988007e63405326",
            "_dom_classes": [],
            "description": "",
            "_model_name": "FloatProgressModel",
            "bar_style": "success",
            "max": 440473133,
            "_view_module": "@jupyter-widgets/controls",
            "_model_module_version": "1.5.0",
            "value": 440473133,
            "_view_count": null,
            "_view_module_version": "1.5.0",
            "orientation": "horizontal",
            "min": 0,
            "description_tooltip": null,
            "_model_module": "@jupyter-widgets/controls",
            "layout": "IPY_MODEL_acbe4c5ead60438fa6033bc1f9dfc33c"
          }
        },
        "ddbe00774b604259abbcd67ff764225f": {
          "model_module": "@jupyter-widgets/controls",
          "model_name": "HTMLModel",
          "model_module_version": "1.5.0",
          "state": {
            "_view_name": "HTMLView",
            "style": "IPY_MODEL_4ba0ea4f804144119254ad67847c0298",
            "_dom_classes": [],
            "description": "",
            "_model_name": "HTMLModel",
            "placeholder": "​",
            "_view_module": "@jupyter-widgets/controls",
            "_model_module_version": "1.5.0",
            "value": " 420M/420M [00:13&lt;00:00, 32.8MB/s]",
            "_view_count": null,
            "_view_module_version": "1.5.0",
            "description_tooltip": null,
            "_model_module": "@jupyter-widgets/controls",
            "layout": "IPY_MODEL_8c61edd8127a472b86095f5621a45a52"
          }
        },
        "c9ddf6b8a0c04ab280a8c5eff23ad985": {
          "model_module": "@jupyter-widgets/controls",
          "model_name": "DescriptionStyleModel",
          "model_module_version": "1.5.0",
          "state": {
            "_view_name": "StyleView",
            "_model_name": "DescriptionStyleModel",
            "description_width": "",
            "_view_module": "@jupyter-widgets/base",
            "_model_module_version": "1.5.0",
            "_view_count": null,
            "_view_module_version": "1.2.0",
            "_model_module": "@jupyter-widgets/controls"
          }
        },
        "3fd87d4fd0024411be36fb7fea275cf8": {
          "model_module": "@jupyter-widgets/base",
          "model_name": "LayoutModel",
          "model_module_version": "1.2.0",
          "state": {
            "_view_name": "LayoutView",
            "grid_template_rows": null,
            "right": null,
            "justify_content": null,
            "_view_module": "@jupyter-widgets/base",
            "overflow": null,
            "_model_module_version": "1.2.0",
            "_view_count": null,
            "flex_flow": null,
            "width": null,
            "min_width": null,
            "border": null,
            "align_items": null,
            "bottom": null,
            "_model_module": "@jupyter-widgets/base",
            "top": null,
            "grid_column": null,
            "overflow_y": null,
            "overflow_x": null,
            "grid_auto_flow": null,
            "grid_area": null,
            "grid_template_columns": null,
            "flex": null,
            "_model_name": "LayoutModel",
            "justify_items": null,
            "grid_row": null,
            "max_height": null,
            "align_content": null,
            "visibility": null,
            "align_self": null,
            "height": null,
            "min_height": null,
            "padding": null,
            "grid_auto_rows": null,
            "grid_gap": null,
            "max_width": null,
            "order": null,
            "_view_module_version": "1.2.0",
            "grid_template_areas": null,
            "object_position": null,
            "object_fit": null,
            "grid_auto_columns": null,
            "margin": null,
            "display": null,
            "left": null
          }
        },
        "75226aff2f724ccb9988007e63405326": {
          "model_module": "@jupyter-widgets/controls",
          "model_name": "ProgressStyleModel",
          "model_module_version": "1.5.0",
          "state": {
            "_view_name": "StyleView",
            "_model_name": "ProgressStyleModel",
            "description_width": "",
            "_view_module": "@jupyter-widgets/base",
            "_model_module_version": "1.5.0",
            "_view_count": null,
            "_view_module_version": "1.2.0",
            "bar_color": null,
            "_model_module": "@jupyter-widgets/controls"
          }
        },
        "acbe4c5ead60438fa6033bc1f9dfc33c": {
          "model_module": "@jupyter-widgets/base",
          "model_name": "LayoutModel",
          "model_module_version": "1.2.0",
          "state": {
            "_view_name": "LayoutView",
            "grid_template_rows": null,
            "right": null,
            "justify_content": null,
            "_view_module": "@jupyter-widgets/base",
            "overflow": null,
            "_model_module_version": "1.2.0",
            "_view_count": null,
            "flex_flow": null,
            "width": null,
            "min_width": null,
            "border": null,
            "align_items": null,
            "bottom": null,
            "_model_module": "@jupyter-widgets/base",
            "top": null,
            "grid_column": null,
            "overflow_y": null,
            "overflow_x": null,
            "grid_auto_flow": null,
            "grid_area": null,
            "grid_template_columns": null,
            "flex": null,
            "_model_name": "LayoutModel",
            "justify_items": null,
            "grid_row": null,
            "max_height": null,
            "align_content": null,
            "visibility": null,
            "align_self": null,
            "height": null,
            "min_height": null,
            "padding": null,
            "grid_auto_rows": null,
            "grid_gap": null,
            "max_width": null,
            "order": null,
            "_view_module_version": "1.2.0",
            "grid_template_areas": null,
            "object_position": null,
            "object_fit": null,
            "grid_auto_columns": null,
            "margin": null,
            "display": null,
            "left": null
          }
        },
        "4ba0ea4f804144119254ad67847c0298": {
          "model_module": "@jupyter-widgets/controls",
          "model_name": "DescriptionStyleModel",
          "model_module_version": "1.5.0",
          "state": {
            "_view_name": "StyleView",
            "_model_name": "DescriptionStyleModel",
            "description_width": "",
            "_view_module": "@jupyter-widgets/base",
            "_model_module_version": "1.5.0",
            "_view_count": null,
            "_view_module_version": "1.2.0",
            "_model_module": "@jupyter-widgets/controls"
          }
        },
        "8c61edd8127a472b86095f5621a45a52": {
          "model_module": "@jupyter-widgets/base",
          "model_name": "LayoutModel",
          "model_module_version": "1.2.0",
          "state": {
            "_view_name": "LayoutView",
            "grid_template_rows": null,
            "right": null,
            "justify_content": null,
            "_view_module": "@jupyter-widgets/base",
            "overflow": null,
            "_model_module_version": "1.2.0",
            "_view_count": null,
            "flex_flow": null,
            "width": null,
            "min_width": null,
            "border": null,
            "align_items": null,
            "bottom": null,
            "_model_module": "@jupyter-widgets/base",
            "top": null,
            "grid_column": null,
            "overflow_y": null,
            "overflow_x": null,
            "grid_auto_flow": null,
            "grid_area": null,
            "grid_template_columns": null,
            "flex": null,
            "_model_name": "LayoutModel",
            "justify_items": null,
            "grid_row": null,
            "max_height": null,
            "align_content": null,
            "visibility": null,
            "align_self": null,
            "height": null,
            "min_height": null,
            "padding": null,
            "grid_auto_rows": null,
            "grid_gap": null,
            "max_width": null,
            "order": null,
            "_view_module_version": "1.2.0",
            "grid_template_areas": null,
            "object_position": null,
            "object_fit": null,
            "grid_auto_columns": null,
            "margin": null,
            "display": null,
            "left": null
          }
        },
        "2bab4c4e5fc44d2d9f008aa9af7a2c6a": {
          "model_module": "@jupyter-widgets/controls",
          "model_name": "HBoxModel",
          "model_module_version": "1.5.0",
          "state": {
            "_view_name": "HBoxView",
            "_dom_classes": [],
            "_model_name": "HBoxModel",
            "_view_module": "@jupyter-widgets/controls",
            "_model_module_version": "1.5.0",
            "_view_count": null,
            "_view_module_version": "1.5.0",
            "box_style": "",
            "layout": "IPY_MODEL_2f991f45d2524edb980ec96af845b02c",
            "_model_module": "@jupyter-widgets/controls",
            "children": [
              "IPY_MODEL_a167ae1ced694bf7b334fe828bcb70e9",
              "IPY_MODEL_6ddda0908f6e4de8946f9e8346206012",
              "IPY_MODEL_a2a86242975e45f2b90c06883b7bf70a"
            ]
          }
        },
        "2f991f45d2524edb980ec96af845b02c": {
          "model_module": "@jupyter-widgets/base",
          "model_name": "LayoutModel",
          "model_module_version": "1.2.0",
          "state": {
            "_view_name": "LayoutView",
            "grid_template_rows": null,
            "right": null,
            "justify_content": null,
            "_view_module": "@jupyter-widgets/base",
            "overflow": null,
            "_model_module_version": "1.2.0",
            "_view_count": null,
            "flex_flow": null,
            "width": null,
            "min_width": null,
            "border": null,
            "align_items": null,
            "bottom": null,
            "_model_module": "@jupyter-widgets/base",
            "top": null,
            "grid_column": null,
            "overflow_y": null,
            "overflow_x": null,
            "grid_auto_flow": null,
            "grid_area": null,
            "grid_template_columns": null,
            "flex": null,
            "_model_name": "LayoutModel",
            "justify_items": null,
            "grid_row": null,
            "max_height": null,
            "align_content": null,
            "visibility": null,
            "align_self": null,
            "height": null,
            "min_height": null,
            "padding": null,
            "grid_auto_rows": null,
            "grid_gap": null,
            "max_width": null,
            "order": null,
            "_view_module_version": "1.2.0",
            "grid_template_areas": null,
            "object_position": null,
            "object_fit": null,
            "grid_auto_columns": null,
            "margin": null,
            "display": null,
            "left": null
          }
        },
        "a167ae1ced694bf7b334fe828bcb70e9": {
          "model_module": "@jupyter-widgets/controls",
          "model_name": "HTMLModel",
          "model_module_version": "1.5.0",
          "state": {
            "_view_name": "HTMLView",
            "style": "IPY_MODEL_8ae197bf89924ce0b08ca8ffc36cb8b8",
            "_dom_classes": [],
            "description": "",
            "_model_name": "HTMLModel",
            "placeholder": "​",
            "_view_module": "@jupyter-widgets/controls",
            "_model_module_version": "1.5.0",
            "value": "Downloading: 100%",
            "_view_count": null,
            "_view_module_version": "1.5.0",
            "description_tooltip": null,
            "_model_module": "@jupyter-widgets/controls",
            "layout": "IPY_MODEL_0659ec52385144d2af940ff3dbc9f935"
          }
        },
        "6ddda0908f6e4de8946f9e8346206012": {
          "model_module": "@jupyter-widgets/controls",
          "model_name": "FloatProgressModel",
          "model_module_version": "1.5.0",
          "state": {
            "_view_name": "ProgressView",
            "style": "IPY_MODEL_6408197cb7704a4fa7add9c79bface7b",
            "_dom_classes": [],
            "description": "",
            "_model_name": "FloatProgressModel",
            "bar_style": "success",
            "max": 28,
            "_view_module": "@jupyter-widgets/controls",
            "_model_module_version": "1.5.0",
            "value": 28,
            "_view_count": null,
            "_view_module_version": "1.5.0",
            "orientation": "horizontal",
            "min": 0,
            "description_tooltip": null,
            "_model_module": "@jupyter-widgets/controls",
            "layout": "IPY_MODEL_bdacfc2ca6e14f768bdffc6fabf14222"
          }
        },
        "a2a86242975e45f2b90c06883b7bf70a": {
          "model_module": "@jupyter-widgets/controls",
          "model_name": "HTMLModel",
          "model_module_version": "1.5.0",
          "state": {
            "_view_name": "HTMLView",
            "style": "IPY_MODEL_e07d4622eacf43479c043dd9b6ff0812",
            "_dom_classes": [],
            "description": "",
            "_model_name": "HTMLModel",
            "placeholder": "​",
            "_view_module": "@jupyter-widgets/controls",
            "_model_module_version": "1.5.0",
            "value": " 28.0/28.0 [00:00&lt;00:00, 686B/s]",
            "_view_count": null,
            "_view_module_version": "1.5.0",
            "description_tooltip": null,
            "_model_module": "@jupyter-widgets/controls",
            "layout": "IPY_MODEL_c719dba2e0cd4fb8abe52e40a69a429a"
          }
        },
        "8ae197bf89924ce0b08ca8ffc36cb8b8": {
          "model_module": "@jupyter-widgets/controls",
          "model_name": "DescriptionStyleModel",
          "model_module_version": "1.5.0",
          "state": {
            "_view_name": "StyleView",
            "_model_name": "DescriptionStyleModel",
            "description_width": "",
            "_view_module": "@jupyter-widgets/base",
            "_model_module_version": "1.5.0",
            "_view_count": null,
            "_view_module_version": "1.2.0",
            "_model_module": "@jupyter-widgets/controls"
          }
        },
        "0659ec52385144d2af940ff3dbc9f935": {
          "model_module": "@jupyter-widgets/base",
          "model_name": "LayoutModel",
          "model_module_version": "1.2.0",
          "state": {
            "_view_name": "LayoutView",
            "grid_template_rows": null,
            "right": null,
            "justify_content": null,
            "_view_module": "@jupyter-widgets/base",
            "overflow": null,
            "_model_module_version": "1.2.0",
            "_view_count": null,
            "flex_flow": null,
            "width": null,
            "min_width": null,
            "border": null,
            "align_items": null,
            "bottom": null,
            "_model_module": "@jupyter-widgets/base",
            "top": null,
            "grid_column": null,
            "overflow_y": null,
            "overflow_x": null,
            "grid_auto_flow": null,
            "grid_area": null,
            "grid_template_columns": null,
            "flex": null,
            "_model_name": "LayoutModel",
            "justify_items": null,
            "grid_row": null,
            "max_height": null,
            "align_content": null,
            "visibility": null,
            "align_self": null,
            "height": null,
            "min_height": null,
            "padding": null,
            "grid_auto_rows": null,
            "grid_gap": null,
            "max_width": null,
            "order": null,
            "_view_module_version": "1.2.0",
            "grid_template_areas": null,
            "object_position": null,
            "object_fit": null,
            "grid_auto_columns": null,
            "margin": null,
            "display": null,
            "left": null
          }
        },
        "6408197cb7704a4fa7add9c79bface7b": {
          "model_module": "@jupyter-widgets/controls",
          "model_name": "ProgressStyleModel",
          "model_module_version": "1.5.0",
          "state": {
            "_view_name": "StyleView",
            "_model_name": "ProgressStyleModel",
            "description_width": "",
            "_view_module": "@jupyter-widgets/base",
            "_model_module_version": "1.5.0",
            "_view_count": null,
            "_view_module_version": "1.2.0",
            "bar_color": null,
            "_model_module": "@jupyter-widgets/controls"
          }
        },
        "bdacfc2ca6e14f768bdffc6fabf14222": {
          "model_module": "@jupyter-widgets/base",
          "model_name": "LayoutModel",
          "model_module_version": "1.2.0",
          "state": {
            "_view_name": "LayoutView",
            "grid_template_rows": null,
            "right": null,
            "justify_content": null,
            "_view_module": "@jupyter-widgets/base",
            "overflow": null,
            "_model_module_version": "1.2.0",
            "_view_count": null,
            "flex_flow": null,
            "width": null,
            "min_width": null,
            "border": null,
            "align_items": null,
            "bottom": null,
            "_model_module": "@jupyter-widgets/base",
            "top": null,
            "grid_column": null,
            "overflow_y": null,
            "overflow_x": null,
            "grid_auto_flow": null,
            "grid_area": null,
            "grid_template_columns": null,
            "flex": null,
            "_model_name": "LayoutModel",
            "justify_items": null,
            "grid_row": null,
            "max_height": null,
            "align_content": null,
            "visibility": null,
            "align_self": null,
            "height": null,
            "min_height": null,
            "padding": null,
            "grid_auto_rows": null,
            "grid_gap": null,
            "max_width": null,
            "order": null,
            "_view_module_version": "1.2.0",
            "grid_template_areas": null,
            "object_position": null,
            "object_fit": null,
            "grid_auto_columns": null,
            "margin": null,
            "display": null,
            "left": null
          }
        },
        "e07d4622eacf43479c043dd9b6ff0812": {
          "model_module": "@jupyter-widgets/controls",
          "model_name": "DescriptionStyleModel",
          "model_module_version": "1.5.0",
          "state": {
            "_view_name": "StyleView",
            "_model_name": "DescriptionStyleModel",
            "description_width": "",
            "_view_module": "@jupyter-widgets/base",
            "_model_module_version": "1.5.0",
            "_view_count": null,
            "_view_module_version": "1.2.0",
            "_model_module": "@jupyter-widgets/controls"
          }
        },
        "c719dba2e0cd4fb8abe52e40a69a429a": {
          "model_module": "@jupyter-widgets/base",
          "model_name": "LayoutModel",
          "model_module_version": "1.2.0",
          "state": {
            "_view_name": "LayoutView",
            "grid_template_rows": null,
            "right": null,
            "justify_content": null,
            "_view_module": "@jupyter-widgets/base",
            "overflow": null,
            "_model_module_version": "1.2.0",
            "_view_count": null,
            "flex_flow": null,
            "width": null,
            "min_width": null,
            "border": null,
            "align_items": null,
            "bottom": null,
            "_model_module": "@jupyter-widgets/base",
            "top": null,
            "grid_column": null,
            "overflow_y": null,
            "overflow_x": null,
            "grid_auto_flow": null,
            "grid_area": null,
            "grid_template_columns": null,
            "flex": null,
            "_model_name": "LayoutModel",
            "justify_items": null,
            "grid_row": null,
            "max_height": null,
            "align_content": null,
            "visibility": null,
            "align_self": null,
            "height": null,
            "min_height": null,
            "padding": null,
            "grid_auto_rows": null,
            "grid_gap": null,
            "max_width": null,
            "order": null,
            "_view_module_version": "1.2.0",
            "grid_template_areas": null,
            "object_position": null,
            "object_fit": null,
            "grid_auto_columns": null,
            "margin": null,
            "display": null,
            "left": null
          }
        },
        "98ac76c6a87c49a59bc4154736073ec2": {
          "model_module": "@jupyter-widgets/controls",
          "model_name": "HBoxModel",
          "model_module_version": "1.5.0",
          "state": {
            "_view_name": "HBoxView",
            "_dom_classes": [],
            "_model_name": "HBoxModel",
            "_view_module": "@jupyter-widgets/controls",
            "_model_module_version": "1.5.0",
            "_view_count": null,
            "_view_module_version": "1.5.0",
            "box_style": "",
            "layout": "IPY_MODEL_7ee5cfd8d5784037813966e16eff6140",
            "_model_module": "@jupyter-widgets/controls",
            "children": [
              "IPY_MODEL_3eed70416f7e43cebf65e90e3db032a9",
              "IPY_MODEL_1a79e711196c4b4a9585beb4a6c801a4",
              "IPY_MODEL_74cd5ca442f94277b63426027b4c1bfd"
            ]
          }
        },
        "7ee5cfd8d5784037813966e16eff6140": {
          "model_module": "@jupyter-widgets/base",
          "model_name": "LayoutModel",
          "model_module_version": "1.2.0",
          "state": {
            "_view_name": "LayoutView",
            "grid_template_rows": null,
            "right": null,
            "justify_content": null,
            "_view_module": "@jupyter-widgets/base",
            "overflow": null,
            "_model_module_version": "1.2.0",
            "_view_count": null,
            "flex_flow": null,
            "width": null,
            "min_width": null,
            "border": null,
            "align_items": null,
            "bottom": null,
            "_model_module": "@jupyter-widgets/base",
            "top": null,
            "grid_column": null,
            "overflow_y": null,
            "overflow_x": null,
            "grid_auto_flow": null,
            "grid_area": null,
            "grid_template_columns": null,
            "flex": null,
            "_model_name": "LayoutModel",
            "justify_items": null,
            "grid_row": null,
            "max_height": null,
            "align_content": null,
            "visibility": null,
            "align_self": null,
            "height": null,
            "min_height": null,
            "padding": null,
            "grid_auto_rows": null,
            "grid_gap": null,
            "max_width": null,
            "order": null,
            "_view_module_version": "1.2.0",
            "grid_template_areas": null,
            "object_position": null,
            "object_fit": null,
            "grid_auto_columns": null,
            "margin": null,
            "display": null,
            "left": null
          }
        },
        "3eed70416f7e43cebf65e90e3db032a9": {
          "model_module": "@jupyter-widgets/controls",
          "model_name": "HTMLModel",
          "model_module_version": "1.5.0",
          "state": {
            "_view_name": "HTMLView",
            "style": "IPY_MODEL_5d37d8e642f140a3ab197908862136af",
            "_dom_classes": [],
            "description": "",
            "_model_name": "HTMLModel",
            "placeholder": "​",
            "_view_module": "@jupyter-widgets/controls",
            "_model_module_version": "1.5.0",
            "value": "Downloading: 100%",
            "_view_count": null,
            "_view_module_version": "1.5.0",
            "description_tooltip": null,
            "_model_module": "@jupyter-widgets/controls",
            "layout": "IPY_MODEL_e5bc16bd853649a184ecd2316c884bdb"
          }
        },
        "1a79e711196c4b4a9585beb4a6c801a4": {
          "model_module": "@jupyter-widgets/controls",
          "model_name": "FloatProgressModel",
          "model_module_version": "1.5.0",
          "state": {
            "_view_name": "ProgressView",
            "style": "IPY_MODEL_f3758a9c3de5476ab3cab0f957fc31db",
            "_dom_classes": [],
            "description": "",
            "_model_name": "FloatProgressModel",
            "bar_style": "success",
            "max": 231508,
            "_view_module": "@jupyter-widgets/controls",
            "_model_module_version": "1.5.0",
            "value": 231508,
            "_view_count": null,
            "_view_module_version": "1.5.0",
            "orientation": "horizontal",
            "min": 0,
            "description_tooltip": null,
            "_model_module": "@jupyter-widgets/controls",
            "layout": "IPY_MODEL_9f17d3dcfe7d46258032ed4d96b24234"
          }
        },
        "74cd5ca442f94277b63426027b4c1bfd": {
          "model_module": "@jupyter-widgets/controls",
          "model_name": "HTMLModel",
          "model_module_version": "1.5.0",
          "state": {
            "_view_name": "HTMLView",
            "style": "IPY_MODEL_1d0786ea39134f968219a51b5db3fcfc",
            "_dom_classes": [],
            "description": "",
            "_model_name": "HTMLModel",
            "placeholder": "​",
            "_view_module": "@jupyter-widgets/controls",
            "_model_module_version": "1.5.0",
            "value": " 226k/226k [00:00&lt;00:00, 619kB/s]",
            "_view_count": null,
            "_view_module_version": "1.5.0",
            "description_tooltip": null,
            "_model_module": "@jupyter-widgets/controls",
            "layout": "IPY_MODEL_4ba9bbc578a942f889c61b32497a5bca"
          }
        },
        "5d37d8e642f140a3ab197908862136af": {
          "model_module": "@jupyter-widgets/controls",
          "model_name": "DescriptionStyleModel",
          "model_module_version": "1.5.0",
          "state": {
            "_view_name": "StyleView",
            "_model_name": "DescriptionStyleModel",
            "description_width": "",
            "_view_module": "@jupyter-widgets/base",
            "_model_module_version": "1.5.0",
            "_view_count": null,
            "_view_module_version": "1.2.0",
            "_model_module": "@jupyter-widgets/controls"
          }
        },
        "e5bc16bd853649a184ecd2316c884bdb": {
          "model_module": "@jupyter-widgets/base",
          "model_name": "LayoutModel",
          "model_module_version": "1.2.0",
          "state": {
            "_view_name": "LayoutView",
            "grid_template_rows": null,
            "right": null,
            "justify_content": null,
            "_view_module": "@jupyter-widgets/base",
            "overflow": null,
            "_model_module_version": "1.2.0",
            "_view_count": null,
            "flex_flow": null,
            "width": null,
            "min_width": null,
            "border": null,
            "align_items": null,
            "bottom": null,
            "_model_module": "@jupyter-widgets/base",
            "top": null,
            "grid_column": null,
            "overflow_y": null,
            "overflow_x": null,
            "grid_auto_flow": null,
            "grid_area": null,
            "grid_template_columns": null,
            "flex": null,
            "_model_name": "LayoutModel",
            "justify_items": null,
            "grid_row": null,
            "max_height": null,
            "align_content": null,
            "visibility": null,
            "align_self": null,
            "height": null,
            "min_height": null,
            "padding": null,
            "grid_auto_rows": null,
            "grid_gap": null,
            "max_width": null,
            "order": null,
            "_view_module_version": "1.2.0",
            "grid_template_areas": null,
            "object_position": null,
            "object_fit": null,
            "grid_auto_columns": null,
            "margin": null,
            "display": null,
            "left": null
          }
        },
        "f3758a9c3de5476ab3cab0f957fc31db": {
          "model_module": "@jupyter-widgets/controls",
          "model_name": "ProgressStyleModel",
          "model_module_version": "1.5.0",
          "state": {
            "_view_name": "StyleView",
            "_model_name": "ProgressStyleModel",
            "description_width": "",
            "_view_module": "@jupyter-widgets/base",
            "_model_module_version": "1.5.0",
            "_view_count": null,
            "_view_module_version": "1.2.0",
            "bar_color": null,
            "_model_module": "@jupyter-widgets/controls"
          }
        },
        "9f17d3dcfe7d46258032ed4d96b24234": {
          "model_module": "@jupyter-widgets/base",
          "model_name": "LayoutModel",
          "model_module_version": "1.2.0",
          "state": {
            "_view_name": "LayoutView",
            "grid_template_rows": null,
            "right": null,
            "justify_content": null,
            "_view_module": "@jupyter-widgets/base",
            "overflow": null,
            "_model_module_version": "1.2.0",
            "_view_count": null,
            "flex_flow": null,
            "width": null,
            "min_width": null,
            "border": null,
            "align_items": null,
            "bottom": null,
            "_model_module": "@jupyter-widgets/base",
            "top": null,
            "grid_column": null,
            "overflow_y": null,
            "overflow_x": null,
            "grid_auto_flow": null,
            "grid_area": null,
            "grid_template_columns": null,
            "flex": null,
            "_model_name": "LayoutModel",
            "justify_items": null,
            "grid_row": null,
            "max_height": null,
            "align_content": null,
            "visibility": null,
            "align_self": null,
            "height": null,
            "min_height": null,
            "padding": null,
            "grid_auto_rows": null,
            "grid_gap": null,
            "max_width": null,
            "order": null,
            "_view_module_version": "1.2.0",
            "grid_template_areas": null,
            "object_position": null,
            "object_fit": null,
            "grid_auto_columns": null,
            "margin": null,
            "display": null,
            "left": null
          }
        },
        "1d0786ea39134f968219a51b5db3fcfc": {
          "model_module": "@jupyter-widgets/controls",
          "model_name": "DescriptionStyleModel",
          "model_module_version": "1.5.0",
          "state": {
            "_view_name": "StyleView",
            "_model_name": "DescriptionStyleModel",
            "description_width": "",
            "_view_module": "@jupyter-widgets/base",
            "_model_module_version": "1.5.0",
            "_view_count": null,
            "_view_module_version": "1.2.0",
            "_model_module": "@jupyter-widgets/controls"
          }
        },
        "4ba9bbc578a942f889c61b32497a5bca": {
          "model_module": "@jupyter-widgets/base",
          "model_name": "LayoutModel",
          "model_module_version": "1.2.0",
          "state": {
            "_view_name": "LayoutView",
            "grid_template_rows": null,
            "right": null,
            "justify_content": null,
            "_view_module": "@jupyter-widgets/base",
            "overflow": null,
            "_model_module_version": "1.2.0",
            "_view_count": null,
            "flex_flow": null,
            "width": null,
            "min_width": null,
            "border": null,
            "align_items": null,
            "bottom": null,
            "_model_module": "@jupyter-widgets/base",
            "top": null,
            "grid_column": null,
            "overflow_y": null,
            "overflow_x": null,
            "grid_auto_flow": null,
            "grid_area": null,
            "grid_template_columns": null,
            "flex": null,
            "_model_name": "LayoutModel",
            "justify_items": null,
            "grid_row": null,
            "max_height": null,
            "align_content": null,
            "visibility": null,
            "align_self": null,
            "height": null,
            "min_height": null,
            "padding": null,
            "grid_auto_rows": null,
            "grid_gap": null,
            "max_width": null,
            "order": null,
            "_view_module_version": "1.2.0",
            "grid_template_areas": null,
            "object_position": null,
            "object_fit": null,
            "grid_auto_columns": null,
            "margin": null,
            "display": null,
            "left": null
          }
        },
        "65655fcf8d7545f082a2a9e6b1bce9ac": {
          "model_module": "@jupyter-widgets/controls",
          "model_name": "HBoxModel",
          "model_module_version": "1.5.0",
          "state": {
            "_view_name": "HBoxView",
            "_dom_classes": [],
            "_model_name": "HBoxModel",
            "_view_module": "@jupyter-widgets/controls",
            "_model_module_version": "1.5.0",
            "_view_count": null,
            "_view_module_version": "1.5.0",
            "box_style": "",
            "layout": "IPY_MODEL_d452891b14e24b5db2292b756fb8cc07",
            "_model_module": "@jupyter-widgets/controls",
            "children": [
              "IPY_MODEL_64d9798f58c04d989958ebe4f6ad5db0",
              "IPY_MODEL_4c30cf7c92fc4c49a742379a17fb0c04",
              "IPY_MODEL_7abcd5196f1449f5a68bb1f8388d13f5"
            ]
          }
        },
        "d452891b14e24b5db2292b756fb8cc07": {
          "model_module": "@jupyter-widgets/base",
          "model_name": "LayoutModel",
          "model_module_version": "1.2.0",
          "state": {
            "_view_name": "LayoutView",
            "grid_template_rows": null,
            "right": null,
            "justify_content": null,
            "_view_module": "@jupyter-widgets/base",
            "overflow": null,
            "_model_module_version": "1.2.0",
            "_view_count": null,
            "flex_flow": null,
            "width": null,
            "min_width": null,
            "border": null,
            "align_items": null,
            "bottom": null,
            "_model_module": "@jupyter-widgets/base",
            "top": null,
            "grid_column": null,
            "overflow_y": null,
            "overflow_x": null,
            "grid_auto_flow": null,
            "grid_area": null,
            "grid_template_columns": null,
            "flex": null,
            "_model_name": "LayoutModel",
            "justify_items": null,
            "grid_row": null,
            "max_height": null,
            "align_content": null,
            "visibility": null,
            "align_self": null,
            "height": null,
            "min_height": null,
            "padding": null,
            "grid_auto_rows": null,
            "grid_gap": null,
            "max_width": null,
            "order": null,
            "_view_module_version": "1.2.0",
            "grid_template_areas": null,
            "object_position": null,
            "object_fit": null,
            "grid_auto_columns": null,
            "margin": null,
            "display": null,
            "left": null
          }
        },
        "64d9798f58c04d989958ebe4f6ad5db0": {
          "model_module": "@jupyter-widgets/controls",
          "model_name": "HTMLModel",
          "model_module_version": "1.5.0",
          "state": {
            "_view_name": "HTMLView",
            "style": "IPY_MODEL_96ace99f79be499d80e600732b32025f",
            "_dom_classes": [],
            "description": "",
            "_model_name": "HTMLModel",
            "placeholder": "​",
            "_view_module": "@jupyter-widgets/controls",
            "_model_module_version": "1.5.0",
            "value": "Downloading: 100%",
            "_view_count": null,
            "_view_module_version": "1.5.0",
            "description_tooltip": null,
            "_model_module": "@jupyter-widgets/controls",
            "layout": "IPY_MODEL_5e948225ab00479d9281e81277c4f505"
          }
        },
        "4c30cf7c92fc4c49a742379a17fb0c04": {
          "model_module": "@jupyter-widgets/controls",
          "model_name": "FloatProgressModel",
          "model_module_version": "1.5.0",
          "state": {
            "_view_name": "ProgressView",
            "style": "IPY_MODEL_f7d883a0da13498c9452883ac8693c5c",
            "_dom_classes": [],
            "description": "",
            "_model_name": "FloatProgressModel",
            "bar_style": "success",
            "max": 466062,
            "_view_module": "@jupyter-widgets/controls",
            "_model_module_version": "1.5.0",
            "value": 466062,
            "_view_count": null,
            "_view_module_version": "1.5.0",
            "orientation": "horizontal",
            "min": 0,
            "description_tooltip": null,
            "_model_module": "@jupyter-widgets/controls",
            "layout": "IPY_MODEL_63d6242310ce4cc9a4a667e42d231d53"
          }
        },
        "7abcd5196f1449f5a68bb1f8388d13f5": {
          "model_module": "@jupyter-widgets/controls",
          "model_name": "HTMLModel",
          "model_module_version": "1.5.0",
          "state": {
            "_view_name": "HTMLView",
            "style": "IPY_MODEL_3a448f09e3044018a35def43354c91db",
            "_dom_classes": [],
            "description": "",
            "_model_name": "HTMLModel",
            "placeholder": "​",
            "_view_module": "@jupyter-widgets/controls",
            "_model_module_version": "1.5.0",
            "value": " 455k/455k [00:00&lt;00:00, 1.33MB/s]",
            "_view_count": null,
            "_view_module_version": "1.5.0",
            "description_tooltip": null,
            "_model_module": "@jupyter-widgets/controls",
            "layout": "IPY_MODEL_dde42dfbbc124330b1c2e939904175f8"
          }
        },
        "96ace99f79be499d80e600732b32025f": {
          "model_module": "@jupyter-widgets/controls",
          "model_name": "DescriptionStyleModel",
          "model_module_version": "1.5.0",
          "state": {
            "_view_name": "StyleView",
            "_model_name": "DescriptionStyleModel",
            "description_width": "",
            "_view_module": "@jupyter-widgets/base",
            "_model_module_version": "1.5.0",
            "_view_count": null,
            "_view_module_version": "1.2.0",
            "_model_module": "@jupyter-widgets/controls"
          }
        },
        "5e948225ab00479d9281e81277c4f505": {
          "model_module": "@jupyter-widgets/base",
          "model_name": "LayoutModel",
          "model_module_version": "1.2.0",
          "state": {
            "_view_name": "LayoutView",
            "grid_template_rows": null,
            "right": null,
            "justify_content": null,
            "_view_module": "@jupyter-widgets/base",
            "overflow": null,
            "_model_module_version": "1.2.0",
            "_view_count": null,
            "flex_flow": null,
            "width": null,
            "min_width": null,
            "border": null,
            "align_items": null,
            "bottom": null,
            "_model_module": "@jupyter-widgets/base",
            "top": null,
            "grid_column": null,
            "overflow_y": null,
            "overflow_x": null,
            "grid_auto_flow": null,
            "grid_area": null,
            "grid_template_columns": null,
            "flex": null,
            "_model_name": "LayoutModel",
            "justify_items": null,
            "grid_row": null,
            "max_height": null,
            "align_content": null,
            "visibility": null,
            "align_self": null,
            "height": null,
            "min_height": null,
            "padding": null,
            "grid_auto_rows": null,
            "grid_gap": null,
            "max_width": null,
            "order": null,
            "_view_module_version": "1.2.0",
            "grid_template_areas": null,
            "object_position": null,
            "object_fit": null,
            "grid_auto_columns": null,
            "margin": null,
            "display": null,
            "left": null
          }
        },
        "f7d883a0da13498c9452883ac8693c5c": {
          "model_module": "@jupyter-widgets/controls",
          "model_name": "ProgressStyleModel",
          "model_module_version": "1.5.0",
          "state": {
            "_view_name": "StyleView",
            "_model_name": "ProgressStyleModel",
            "description_width": "",
            "_view_module": "@jupyter-widgets/base",
            "_model_module_version": "1.5.0",
            "_view_count": null,
            "_view_module_version": "1.2.0",
            "bar_color": null,
            "_model_module": "@jupyter-widgets/controls"
          }
        },
        "63d6242310ce4cc9a4a667e42d231d53": {
          "model_module": "@jupyter-widgets/base",
          "model_name": "LayoutModel",
          "model_module_version": "1.2.0",
          "state": {
            "_view_name": "LayoutView",
            "grid_template_rows": null,
            "right": null,
            "justify_content": null,
            "_view_module": "@jupyter-widgets/base",
            "overflow": null,
            "_model_module_version": "1.2.0",
            "_view_count": null,
            "flex_flow": null,
            "width": null,
            "min_width": null,
            "border": null,
            "align_items": null,
            "bottom": null,
            "_model_module": "@jupyter-widgets/base",
            "top": null,
            "grid_column": null,
            "overflow_y": null,
            "overflow_x": null,
            "grid_auto_flow": null,
            "grid_area": null,
            "grid_template_columns": null,
            "flex": null,
            "_model_name": "LayoutModel",
            "justify_items": null,
            "grid_row": null,
            "max_height": null,
            "align_content": null,
            "visibility": null,
            "align_self": null,
            "height": null,
            "min_height": null,
            "padding": null,
            "grid_auto_rows": null,
            "grid_gap": null,
            "max_width": null,
            "order": null,
            "_view_module_version": "1.2.0",
            "grid_template_areas": null,
            "object_position": null,
            "object_fit": null,
            "grid_auto_columns": null,
            "margin": null,
            "display": null,
            "left": null
          }
        },
        "3a448f09e3044018a35def43354c91db": {
          "model_module": "@jupyter-widgets/controls",
          "model_name": "DescriptionStyleModel",
          "model_module_version": "1.5.0",
          "state": {
            "_view_name": "StyleView",
            "_model_name": "DescriptionStyleModel",
            "description_width": "",
            "_view_module": "@jupyter-widgets/base",
            "_model_module_version": "1.5.0",
            "_view_count": null,
            "_view_module_version": "1.2.0",
            "_model_module": "@jupyter-widgets/controls"
          }
        },
        "dde42dfbbc124330b1c2e939904175f8": {
          "model_module": "@jupyter-widgets/base",
          "model_name": "LayoutModel",
          "model_module_version": "1.2.0",
          "state": {
            "_view_name": "LayoutView",
            "grid_template_rows": null,
            "right": null,
            "justify_content": null,
            "_view_module": "@jupyter-widgets/base",
            "overflow": null,
            "_model_module_version": "1.2.0",
            "_view_count": null,
            "flex_flow": null,
            "width": null,
            "min_width": null,
            "border": null,
            "align_items": null,
            "bottom": null,
            "_model_module": "@jupyter-widgets/base",
            "top": null,
            "grid_column": null,
            "overflow_y": null,
            "overflow_x": null,
            "grid_auto_flow": null,
            "grid_area": null,
            "grid_template_columns": null,
            "flex": null,
            "_model_name": "LayoutModel",
            "justify_items": null,
            "grid_row": null,
            "max_height": null,
            "align_content": null,
            "visibility": null,
            "align_self": null,
            "height": null,
            "min_height": null,
            "padding": null,
            "grid_auto_rows": null,
            "grid_gap": null,
            "max_width": null,
            "order": null,
            "_view_module_version": "1.2.0",
            "grid_template_areas": null,
            "object_position": null,
            "object_fit": null,
            "grid_auto_columns": null,
            "margin": null,
            "display": null,
            "left": null
          }
        },
        "d00a5e55b4a447e781625c8f1bed3429": {
          "model_module": "@jupyter-widgets/controls",
          "model_name": "HBoxModel",
          "model_module_version": "1.5.0",
          "state": {
            "_view_name": "HBoxView",
            "_dom_classes": [],
            "_model_name": "HBoxModel",
            "_view_module": "@jupyter-widgets/controls",
            "_model_module_version": "1.5.0",
            "_view_count": null,
            "_view_module_version": "1.5.0",
            "box_style": "",
            "layout": "IPY_MODEL_dd473d9b47874a94b7a4f897cb57c06f",
            "_model_module": "@jupyter-widgets/controls",
            "children": [
              "IPY_MODEL_ec0e1923b49b461f861b86c3de2679b6",
              "IPY_MODEL_527d2290c5fc48c884a7cfc7d2aef9cc",
              "IPY_MODEL_6457e482aea442c9a949586a0008f1a7"
            ]
          }
        },
        "dd473d9b47874a94b7a4f897cb57c06f": {
          "model_module": "@jupyter-widgets/base",
          "model_name": "LayoutModel",
          "model_module_version": "1.2.0",
          "state": {
            "_view_name": "LayoutView",
            "grid_template_rows": null,
            "right": null,
            "justify_content": null,
            "_view_module": "@jupyter-widgets/base",
            "overflow": null,
            "_model_module_version": "1.2.0",
            "_view_count": null,
            "flex_flow": null,
            "width": null,
            "min_width": null,
            "border": null,
            "align_items": null,
            "bottom": null,
            "_model_module": "@jupyter-widgets/base",
            "top": null,
            "grid_column": null,
            "overflow_y": null,
            "overflow_x": null,
            "grid_auto_flow": null,
            "grid_area": null,
            "grid_template_columns": null,
            "flex": null,
            "_model_name": "LayoutModel",
            "justify_items": null,
            "grid_row": null,
            "max_height": null,
            "align_content": null,
            "visibility": null,
            "align_self": null,
            "height": null,
            "min_height": null,
            "padding": null,
            "grid_auto_rows": null,
            "grid_gap": null,
            "max_width": null,
            "order": null,
            "_view_module_version": "1.2.0",
            "grid_template_areas": null,
            "object_position": null,
            "object_fit": null,
            "grid_auto_columns": null,
            "margin": null,
            "display": null,
            "left": null
          }
        },
        "ec0e1923b49b461f861b86c3de2679b6": {
          "model_module": "@jupyter-widgets/controls",
          "model_name": "HTMLModel",
          "model_module_version": "1.5.0",
          "state": {
            "_view_name": "HTMLView",
            "style": "IPY_MODEL_24b7ec06cf0a42859f3a2116b12816a8",
            "_dom_classes": [],
            "description": "",
            "_model_name": "HTMLModel",
            "placeholder": "​",
            "_view_module": "@jupyter-widgets/controls",
            "_model_module_version": "1.5.0",
            "value": "Epoch: 100%",
            "_view_count": null,
            "_view_module_version": "1.5.0",
            "description_tooltip": null,
            "_model_module": "@jupyter-widgets/controls",
            "layout": "IPY_MODEL_97383d9863bd4ee89e38d06d3e226f9c"
          }
        },
        "527d2290c5fc48c884a7cfc7d2aef9cc": {
          "model_module": "@jupyter-widgets/controls",
          "model_name": "FloatProgressModel",
          "model_module_version": "1.5.0",
          "state": {
            "_view_name": "ProgressView",
            "style": "IPY_MODEL_ea36d8faaa3249c2aaa98f69606ab8c4",
            "_dom_classes": [],
            "description": "",
            "_model_name": "FloatProgressModel",
            "bar_style": "success",
            "max": 1,
            "_view_module": "@jupyter-widgets/controls",
            "_model_module_version": "1.5.0",
            "value": 1,
            "_view_count": null,
            "_view_module_version": "1.5.0",
            "orientation": "horizontal",
            "min": 0,
            "description_tooltip": null,
            "_model_module": "@jupyter-widgets/controls",
            "layout": "IPY_MODEL_c8677ff9d2904dd383188d73ce7397a2"
          }
        },
        "6457e482aea442c9a949586a0008f1a7": {
          "model_module": "@jupyter-widgets/controls",
          "model_name": "HTMLModel",
          "model_module_version": "1.5.0",
          "state": {
            "_view_name": "HTMLView",
            "style": "IPY_MODEL_385ccff214324038855ff196776ce4db",
            "_dom_classes": [],
            "description": "",
            "_model_name": "HTMLModel",
            "placeholder": "​",
            "_view_module": "@jupyter-widgets/controls",
            "_model_module_version": "1.5.0",
            "value": " 1/1 [02:51&lt;00:00, 171.97s/it]",
            "_view_count": null,
            "_view_module_version": "1.5.0",
            "description_tooltip": null,
            "_model_module": "@jupyter-widgets/controls",
            "layout": "IPY_MODEL_76ac7432441440fa8fe806226ab8aefd"
          }
        },
        "24b7ec06cf0a42859f3a2116b12816a8": {
          "model_module": "@jupyter-widgets/controls",
          "model_name": "DescriptionStyleModel",
          "model_module_version": "1.5.0",
          "state": {
            "_view_name": "StyleView",
            "_model_name": "DescriptionStyleModel",
            "description_width": "",
            "_view_module": "@jupyter-widgets/base",
            "_model_module_version": "1.5.0",
            "_view_count": null,
            "_view_module_version": "1.2.0",
            "_model_module": "@jupyter-widgets/controls"
          }
        },
        "97383d9863bd4ee89e38d06d3e226f9c": {
          "model_module": "@jupyter-widgets/base",
          "model_name": "LayoutModel",
          "model_module_version": "1.2.0",
          "state": {
            "_view_name": "LayoutView",
            "grid_template_rows": null,
            "right": null,
            "justify_content": null,
            "_view_module": "@jupyter-widgets/base",
            "overflow": null,
            "_model_module_version": "1.2.0",
            "_view_count": null,
            "flex_flow": null,
            "width": null,
            "min_width": null,
            "border": null,
            "align_items": null,
            "bottom": null,
            "_model_module": "@jupyter-widgets/base",
            "top": null,
            "grid_column": null,
            "overflow_y": null,
            "overflow_x": null,
            "grid_auto_flow": null,
            "grid_area": null,
            "grid_template_columns": null,
            "flex": null,
            "_model_name": "LayoutModel",
            "justify_items": null,
            "grid_row": null,
            "max_height": null,
            "align_content": null,
            "visibility": null,
            "align_self": null,
            "height": null,
            "min_height": null,
            "padding": null,
            "grid_auto_rows": null,
            "grid_gap": null,
            "max_width": null,
            "order": null,
            "_view_module_version": "1.2.0",
            "grid_template_areas": null,
            "object_position": null,
            "object_fit": null,
            "grid_auto_columns": null,
            "margin": null,
            "display": null,
            "left": null
          }
        },
        "ea36d8faaa3249c2aaa98f69606ab8c4": {
          "model_module": "@jupyter-widgets/controls",
          "model_name": "ProgressStyleModel",
          "model_module_version": "1.5.0",
          "state": {
            "_view_name": "StyleView",
            "_model_name": "ProgressStyleModel",
            "description_width": "",
            "_view_module": "@jupyter-widgets/base",
            "_model_module_version": "1.5.0",
            "_view_count": null,
            "_view_module_version": "1.2.0",
            "bar_color": null,
            "_model_module": "@jupyter-widgets/controls"
          }
        },
        "c8677ff9d2904dd383188d73ce7397a2": {
          "model_module": "@jupyter-widgets/base",
          "model_name": "LayoutModel",
          "model_module_version": "1.2.0",
          "state": {
            "_view_name": "LayoutView",
            "grid_template_rows": null,
            "right": null,
            "justify_content": null,
            "_view_module": "@jupyter-widgets/base",
            "overflow": null,
            "_model_module_version": "1.2.0",
            "_view_count": null,
            "flex_flow": null,
            "width": null,
            "min_width": null,
            "border": null,
            "align_items": null,
            "bottom": null,
            "_model_module": "@jupyter-widgets/base",
            "top": null,
            "grid_column": null,
            "overflow_y": null,
            "overflow_x": null,
            "grid_auto_flow": null,
            "grid_area": null,
            "grid_template_columns": null,
            "flex": null,
            "_model_name": "LayoutModel",
            "justify_items": null,
            "grid_row": null,
            "max_height": null,
            "align_content": null,
            "visibility": null,
            "align_self": null,
            "height": null,
            "min_height": null,
            "padding": null,
            "grid_auto_rows": null,
            "grid_gap": null,
            "max_width": null,
            "order": null,
            "_view_module_version": "1.2.0",
            "grid_template_areas": null,
            "object_position": null,
            "object_fit": null,
            "grid_auto_columns": null,
            "margin": null,
            "display": null,
            "left": null
          }
        },
        "385ccff214324038855ff196776ce4db": {
          "model_module": "@jupyter-widgets/controls",
          "model_name": "DescriptionStyleModel",
          "model_module_version": "1.5.0",
          "state": {
            "_view_name": "StyleView",
            "_model_name": "DescriptionStyleModel",
            "description_width": "",
            "_view_module": "@jupyter-widgets/base",
            "_model_module_version": "1.5.0",
            "_view_count": null,
            "_view_module_version": "1.2.0",
            "_model_module": "@jupyter-widgets/controls"
          }
        },
        "76ac7432441440fa8fe806226ab8aefd": {
          "model_module": "@jupyter-widgets/base",
          "model_name": "LayoutModel",
          "model_module_version": "1.2.0",
          "state": {
            "_view_name": "LayoutView",
            "grid_template_rows": null,
            "right": null,
            "justify_content": null,
            "_view_module": "@jupyter-widgets/base",
            "overflow": null,
            "_model_module_version": "1.2.0",
            "_view_count": null,
            "flex_flow": null,
            "width": null,
            "min_width": null,
            "border": null,
            "align_items": null,
            "bottom": null,
            "_model_module": "@jupyter-widgets/base",
            "top": null,
            "grid_column": null,
            "overflow_y": null,
            "overflow_x": null,
            "grid_auto_flow": null,
            "grid_area": null,
            "grid_template_columns": null,
            "flex": null,
            "_model_name": "LayoutModel",
            "justify_items": null,
            "grid_row": null,
            "max_height": null,
            "align_content": null,
            "visibility": null,
            "align_self": null,
            "height": null,
            "min_height": null,
            "padding": null,
            "grid_auto_rows": null,
            "grid_gap": null,
            "max_width": null,
            "order": null,
            "_view_module_version": "1.2.0",
            "grid_template_areas": null,
            "object_position": null,
            "object_fit": null,
            "grid_auto_columns": null,
            "margin": null,
            "display": null,
            "left": null
          }
        },
        "7035b871cf1d422c863262a0d6fedd23": {
          "model_module": "@jupyter-widgets/controls",
          "model_name": "HBoxModel",
          "model_module_version": "1.5.0",
          "state": {
            "_view_name": "HBoxView",
            "_dom_classes": [],
            "_model_name": "HBoxModel",
            "_view_module": "@jupyter-widgets/controls",
            "_model_module_version": "1.5.0",
            "_view_count": null,
            "_view_module_version": "1.5.0",
            "box_style": "",
            "layout": "IPY_MODEL_b4f0b0a3c131469db7ef9478a3442d79",
            "_model_module": "@jupyter-widgets/controls",
            "children": [
              "IPY_MODEL_7729ee04c85546418e49093d5d5a234f",
              "IPY_MODEL_41e1620ec7634bf493291ce29487d30b",
              "IPY_MODEL_5c3c15cea9574ebf869cf41493a83e06"
            ]
          }
        },
        "b4f0b0a3c131469db7ef9478a3442d79": {
          "model_module": "@jupyter-widgets/base",
          "model_name": "LayoutModel",
          "model_module_version": "1.2.0",
          "state": {
            "_view_name": "LayoutView",
            "grid_template_rows": null,
            "right": null,
            "justify_content": null,
            "_view_module": "@jupyter-widgets/base",
            "overflow": null,
            "_model_module_version": "1.2.0",
            "_view_count": null,
            "flex_flow": null,
            "width": null,
            "min_width": null,
            "border": null,
            "align_items": null,
            "bottom": null,
            "_model_module": "@jupyter-widgets/base",
            "top": null,
            "grid_column": null,
            "overflow_y": null,
            "overflow_x": null,
            "grid_auto_flow": null,
            "grid_area": null,
            "grid_template_columns": null,
            "flex": null,
            "_model_name": "LayoutModel",
            "justify_items": null,
            "grid_row": null,
            "max_height": null,
            "align_content": null,
            "visibility": null,
            "align_self": null,
            "height": null,
            "min_height": null,
            "padding": null,
            "grid_auto_rows": null,
            "grid_gap": null,
            "max_width": null,
            "order": null,
            "_view_module_version": "1.2.0",
            "grid_template_areas": null,
            "object_position": null,
            "object_fit": null,
            "grid_auto_columns": null,
            "margin": null,
            "display": null,
            "left": null
          }
        },
        "7729ee04c85546418e49093d5d5a234f": {
          "model_module": "@jupyter-widgets/controls",
          "model_name": "HTMLModel",
          "model_module_version": "1.5.0",
          "state": {
            "_view_name": "HTMLView",
            "style": "IPY_MODEL_16591f4e2e734856aa3f4446293dac63",
            "_dom_classes": [],
            "description": "",
            "_model_name": "HTMLModel",
            "placeholder": "​",
            "_view_module": "@jupyter-widgets/controls",
            "_model_module_version": "1.5.0",
            "value": "Iteration: 100%",
            "_view_count": null,
            "_view_module_version": "1.5.0",
            "description_tooltip": null,
            "_model_module": "@jupyter-widgets/controls",
            "layout": "IPY_MODEL_d072bc5fcdf9424d81e2fdc8f201a2d9"
          }
        },
        "41e1620ec7634bf493291ce29487d30b": {
          "model_module": "@jupyter-widgets/controls",
          "model_name": "FloatProgressModel",
          "model_module_version": "1.5.0",
          "state": {
            "_view_name": "ProgressView",
            "style": "IPY_MODEL_321f96f60e5f4ece8edebaa66ceaedab",
            "_dom_classes": [],
            "description": "",
            "_model_name": "FloatProgressModel",
            "bar_style": "success",
            "max": 360,
            "_view_module": "@jupyter-widgets/controls",
            "_model_module_version": "1.5.0",
            "value": 360,
            "_view_count": null,
            "_view_module_version": "1.5.0",
            "orientation": "horizontal",
            "min": 0,
            "description_tooltip": null,
            "_model_module": "@jupyter-widgets/controls",
            "layout": "IPY_MODEL_b93dc32af4844e0b929c3db622b45c66"
          }
        },
        "5c3c15cea9574ebf869cf41493a83e06": {
          "model_module": "@jupyter-widgets/controls",
          "model_name": "HTMLModel",
          "model_module_version": "1.5.0",
          "state": {
            "_view_name": "HTMLView",
            "style": "IPY_MODEL_84bd7037a527409f9ae3f32db81fabff",
            "_dom_classes": [],
            "description": "",
            "_model_name": "HTMLModel",
            "placeholder": "​",
            "_view_module": "@jupyter-widgets/controls",
            "_model_module_version": "1.5.0",
            "value": " 360/360 [02:40&lt;00:00,  2.29it/s]",
            "_view_count": null,
            "_view_module_version": "1.5.0",
            "description_tooltip": null,
            "_model_module": "@jupyter-widgets/controls",
            "layout": "IPY_MODEL_d717b66fe99c4eb08344f05f7a46da4e"
          }
        },
        "16591f4e2e734856aa3f4446293dac63": {
          "model_module": "@jupyter-widgets/controls",
          "model_name": "DescriptionStyleModel",
          "model_module_version": "1.5.0",
          "state": {
            "_view_name": "StyleView",
            "_model_name": "DescriptionStyleModel",
            "description_width": "",
            "_view_module": "@jupyter-widgets/base",
            "_model_module_version": "1.5.0",
            "_view_count": null,
            "_view_module_version": "1.2.0",
            "_model_module": "@jupyter-widgets/controls"
          }
        },
        "d072bc5fcdf9424d81e2fdc8f201a2d9": {
          "model_module": "@jupyter-widgets/base",
          "model_name": "LayoutModel",
          "model_module_version": "1.2.0",
          "state": {
            "_view_name": "LayoutView",
            "grid_template_rows": null,
            "right": null,
            "justify_content": null,
            "_view_module": "@jupyter-widgets/base",
            "overflow": null,
            "_model_module_version": "1.2.0",
            "_view_count": null,
            "flex_flow": null,
            "width": null,
            "min_width": null,
            "border": null,
            "align_items": null,
            "bottom": null,
            "_model_module": "@jupyter-widgets/base",
            "top": null,
            "grid_column": null,
            "overflow_y": null,
            "overflow_x": null,
            "grid_auto_flow": null,
            "grid_area": null,
            "grid_template_columns": null,
            "flex": null,
            "_model_name": "LayoutModel",
            "justify_items": null,
            "grid_row": null,
            "max_height": null,
            "align_content": null,
            "visibility": null,
            "align_self": null,
            "height": null,
            "min_height": null,
            "padding": null,
            "grid_auto_rows": null,
            "grid_gap": null,
            "max_width": null,
            "order": null,
            "_view_module_version": "1.2.0",
            "grid_template_areas": null,
            "object_position": null,
            "object_fit": null,
            "grid_auto_columns": null,
            "margin": null,
            "display": null,
            "left": null
          }
        },
        "321f96f60e5f4ece8edebaa66ceaedab": {
          "model_module": "@jupyter-widgets/controls",
          "model_name": "ProgressStyleModel",
          "model_module_version": "1.5.0",
          "state": {
            "_view_name": "StyleView",
            "_model_name": "ProgressStyleModel",
            "description_width": "",
            "_view_module": "@jupyter-widgets/base",
            "_model_module_version": "1.5.0",
            "_view_count": null,
            "_view_module_version": "1.2.0",
            "bar_color": null,
            "_model_module": "@jupyter-widgets/controls"
          }
        },
        "b93dc32af4844e0b929c3db622b45c66": {
          "model_module": "@jupyter-widgets/base",
          "model_name": "LayoutModel",
          "model_module_version": "1.2.0",
          "state": {
            "_view_name": "LayoutView",
            "grid_template_rows": null,
            "right": null,
            "justify_content": null,
            "_view_module": "@jupyter-widgets/base",
            "overflow": null,
            "_model_module_version": "1.2.0",
            "_view_count": null,
            "flex_flow": null,
            "width": null,
            "min_width": null,
            "border": null,
            "align_items": null,
            "bottom": null,
            "_model_module": "@jupyter-widgets/base",
            "top": null,
            "grid_column": null,
            "overflow_y": null,
            "overflow_x": null,
            "grid_auto_flow": null,
            "grid_area": null,
            "grid_template_columns": null,
            "flex": null,
            "_model_name": "LayoutModel",
            "justify_items": null,
            "grid_row": null,
            "max_height": null,
            "align_content": null,
            "visibility": null,
            "align_self": null,
            "height": null,
            "min_height": null,
            "padding": null,
            "grid_auto_rows": null,
            "grid_gap": null,
            "max_width": null,
            "order": null,
            "_view_module_version": "1.2.0",
            "grid_template_areas": null,
            "object_position": null,
            "object_fit": null,
            "grid_auto_columns": null,
            "margin": null,
            "display": null,
            "left": null
          }
        },
        "84bd7037a527409f9ae3f32db81fabff": {
          "model_module": "@jupyter-widgets/controls",
          "model_name": "DescriptionStyleModel",
          "model_module_version": "1.5.0",
          "state": {
            "_view_name": "StyleView",
            "_model_name": "DescriptionStyleModel",
            "description_width": "",
            "_view_module": "@jupyter-widgets/base",
            "_model_module_version": "1.5.0",
            "_view_count": null,
            "_view_module_version": "1.2.0",
            "_model_module": "@jupyter-widgets/controls"
          }
        },
        "d717b66fe99c4eb08344f05f7a46da4e": {
          "model_module": "@jupyter-widgets/base",
          "model_name": "LayoutModel",
          "model_module_version": "1.2.0",
          "state": {
            "_view_name": "LayoutView",
            "grid_template_rows": null,
            "right": null,
            "justify_content": null,
            "_view_module": "@jupyter-widgets/base",
            "overflow": null,
            "_model_module_version": "1.2.0",
            "_view_count": null,
            "flex_flow": null,
            "width": null,
            "min_width": null,
            "border": null,
            "align_items": null,
            "bottom": null,
            "_model_module": "@jupyter-widgets/base",
            "top": null,
            "grid_column": null,
            "overflow_y": null,
            "overflow_x": null,
            "grid_auto_flow": null,
            "grid_area": null,
            "grid_template_columns": null,
            "flex": null,
            "_model_name": "LayoutModel",
            "justify_items": null,
            "grid_row": null,
            "max_height": null,
            "align_content": null,
            "visibility": null,
            "align_self": null,
            "height": null,
            "min_height": null,
            "padding": null,
            "grid_auto_rows": null,
            "grid_gap": null,
            "max_width": null,
            "order": null,
            "_view_module_version": "1.2.0",
            "grid_template_areas": null,
            "object_position": null,
            "object_fit": null,
            "grid_auto_columns": null,
            "margin": null,
            "display": null,
            "left": null
          }
        },
        "6d50746ea89a4c34af3d9a0bc7f41670": {
          "model_module": "@jupyter-widgets/controls",
          "model_name": "HBoxModel",
          "model_module_version": "1.5.0",
          "state": {
            "_view_name": "HBoxView",
            "_dom_classes": [],
            "_model_name": "HBoxModel",
            "_view_module": "@jupyter-widgets/controls",
            "_model_module_version": "1.5.0",
            "_view_count": null,
            "_view_module_version": "1.5.0",
            "box_style": "",
            "layout": "IPY_MODEL_4c1de77482c14005b1cf83c45a8f910c",
            "_model_module": "@jupyter-widgets/controls",
            "children": [
              "IPY_MODEL_c43fcb91285643dba79fbecf92d6f5d3",
              "IPY_MODEL_959d14fd82ff4acba2edfb22b7a39197",
              "IPY_MODEL_b5a0b0a6ed7744b9a96f0849004715dd"
            ]
          }
        },
        "4c1de77482c14005b1cf83c45a8f910c": {
          "model_module": "@jupyter-widgets/base",
          "model_name": "LayoutModel",
          "model_module_version": "1.2.0",
          "state": {
            "_view_name": "LayoutView",
            "grid_template_rows": null,
            "right": null,
            "justify_content": null,
            "_view_module": "@jupyter-widgets/base",
            "overflow": null,
            "_model_module_version": "1.2.0",
            "_view_count": null,
            "flex_flow": null,
            "width": null,
            "min_width": null,
            "border": null,
            "align_items": null,
            "bottom": null,
            "_model_module": "@jupyter-widgets/base",
            "top": null,
            "grid_column": null,
            "overflow_y": null,
            "overflow_x": null,
            "grid_auto_flow": null,
            "grid_area": null,
            "grid_template_columns": null,
            "flex": null,
            "_model_name": "LayoutModel",
            "justify_items": null,
            "grid_row": null,
            "max_height": null,
            "align_content": null,
            "visibility": null,
            "align_self": null,
            "height": null,
            "min_height": null,
            "padding": null,
            "grid_auto_rows": null,
            "grid_gap": null,
            "max_width": null,
            "order": null,
            "_view_module_version": "1.2.0",
            "grid_template_areas": null,
            "object_position": null,
            "object_fit": null,
            "grid_auto_columns": null,
            "margin": null,
            "display": null,
            "left": null
          }
        },
        "c43fcb91285643dba79fbecf92d6f5d3": {
          "model_module": "@jupyter-widgets/controls",
          "model_name": "HTMLModel",
          "model_module_version": "1.5.0",
          "state": {
            "_view_name": "HTMLView",
            "style": "IPY_MODEL_3b501887957b4c9ba5bf766c337be8b7",
            "_dom_classes": [],
            "description": "",
            "_model_name": "HTMLModel",
            "placeholder": "​",
            "_view_module": "@jupyter-widgets/controls",
            "_model_module_version": "1.5.0",
            "value": "Batches: 100%",
            "_view_count": null,
            "_view_module_version": "1.5.0",
            "description_tooltip": null,
            "_model_module": "@jupyter-widgets/controls",
            "layout": "IPY_MODEL_e3a59d4b81e24447a3f9366680e61479"
          }
        },
        "959d14fd82ff4acba2edfb22b7a39197": {
          "model_module": "@jupyter-widgets/controls",
          "model_name": "FloatProgressModel",
          "model_module_version": "1.5.0",
          "state": {
            "_view_name": "ProgressView",
            "style": "IPY_MODEL_7a67b23e3f804dd5a0f36b96817f14ef",
            "_dom_classes": [],
            "description": "",
            "_model_name": "FloatProgressModel",
            "bar_style": "success",
            "max": 6277,
            "_view_module": "@jupyter-widgets/controls",
            "_model_module_version": "1.5.0",
            "value": 6277,
            "_view_count": null,
            "_view_module_version": "1.5.0",
            "orientation": "horizontal",
            "min": 0,
            "description_tooltip": null,
            "_model_module": "@jupyter-widgets/controls",
            "layout": "IPY_MODEL_00376098cb584d5996cc3c316d74b01e"
          }
        },
        "b5a0b0a6ed7744b9a96f0849004715dd": {
          "model_module": "@jupyter-widgets/controls",
          "model_name": "HTMLModel",
          "model_module_version": "1.5.0",
          "state": {
            "_view_name": "HTMLView",
            "style": "IPY_MODEL_196f74105cc34cfcb5f4abb750aabcbb",
            "_dom_classes": [],
            "description": "",
            "_model_name": "HTMLModel",
            "placeholder": "​",
            "_view_module": "@jupyter-widgets/controls",
            "_model_module_version": "1.5.0",
            "value": " 6277/6277 [20:30&lt;00:00, 16.33it/s]",
            "_view_count": null,
            "_view_module_version": "1.5.0",
            "description_tooltip": null,
            "_model_module": "@jupyter-widgets/controls",
            "layout": "IPY_MODEL_c197892a5005464589ef805aef16d5de"
          }
        },
        "3b501887957b4c9ba5bf766c337be8b7": {
          "model_module": "@jupyter-widgets/controls",
          "model_name": "DescriptionStyleModel",
          "model_module_version": "1.5.0",
          "state": {
            "_view_name": "StyleView",
            "_model_name": "DescriptionStyleModel",
            "description_width": "",
            "_view_module": "@jupyter-widgets/base",
            "_model_module_version": "1.5.0",
            "_view_count": null,
            "_view_module_version": "1.2.0",
            "_model_module": "@jupyter-widgets/controls"
          }
        },
        "e3a59d4b81e24447a3f9366680e61479": {
          "model_module": "@jupyter-widgets/base",
          "model_name": "LayoutModel",
          "model_module_version": "1.2.0",
          "state": {
            "_view_name": "LayoutView",
            "grid_template_rows": null,
            "right": null,
            "justify_content": null,
            "_view_module": "@jupyter-widgets/base",
            "overflow": null,
            "_model_module_version": "1.2.0",
            "_view_count": null,
            "flex_flow": null,
            "width": null,
            "min_width": null,
            "border": null,
            "align_items": null,
            "bottom": null,
            "_model_module": "@jupyter-widgets/base",
            "top": null,
            "grid_column": null,
            "overflow_y": null,
            "overflow_x": null,
            "grid_auto_flow": null,
            "grid_area": null,
            "grid_template_columns": null,
            "flex": null,
            "_model_name": "LayoutModel",
            "justify_items": null,
            "grid_row": null,
            "max_height": null,
            "align_content": null,
            "visibility": null,
            "align_self": null,
            "height": null,
            "min_height": null,
            "padding": null,
            "grid_auto_rows": null,
            "grid_gap": null,
            "max_width": null,
            "order": null,
            "_view_module_version": "1.2.0",
            "grid_template_areas": null,
            "object_position": null,
            "object_fit": null,
            "grid_auto_columns": null,
            "margin": null,
            "display": null,
            "left": null
          }
        },
        "7a67b23e3f804dd5a0f36b96817f14ef": {
          "model_module": "@jupyter-widgets/controls",
          "model_name": "ProgressStyleModel",
          "model_module_version": "1.5.0",
          "state": {
            "_view_name": "StyleView",
            "_model_name": "ProgressStyleModel",
            "description_width": "",
            "_view_module": "@jupyter-widgets/base",
            "_model_module_version": "1.5.0",
            "_view_count": null,
            "_view_module_version": "1.2.0",
            "bar_color": null,
            "_model_module": "@jupyter-widgets/controls"
          }
        },
        "00376098cb584d5996cc3c316d74b01e": {
          "model_module": "@jupyter-widgets/base",
          "model_name": "LayoutModel",
          "model_module_version": "1.2.0",
          "state": {
            "_view_name": "LayoutView",
            "grid_template_rows": null,
            "right": null,
            "justify_content": null,
            "_view_module": "@jupyter-widgets/base",
            "overflow": null,
            "_model_module_version": "1.2.0",
            "_view_count": null,
            "flex_flow": null,
            "width": null,
            "min_width": null,
            "border": null,
            "align_items": null,
            "bottom": null,
            "_model_module": "@jupyter-widgets/base",
            "top": null,
            "grid_column": null,
            "overflow_y": null,
            "overflow_x": null,
            "grid_auto_flow": null,
            "grid_area": null,
            "grid_template_columns": null,
            "flex": null,
            "_model_name": "LayoutModel",
            "justify_items": null,
            "grid_row": null,
            "max_height": null,
            "align_content": null,
            "visibility": null,
            "align_self": null,
            "height": null,
            "min_height": null,
            "padding": null,
            "grid_auto_rows": null,
            "grid_gap": null,
            "max_width": null,
            "order": null,
            "_view_module_version": "1.2.0",
            "grid_template_areas": null,
            "object_position": null,
            "object_fit": null,
            "grid_auto_columns": null,
            "margin": null,
            "display": null,
            "left": null
          }
        },
        "196f74105cc34cfcb5f4abb750aabcbb": {
          "model_module": "@jupyter-widgets/controls",
          "model_name": "DescriptionStyleModel",
          "model_module_version": "1.5.0",
          "state": {
            "_view_name": "StyleView",
            "_model_name": "DescriptionStyleModel",
            "description_width": "",
            "_view_module": "@jupyter-widgets/base",
            "_model_module_version": "1.5.0",
            "_view_count": null,
            "_view_module_version": "1.2.0",
            "_model_module": "@jupyter-widgets/controls"
          }
        },
        "c197892a5005464589ef805aef16d5de": {
          "model_module": "@jupyter-widgets/base",
          "model_name": "LayoutModel",
          "model_module_version": "1.2.0",
          "state": {
            "_view_name": "LayoutView",
            "grid_template_rows": null,
            "right": null,
            "justify_content": null,
            "_view_module": "@jupyter-widgets/base",
            "overflow": null,
            "_model_module_version": "1.2.0",
            "_view_count": null,
            "flex_flow": null,
            "width": null,
            "min_width": null,
            "border": null,
            "align_items": null,
            "bottom": null,
            "_model_module": "@jupyter-widgets/base",
            "top": null,
            "grid_column": null,
            "overflow_y": null,
            "overflow_x": null,
            "grid_auto_flow": null,
            "grid_area": null,
            "grid_template_columns": null,
            "flex": null,
            "_model_name": "LayoutModel",
            "justify_items": null,
            "grid_row": null,
            "max_height": null,
            "align_content": null,
            "visibility": null,
            "align_self": null,
            "height": null,
            "min_height": null,
            "padding": null,
            "grid_auto_rows": null,
            "grid_gap": null,
            "max_width": null,
            "order": null,
            "_view_module_version": "1.2.0",
            "grid_template_areas": null,
            "object_position": null,
            "object_fit": null,
            "grid_auto_columns": null,
            "margin": null,
            "display": null,
            "left": null
          }
        }
      }
    }
  },
  "cells": [
    {
      "cell_type": "markdown",
      "metadata": {
        "id": "view-in-github",
        "colab_type": "text"
      },
      "source": [
        "<a href=\"https://colab.research.google.com/github/GiuliaTuccio/Research-and-Methodology/blob/main/Untitled0.ipynb\" target=\"_parent\"><img src=\"https://colab.research.google.com/assets/colab-badge.svg\" alt=\"Open In Colab\"/></a>"
      ]
    },
    {
      "cell_type": "markdown",
      "metadata": {
        "id": "OjR4Ltd_PKuE"
      },
      "source": [
        "Lab2: sentence BERT\n",
        "Fine-Tune a pre-trained model\n"
      ]
    },
    {
      "cell_type": "markdown",
      "metadata": {
        "id": "sfQqBdVWPRu5"
      },
      "source": [
        "installing all the libraries to implement the lab\n"
      ]
    },
    {
      "cell_type": "code",
      "metadata": {
        "colab": {
          "base_uri": "https://localhost:8080/"
        },
        "id": "cavD-kI10AwQ",
        "outputId": "02cd8c43-8197-4cb5-a87b-2149eac59e21"
      },
      "source": [
        "!pip install tokenizers\n",
        "!pip install transformers\n",
        "!pip install wget\n",
        "!pip install sentence_transformers\n",
        "\n",
        "\n",
        "from sentence_transformers import SentenceTransformer,  LoggingHandler, losses, models, util\n",
        "from sentence_transformers.evaluation import EmbeddingSimilarityEvaluator\n",
        "from sentence_transformers.readers import InputExample\n",
        "\n",
        "\n",
        "import gzip\n",
        "import csv\n",
        "import wget\n",
        "import os\n",
        "import re\n",
        "import json\n",
        "import string\n",
        "import sklearn\n",
        "import scipy\n",
        "import numpy as np\n",
        "import pandas as pd\n",
        "import tensorflow as tf\n",
        "import torch\n",
        "import math\n",
        "from tensorflow.keras.layers import Input\n",
        "from tensorflow import keras\n",
        "from tensorflow.keras import layers\n",
        "from tokenizers import BertWordPieceTokenizer\n",
        "from transformers import BertTokenizer, TFBertModel, BertConfig\n",
        "from torch.utils.data import DataLoader\n",
        "\n"
      ],
      "execution_count": 8,
      "outputs": [
        {
          "output_type": "stream",
          "name": "stdout",
          "text": [
            "Collecting tokenizers\n",
            "  Downloading tokenizers-0.10.3-cp37-cp37m-manylinux_2_5_x86_64.manylinux1_x86_64.manylinux_2_12_x86_64.manylinux2010_x86_64.whl (3.3 MB)\n",
            "\u001b[?25l\r\u001b[K     |                                | 10 kB 17.7 MB/s eta 0:00:01\r\u001b[K     |▏                               | 20 kB 18.7 MB/s eta 0:00:01\r\u001b[K     |▎                               | 30 kB 21.9 MB/s eta 0:00:01\r\u001b[K     |▍                               | 40 kB 24.1 MB/s eta 0:00:01\r\u001b[K     |▌                               | 51 kB 15.4 MB/s eta 0:00:01\r\u001b[K     |▋                               | 61 kB 16.1 MB/s eta 0:00:01\r\u001b[K     |▊                               | 71 kB 11.6 MB/s eta 0:00:01\r\u001b[K     |▉                               | 81 kB 12.8 MB/s eta 0:00:01\r\u001b[K     |█                               | 92 kB 12.0 MB/s eta 0:00:01\r\u001b[K     |█                               | 102 kB 12.9 MB/s eta 0:00:01\r\u001b[K     |█                               | 112 kB 12.9 MB/s eta 0:00:01\r\u001b[K     |█▏                              | 122 kB 12.9 MB/s eta 0:00:01\r\u001b[K     |█▎                              | 133 kB 12.9 MB/s eta 0:00:01\r\u001b[K     |█▍                              | 143 kB 12.9 MB/s eta 0:00:01\r\u001b[K     |█▌                              | 153 kB 12.9 MB/s eta 0:00:01\r\u001b[K     |█▋                              | 163 kB 12.9 MB/s eta 0:00:01\r\u001b[K     |█▊                              | 174 kB 12.9 MB/s eta 0:00:01\r\u001b[K     |█▉                              | 184 kB 12.9 MB/s eta 0:00:01\r\u001b[K     |██                              | 194 kB 12.9 MB/s eta 0:00:01\r\u001b[K     |██                              | 204 kB 12.9 MB/s eta 0:00:01\r\u001b[K     |██▏                             | 215 kB 12.9 MB/s eta 0:00:01\r\u001b[K     |██▏                             | 225 kB 12.9 MB/s eta 0:00:01\r\u001b[K     |██▎                             | 235 kB 12.9 MB/s eta 0:00:01\r\u001b[K     |██▍                             | 245 kB 12.9 MB/s eta 0:00:01\r\u001b[K     |██▌                             | 256 kB 12.9 MB/s eta 0:00:01\r\u001b[K     |██▋                             | 266 kB 12.9 MB/s eta 0:00:01\r\u001b[K     |██▊                             | 276 kB 12.9 MB/s eta 0:00:01\r\u001b[K     |██▉                             | 286 kB 12.9 MB/s eta 0:00:01\r\u001b[K     |███                             | 296 kB 12.9 MB/s eta 0:00:01\r\u001b[K     |███                             | 307 kB 12.9 MB/s eta 0:00:01\r\u001b[K     |███▏                            | 317 kB 12.9 MB/s eta 0:00:01\r\u001b[K     |███▏                            | 327 kB 12.9 MB/s eta 0:00:01\r\u001b[K     |███▎                            | 337 kB 12.9 MB/s eta 0:00:01\r\u001b[K     |███▍                            | 348 kB 12.9 MB/s eta 0:00:01\r\u001b[K     |███▌                            | 358 kB 12.9 MB/s eta 0:00:01\r\u001b[K     |███▋                            | 368 kB 12.9 MB/s eta 0:00:01\r\u001b[K     |███▊                            | 378 kB 12.9 MB/s eta 0:00:01\r\u001b[K     |███▉                            | 389 kB 12.9 MB/s eta 0:00:01\r\u001b[K     |████                            | 399 kB 12.9 MB/s eta 0:00:01\r\u001b[K     |████                            | 409 kB 12.9 MB/s eta 0:00:01\r\u001b[K     |████▏                           | 419 kB 12.9 MB/s eta 0:00:01\r\u001b[K     |████▎                           | 430 kB 12.9 MB/s eta 0:00:01\r\u001b[K     |████▎                           | 440 kB 12.9 MB/s eta 0:00:01\r\u001b[K     |████▍                           | 450 kB 12.9 MB/s eta 0:00:01\r\u001b[K     |████▌                           | 460 kB 12.9 MB/s eta 0:00:01\r\u001b[K     |████▋                           | 471 kB 12.9 MB/s eta 0:00:01\r\u001b[K     |████▊                           | 481 kB 12.9 MB/s eta 0:00:01\r\u001b[K     |████▉                           | 491 kB 12.9 MB/s eta 0:00:01\r\u001b[K     |█████                           | 501 kB 12.9 MB/s eta 0:00:01\r\u001b[K     |█████                           | 512 kB 12.9 MB/s eta 0:00:01\r\u001b[K     |█████▏                          | 522 kB 12.9 MB/s eta 0:00:01\r\u001b[K     |█████▎                          | 532 kB 12.9 MB/s eta 0:00:01\r\u001b[K     |█████▎                          | 542 kB 12.9 MB/s eta 0:00:01\r\u001b[K     |█████▍                          | 552 kB 12.9 MB/s eta 0:00:01\r\u001b[K     |█████▌                          | 563 kB 12.9 MB/s eta 0:00:01\r\u001b[K     |█████▋                          | 573 kB 12.9 MB/s eta 0:00:01\r\u001b[K     |█████▊                          | 583 kB 12.9 MB/s eta 0:00:01\r\u001b[K     |█████▉                          | 593 kB 12.9 MB/s eta 0:00:01\r\u001b[K     |██████                          | 604 kB 12.9 MB/s eta 0:00:01\r\u001b[K     |██████                          | 614 kB 12.9 MB/s eta 0:00:01\r\u001b[K     |██████▏                         | 624 kB 12.9 MB/s eta 0:00:01\r\u001b[K     |██████▎                         | 634 kB 12.9 MB/s eta 0:00:01\r\u001b[K     |██████▍                         | 645 kB 12.9 MB/s eta 0:00:01\r\u001b[K     |██████▍                         | 655 kB 12.9 MB/s eta 0:00:01\r\u001b[K     |██████▌                         | 665 kB 12.9 MB/s eta 0:00:01\r\u001b[K     |██████▋                         | 675 kB 12.9 MB/s eta 0:00:01\r\u001b[K     |██████▊                         | 686 kB 12.9 MB/s eta 0:00:01\r\u001b[K     |██████▉                         | 696 kB 12.9 MB/s eta 0:00:01\r\u001b[K     |███████                         | 706 kB 12.9 MB/s eta 0:00:01\r\u001b[K     |███████                         | 716 kB 12.9 MB/s eta 0:00:01\r\u001b[K     |███████▏                        | 727 kB 12.9 MB/s eta 0:00:01\r\u001b[K     |███████▎                        | 737 kB 12.9 MB/s eta 0:00:01\r\u001b[K     |███████▍                        | 747 kB 12.9 MB/s eta 0:00:01\r\u001b[K     |███████▍                        | 757 kB 12.9 MB/s eta 0:00:01\r\u001b[K     |███████▌                        | 768 kB 12.9 MB/s eta 0:00:01\r\u001b[K     |███████▋                        | 778 kB 12.9 MB/s eta 0:00:01\r\u001b[K     |███████▊                        | 788 kB 12.9 MB/s eta 0:00:01\r\u001b[K     |███████▉                        | 798 kB 12.9 MB/s eta 0:00:01\r\u001b[K     |████████                        | 808 kB 12.9 MB/s eta 0:00:01\r\u001b[K     |████████                        | 819 kB 12.9 MB/s eta 0:00:01\r\u001b[K     |████████▏                       | 829 kB 12.9 MB/s eta 0:00:01\r\u001b[K     |████████▎                       | 839 kB 12.9 MB/s eta 0:00:01\r\u001b[K     |████████▍                       | 849 kB 12.9 MB/s eta 0:00:01\r\u001b[K     |████████▌                       | 860 kB 12.9 MB/s eta 0:00:01\r\u001b[K     |████████▌                       | 870 kB 12.9 MB/s eta 0:00:01\r\u001b[K     |████████▋                       | 880 kB 12.9 MB/s eta 0:00:01\r\u001b[K     |████████▊                       | 890 kB 12.9 MB/s eta 0:00:01\r\u001b[K     |████████▉                       | 901 kB 12.9 MB/s eta 0:00:01\r\u001b[K     |█████████                       | 911 kB 12.9 MB/s eta 0:00:01\r\u001b[K     |█████████                       | 921 kB 12.9 MB/s eta 0:00:01\r\u001b[K     |█████████▏                      | 931 kB 12.9 MB/s eta 0:00:01\r\u001b[K     |█████████▎                      | 942 kB 12.9 MB/s eta 0:00:01\r\u001b[K     |█████████▍                      | 952 kB 12.9 MB/s eta 0:00:01\r\u001b[K     |█████████▌                      | 962 kB 12.9 MB/s eta 0:00:01\r\u001b[K     |█████████▌                      | 972 kB 12.9 MB/s eta 0:00:01\r\u001b[K     |█████████▋                      | 983 kB 12.9 MB/s eta 0:00:01\r\u001b[K     |█████████▊                      | 993 kB 12.9 MB/s eta 0:00:01\r\u001b[K     |█████████▉                      | 1.0 MB 12.9 MB/s eta 0:00:01\r\u001b[K     |██████████                      | 1.0 MB 12.9 MB/s eta 0:00:01\r\u001b[K     |██████████                      | 1.0 MB 12.9 MB/s eta 0:00:01\r\u001b[K     |██████████▏                     | 1.0 MB 12.9 MB/s eta 0:00:01\r\u001b[K     |██████████▎                     | 1.0 MB 12.9 MB/s eta 0:00:01\r\u001b[K     |██████████▍                     | 1.1 MB 12.9 MB/s eta 0:00:01\r\u001b[K     |██████████▌                     | 1.1 MB 12.9 MB/s eta 0:00:01\r\u001b[K     |██████████▋                     | 1.1 MB 12.9 MB/s eta 0:00:01\r\u001b[K     |██████████▋                     | 1.1 MB 12.9 MB/s eta 0:00:01\r\u001b[K     |██████████▊                     | 1.1 MB 12.9 MB/s eta 0:00:01\r\u001b[K     |██████████▉                     | 1.1 MB 12.9 MB/s eta 0:00:01\r\u001b[K     |███████████                     | 1.1 MB 12.9 MB/s eta 0:00:01\r\u001b[K     |███████████                     | 1.1 MB 12.9 MB/s eta 0:00:01\r\u001b[K     |███████████▏                    | 1.1 MB 12.9 MB/s eta 0:00:01\r\u001b[K     |███████████▎                    | 1.1 MB 12.9 MB/s eta 0:00:01\r\u001b[K     |███████████▍                    | 1.2 MB 12.9 MB/s eta 0:00:01\r\u001b[K     |███████████▌                    | 1.2 MB 12.9 MB/s eta 0:00:01\r\u001b[K     |███████████▋                    | 1.2 MB 12.9 MB/s eta 0:00:01\r\u001b[K     |███████████▋                    | 1.2 MB 12.9 MB/s eta 0:00:01\r\u001b[K     |███████████▊                    | 1.2 MB 12.9 MB/s eta 0:00:01\r\u001b[K     |███████████▉                    | 1.2 MB 12.9 MB/s eta 0:00:01\r\u001b[K     |████████████                    | 1.2 MB 12.9 MB/s eta 0:00:01\r\u001b[K     |████████████                    | 1.2 MB 12.9 MB/s eta 0:00:01\r\u001b[K     |████████████▏                   | 1.2 MB 12.9 MB/s eta 0:00:01\r\u001b[K     |████████████▎                   | 1.2 MB 12.9 MB/s eta 0:00:01\r\u001b[K     |████████████▍                   | 1.3 MB 12.9 MB/s eta 0:00:01\r\u001b[K     |████████████▌                   | 1.3 MB 12.9 MB/s eta 0:00:01\r\u001b[K     |████████████▋                   | 1.3 MB 12.9 MB/s eta 0:00:01\r\u001b[K     |████████████▊                   | 1.3 MB 12.9 MB/s eta 0:00:01\r\u001b[K     |████████████▊                   | 1.3 MB 12.9 MB/s eta 0:00:01\r\u001b[K     |████████████▉                   | 1.3 MB 12.9 MB/s eta 0:00:01\r\u001b[K     |█████████████                   | 1.3 MB 12.9 MB/s eta 0:00:01\r\u001b[K     |█████████████                   | 1.3 MB 12.9 MB/s eta 0:00:01\r\u001b[K     |█████████████▏                  | 1.3 MB 12.9 MB/s eta 0:00:01\r\u001b[K     |█████████████▎                  | 1.4 MB 12.9 MB/s eta 0:00:01\r\u001b[K     |█████████████▍                  | 1.4 MB 12.9 MB/s eta 0:00:01\r\u001b[K     |█████████████▌                  | 1.4 MB 12.9 MB/s eta 0:00:01\r\u001b[K     |█████████████▋                  | 1.4 MB 12.9 MB/s eta 0:00:01\r\u001b[K     |█████████████▊                  | 1.4 MB 12.9 MB/s eta 0:00:01\r\u001b[K     |█████████████▊                  | 1.4 MB 12.9 MB/s eta 0:00:01\r\u001b[K     |█████████████▉                  | 1.4 MB 12.9 MB/s eta 0:00:01\r\u001b[K     |██████████████                  | 1.4 MB 12.9 MB/s eta 0:00:01\r\u001b[K     |██████████████                  | 1.4 MB 12.9 MB/s eta 0:00:01\r\u001b[K     |██████████████▏                 | 1.4 MB 12.9 MB/s eta 0:00:01\r\u001b[K     |██████████████▎                 | 1.5 MB 12.9 MB/s eta 0:00:01\r\u001b[K     |██████████████▍                 | 1.5 MB 12.9 MB/s eta 0:00:01\r\u001b[K     |██████████████▌                 | 1.5 MB 12.9 MB/s eta 0:00:01\r\u001b[K     |██████████████▋                 | 1.5 MB 12.9 MB/s eta 0:00:01\r\u001b[K     |██████████████▊                 | 1.5 MB 12.9 MB/s eta 0:00:01\r\u001b[K     |██████████████▉                 | 1.5 MB 12.9 MB/s eta 0:00:01\r\u001b[K     |██████████████▉                 | 1.5 MB 12.9 MB/s eta 0:00:01\r\u001b[K     |███████████████                 | 1.5 MB 12.9 MB/s eta 0:00:01\r\u001b[K     |███████████████                 | 1.5 MB 12.9 MB/s eta 0:00:01\r\u001b[K     |███████████████▏                | 1.5 MB 12.9 MB/s eta 0:00:01\r\u001b[K     |███████████████▎                | 1.6 MB 12.9 MB/s eta 0:00:01\r\u001b[K     |███████████████▍                | 1.6 MB 12.9 MB/s eta 0:00:01\r\u001b[K     |███████████████▌                | 1.6 MB 12.9 MB/s eta 0:00:01\r\u001b[K     |███████████████▋                | 1.6 MB 12.9 MB/s eta 0:00:01\r\u001b[K     |███████████████▊                | 1.6 MB 12.9 MB/s eta 0:00:01\r\u001b[K     |███████████████▉                | 1.6 MB 12.9 MB/s eta 0:00:01\r\u001b[K     |███████████████▉                | 1.6 MB 12.9 MB/s eta 0:00:01\r\u001b[K     |████████████████                | 1.6 MB 12.9 MB/s eta 0:00:01\r\u001b[K     |████████████████                | 1.6 MB 12.9 MB/s eta 0:00:01\r\u001b[K     |████████████████▏               | 1.6 MB 12.9 MB/s eta 0:00:01\r\u001b[K     |████████████████▎               | 1.7 MB 12.9 MB/s eta 0:00:01\r\u001b[K     |████████████████▍               | 1.7 MB 12.9 MB/s eta 0:00:01\r\u001b[K     |████████████████▌               | 1.7 MB 12.9 MB/s eta 0:00:01\r\u001b[K     |████████████████▋               | 1.7 MB 12.9 MB/s eta 0:00:01\r\u001b[K     |████████████████▊               | 1.7 MB 12.9 MB/s eta 0:00:01\r\u001b[K     |████████████████▉               | 1.7 MB 12.9 MB/s eta 0:00:01\r\u001b[K     |█████████████████               | 1.7 MB 12.9 MB/s eta 0:00:01\r\u001b[K     |█████████████████               | 1.7 MB 12.9 MB/s eta 0:00:01\r\u001b[K     |█████████████████               | 1.7 MB 12.9 MB/s eta 0:00:01\r\u001b[K     |█████████████████▏              | 1.8 MB 12.9 MB/s eta 0:00:01\r\u001b[K     |█████████████████▎              | 1.8 MB 12.9 MB/s eta 0:00:01\r\u001b[K     |█████████████████▍              | 1.8 MB 12.9 MB/s eta 0:00:01\r\u001b[K     |█████████████████▌              | 1.8 MB 12.9 MB/s eta 0:00:01\r\u001b[K     |█████████████████▋              | 1.8 MB 12.9 MB/s eta 0:00:01\r\u001b[K     |█████████████████▊              | 1.8 MB 12.9 MB/s eta 0:00:01\r\u001b[K     |█████████████████▉              | 1.8 MB 12.9 MB/s eta 0:00:01\r\u001b[K     |██████████████████              | 1.8 MB 12.9 MB/s eta 0:00:01\r\u001b[K     |██████████████████              | 1.8 MB 12.9 MB/s eta 0:00:01\r\u001b[K     |██████████████████              | 1.8 MB 12.9 MB/s eta 0:00:01\r\u001b[K     |██████████████████▏             | 1.9 MB 12.9 MB/s eta 0:00:01\r\u001b[K     |██████████████████▎             | 1.9 MB 12.9 MB/s eta 0:00:01\r\u001b[K     |██████████████████▍             | 1.9 MB 12.9 MB/s eta 0:00:01\r\u001b[K     |██████████████████▌             | 1.9 MB 12.9 MB/s eta 0:00:01\r\u001b[K     |██████████████████▋             | 1.9 MB 12.9 MB/s eta 0:00:01\r\u001b[K     |██████████████████▊             | 1.9 MB 12.9 MB/s eta 0:00:01\r\u001b[K     |██████████████████▉             | 1.9 MB 12.9 MB/s eta 0:00:01\r\u001b[K     |███████████████████             | 1.9 MB 12.9 MB/s eta 0:00:01\r\u001b[K     |███████████████████             | 1.9 MB 12.9 MB/s eta 0:00:01\r\u001b[K     |███████████████████             | 1.9 MB 12.9 MB/s eta 0:00:01\r\u001b[K     |███████████████████▏            | 2.0 MB 12.9 MB/s eta 0:00:01\r\u001b[K     |███████████████████▎            | 2.0 MB 12.9 MB/s eta 0:00:01\r\u001b[K     |███████████████████▍            | 2.0 MB 12.9 MB/s eta 0:00:01\r\u001b[K     |███████████████████▌            | 2.0 MB 12.9 MB/s eta 0:00:01\r\u001b[K     |███████████████████▋            | 2.0 MB 12.9 MB/s eta 0:00:01\r\u001b[K     |███████████████████▊            | 2.0 MB 12.9 MB/s eta 0:00:01\r\u001b[K     |███████████████████▉            | 2.0 MB 12.9 MB/s eta 0:00:01\r\u001b[K     |████████████████████            | 2.0 MB 12.9 MB/s eta 0:00:01\r\u001b[K     |████████████████████            | 2.0 MB 12.9 MB/s eta 0:00:01\r\u001b[K     |████████████████████            | 2.0 MB 12.9 MB/s eta 0:00:01\r\u001b[K     |████████████████████▏           | 2.1 MB 12.9 MB/s eta 0:00:01\r\u001b[K     |████████████████████▎           | 2.1 MB 12.9 MB/s eta 0:00:01\r\u001b[K     |████████████████████▍           | 2.1 MB 12.9 MB/s eta 0:00:01\r\u001b[K     |████████████████████▌           | 2.1 MB 12.9 MB/s eta 0:00:01\r\u001b[K     |████████████████████▋           | 2.1 MB 12.9 MB/s eta 0:00:01\r\u001b[K     |████████████████████▊           | 2.1 MB 12.9 MB/s eta 0:00:01\r\u001b[K     |████████████████████▉           | 2.1 MB 12.9 MB/s eta 0:00:01\r\u001b[K     |█████████████████████           | 2.1 MB 12.9 MB/s eta 0:00:01\r\u001b[K     |█████████████████████           | 2.1 MB 12.9 MB/s eta 0:00:01\r\u001b[K     |█████████████████████▏          | 2.2 MB 12.9 MB/s eta 0:00:01\r\u001b[K     |█████████████████████▏          | 2.2 MB 12.9 MB/s eta 0:00:01\r\u001b[K     |█████████████████████▎          | 2.2 MB 12.9 MB/s eta 0:00:01\r\u001b[K     |█████████████████████▍          | 2.2 MB 12.9 MB/s eta 0:00:01\r\u001b[K     |█████████████████████▌          | 2.2 MB 12.9 MB/s eta 0:00:01\r\u001b[K     |█████████████████████▋          | 2.2 MB 12.9 MB/s eta 0:00:01\r\u001b[K     |█████████████████████▊          | 2.2 MB 12.9 MB/s eta 0:00:01\r\u001b[K     |█████████████████████▉          | 2.2 MB 12.9 MB/s eta 0:00:01\r\u001b[K     |██████████████████████          | 2.2 MB 12.9 MB/s eta 0:00:01\r\u001b[K     |██████████████████████          | 2.2 MB 12.9 MB/s eta 0:00:01\r\u001b[K     |██████████████████████▏         | 2.3 MB 12.9 MB/s eta 0:00:01\r\u001b[K     |██████████████████████▏         | 2.3 MB 12.9 MB/s eta 0:00:01\r\u001b[K     |██████████████████████▎         | 2.3 MB 12.9 MB/s eta 0:00:01\r\u001b[K     |██████████████████████▍         | 2.3 MB 12.9 MB/s eta 0:00:01\r\u001b[K     |██████████████████████▌         | 2.3 MB 12.9 MB/s eta 0:00:01\r\u001b[K     |██████████████████████▋         | 2.3 MB 12.9 MB/s eta 0:00:01\r\u001b[K     |██████████████████████▊         | 2.3 MB 12.9 MB/s eta 0:00:01\r\u001b[K     |██████████████████████▉         | 2.3 MB 12.9 MB/s eta 0:00:01\r\u001b[K     |███████████████████████         | 2.3 MB 12.9 MB/s eta 0:00:01\r\u001b[K     |███████████████████████         | 2.3 MB 12.9 MB/s eta 0:00:01\r\u001b[K     |███████████████████████▏        | 2.4 MB 12.9 MB/s eta 0:00:01\r\u001b[K     |███████████████████████▎        | 2.4 MB 12.9 MB/s eta 0:00:01\r\u001b[K     |███████████████████████▎        | 2.4 MB 12.9 MB/s eta 0:00:01\r\u001b[K     |███████████████████████▍        | 2.4 MB 12.9 MB/s eta 0:00:01\r\u001b[K     |███████████████████████▌        | 2.4 MB 12.9 MB/s eta 0:00:01\r\u001b[K     |███████████████████████▋        | 2.4 MB 12.9 MB/s eta 0:00:01\r\u001b[K     |███████████████████████▊        | 2.4 MB 12.9 MB/s eta 0:00:01\r\u001b[K     |███████████████████████▉        | 2.4 MB 12.9 MB/s eta 0:00:01\r\u001b[K     |████████████████████████        | 2.4 MB 12.9 MB/s eta 0:00:01\r\u001b[K     |████████████████████████        | 2.4 MB 12.9 MB/s eta 0:00:01\r\u001b[K     |████████████████████████▏       | 2.5 MB 12.9 MB/s eta 0:00:01\r\u001b[K     |████████████████████████▎       | 2.5 MB 12.9 MB/s eta 0:00:01\r\u001b[K     |████████████████████████▍       | 2.5 MB 12.9 MB/s eta 0:00:01\r\u001b[K     |████████████████████████▍       | 2.5 MB 12.9 MB/s eta 0:00:01\r\u001b[K     |████████████████████████▌       | 2.5 MB 12.9 MB/s eta 0:00:01\r\u001b[K     |████████████████████████▋       | 2.5 MB 12.9 MB/s eta 0:00:01\r\u001b[K     |████████████████████████▊       | 2.5 MB 12.9 MB/s eta 0:00:01\r\u001b[K     |████████████████████████▉       | 2.5 MB 12.9 MB/s eta 0:00:01\r\u001b[K     |█████████████████████████       | 2.5 MB 12.9 MB/s eta 0:00:01\r\u001b[K     |█████████████████████████       | 2.5 MB 12.9 MB/s eta 0:00:01\r\u001b[K     |█████████████████████████▏      | 2.6 MB 12.9 MB/s eta 0:00:01\r\u001b[K     |█████████████████████████▎      | 2.6 MB 12.9 MB/s eta 0:00:01\r\u001b[K     |█████████████████████████▍      | 2.6 MB 12.9 MB/s eta 0:00:01\r\u001b[K     |█████████████████████████▍      | 2.6 MB 12.9 MB/s eta 0:00:01\r\u001b[K     |█████████████████████████▌      | 2.6 MB 12.9 MB/s eta 0:00:01\r\u001b[K     |█████████████████████████▋      | 2.6 MB 12.9 MB/s eta 0:00:01\r\u001b[K     |█████████████████████████▊      | 2.6 MB 12.9 MB/s eta 0:00:01\r\u001b[K     |█████████████████████████▉      | 2.6 MB 12.9 MB/s eta 0:00:01\r\u001b[K     |██████████████████████████      | 2.6 MB 12.9 MB/s eta 0:00:01\r\u001b[K     |██████████████████████████      | 2.7 MB 12.9 MB/s eta 0:00:01\r\u001b[K     |██████████████████████████▏     | 2.7 MB 12.9 MB/s eta 0:00:01\r\u001b[K     |██████████████████████████▎     | 2.7 MB 12.9 MB/s eta 0:00:01\r\u001b[K     |██████████████████████████▍     | 2.7 MB 12.9 MB/s eta 0:00:01\r\u001b[K     |██████████████████████████▌     | 2.7 MB 12.9 MB/s eta 0:00:01\r\u001b[K     |██████████████████████████▌     | 2.7 MB 12.9 MB/s eta 0:00:01\r\u001b[K     |██████████████████████████▋     | 2.7 MB 12.9 MB/s eta 0:00:01\r\u001b[K     |██████████████████████████▊     | 2.7 MB 12.9 MB/s eta 0:00:01\r\u001b[K     |██████████████████████████▉     | 2.7 MB 12.9 MB/s eta 0:00:01\r\u001b[K     |███████████████████████████     | 2.7 MB 12.9 MB/s eta 0:00:01\r\u001b[K     |███████████████████████████     | 2.8 MB 12.9 MB/s eta 0:00:01\r\u001b[K     |███████████████████████████▏    | 2.8 MB 12.9 MB/s eta 0:00:01\r\u001b[K     |███████████████████████████▎    | 2.8 MB 12.9 MB/s eta 0:00:01\r\u001b[K     |███████████████████████████▍    | 2.8 MB 12.9 MB/s eta 0:00:01\r\u001b[K     |███████████████████████████▌    | 2.8 MB 12.9 MB/s eta 0:00:01\r\u001b[K     |███████████████████████████▌    | 2.8 MB 12.9 MB/s eta 0:00:01\r\u001b[K     |███████████████████████████▋    | 2.8 MB 12.9 MB/s eta 0:00:01\r\u001b[K     |███████████████████████████▊    | 2.8 MB 12.9 MB/s eta 0:00:01\r\u001b[K     |███████████████████████████▉    | 2.8 MB 12.9 MB/s eta 0:00:01\r\u001b[K     |████████████████████████████    | 2.8 MB 12.9 MB/s eta 0:00:01\r\u001b[K     |████████████████████████████    | 2.9 MB 12.9 MB/s eta 0:00:01\r\u001b[K     |████████████████████████████▏   | 2.9 MB 12.9 MB/s eta 0:00:01\r\u001b[K     |████████████████████████████▎   | 2.9 MB 12.9 MB/s eta 0:00:01\r\u001b[K     |████████████████████████████▍   | 2.9 MB 12.9 MB/s eta 0:00:01\r\u001b[K     |████████████████████████████▌   | 2.9 MB 12.9 MB/s eta 0:00:01\r\u001b[K     |████████████████████████████▋   | 2.9 MB 12.9 MB/s eta 0:00:01\r\u001b[K     |████████████████████████████▋   | 2.9 MB 12.9 MB/s eta 0:00:01\r\u001b[K     |████████████████████████████▊   | 2.9 MB 12.9 MB/s eta 0:00:01\r\u001b[K     |████████████████████████████▉   | 2.9 MB 12.9 MB/s eta 0:00:01\r\u001b[K     |█████████████████████████████   | 2.9 MB 12.9 MB/s eta 0:00:01\r\u001b[K     |█████████████████████████████   | 3.0 MB 12.9 MB/s eta 0:00:01\r\u001b[K     |█████████████████████████████▏  | 3.0 MB 12.9 MB/s eta 0:00:01\r\u001b[K     |█████████████████████████████▎  | 3.0 MB 12.9 MB/s eta 0:00:01\r\u001b[K     |█████████████████████████████▍  | 3.0 MB 12.9 MB/s eta 0:00:01\r\u001b[K     |█████████████████████████████▌  | 3.0 MB 12.9 MB/s eta 0:00:01\r\u001b[K     |█████████████████████████████▋  | 3.0 MB 12.9 MB/s eta 0:00:01\r\u001b[K     |█████████████████████████████▋  | 3.0 MB 12.9 MB/s eta 0:00:01\r\u001b[K     |█████████████████████████████▊  | 3.0 MB 12.9 MB/s eta 0:00:01\r\u001b[K     |█████████████████████████████▉  | 3.0 MB 12.9 MB/s eta 0:00:01\r\u001b[K     |██████████████████████████████  | 3.1 MB 12.9 MB/s eta 0:00:01\r\u001b[K     |██████████████████████████████  | 3.1 MB 12.9 MB/s eta 0:00:01\r\u001b[K     |██████████████████████████████▏ | 3.1 MB 12.9 MB/s eta 0:00:01\r\u001b[K     |██████████████████████████████▎ | 3.1 MB 12.9 MB/s eta 0:00:01\r\u001b[K     |██████████████████████████████▍ | 3.1 MB 12.9 MB/s eta 0:00:01\r\u001b[K     |██████████████████████████████▌ | 3.1 MB 12.9 MB/s eta 0:00:01\r\u001b[K     |██████████████████████████████▋ | 3.1 MB 12.9 MB/s eta 0:00:01\r\u001b[K     |██████████████████████████████▊ | 3.1 MB 12.9 MB/s eta 0:00:01\r\u001b[K     |██████████████████████████████▊ | 3.1 MB 12.9 MB/s eta 0:00:01\r\u001b[K     |██████████████████████████████▉ | 3.1 MB 12.9 MB/s eta 0:00:01\r\u001b[K     |███████████████████████████████ | 3.2 MB 12.9 MB/s eta 0:00:01\r\u001b[K     |███████████████████████████████ | 3.2 MB 12.9 MB/s eta 0:00:01\r\u001b[K     |███████████████████████████████▏| 3.2 MB 12.9 MB/s eta 0:00:01\r\u001b[K     |███████████████████████████████▎| 3.2 MB 12.9 MB/s eta 0:00:01\r\u001b[K     |███████████████████████████████▍| 3.2 MB 12.9 MB/s eta 0:00:01\r\u001b[K     |███████████████████████████████▌| 3.2 MB 12.9 MB/s eta 0:00:01\r\u001b[K     |███████████████████████████████▋| 3.2 MB 12.9 MB/s eta 0:00:01\r\u001b[K     |███████████████████████████████▊| 3.2 MB 12.9 MB/s eta 0:00:01\r\u001b[K     |███████████████████████████████▊| 3.2 MB 12.9 MB/s eta 0:00:01\r\u001b[K     |███████████████████████████████▉| 3.2 MB 12.9 MB/s eta 0:00:01\r\u001b[K     |████████████████████████████████| 3.3 MB 12.9 MB/s eta 0:00:01\r\u001b[K     |████████████████████████████████| 3.3 MB 12.9 MB/s \n",
            "\u001b[?25hInstalling collected packages: tokenizers\n",
            "Successfully installed tokenizers-0.10.3\n",
            "Collecting transformers\n",
            "  Downloading transformers-4.12.5-py3-none-any.whl (3.1 MB)\n",
            "\u001b[K     |████████████████████████████████| 3.1 MB 12.6 MB/s \n",
            "\u001b[?25hRequirement already satisfied: numpy>=1.17 in /usr/local/lib/python3.7/dist-packages (from transformers) (1.19.5)\n",
            "Requirement already satisfied: filelock in /usr/local/lib/python3.7/dist-packages (from transformers) (3.4.0)\n",
            "Collecting huggingface-hub<1.0,>=0.1.0\n",
            "  Downloading huggingface_hub-0.2.1-py3-none-any.whl (61 kB)\n",
            "\u001b[K     |████████████████████████████████| 61 kB 495 kB/s \n",
            "\u001b[?25hCollecting pyyaml>=5.1\n",
            "  Downloading PyYAML-6.0-cp37-cp37m-manylinux_2_5_x86_64.manylinux1_x86_64.manylinux_2_12_x86_64.manylinux2010_x86_64.whl (596 kB)\n",
            "\u001b[K     |████████████████████████████████| 596 kB 44.4 MB/s \n",
            "\u001b[?25hRequirement already satisfied: regex!=2019.12.17 in /usr/local/lib/python3.7/dist-packages (from transformers) (2019.12.20)\n",
            "Requirement already satisfied: tokenizers<0.11,>=0.10.1 in /usr/local/lib/python3.7/dist-packages (from transformers) (0.10.3)\n",
            "Collecting sacremoses\n",
            "  Downloading sacremoses-0.0.46-py3-none-any.whl (895 kB)\n",
            "\u001b[K     |████████████████████████████████| 895 kB 42.0 MB/s \n",
            "\u001b[?25hRequirement already satisfied: requests in /usr/local/lib/python3.7/dist-packages (from transformers) (2.23.0)\n",
            "Requirement already satisfied: importlib-metadata in /usr/local/lib/python3.7/dist-packages (from transformers) (4.8.2)\n",
            "Requirement already satisfied: tqdm>=4.27 in /usr/local/lib/python3.7/dist-packages (from transformers) (4.62.3)\n",
            "Requirement already satisfied: packaging>=20.0 in /usr/local/lib/python3.7/dist-packages (from transformers) (21.3)\n",
            "Requirement already satisfied: typing-extensions>=3.7.4.3 in /usr/local/lib/python3.7/dist-packages (from huggingface-hub<1.0,>=0.1.0->transformers) (3.10.0.2)\n",
            "Requirement already satisfied: pyparsing!=3.0.5,>=2.0.2 in /usr/local/lib/python3.7/dist-packages (from packaging>=20.0->transformers) (3.0.6)\n",
            "Requirement already satisfied: zipp>=0.5 in /usr/local/lib/python3.7/dist-packages (from importlib-metadata->transformers) (3.6.0)\n",
            "Requirement already satisfied: certifi>=2017.4.17 in /usr/local/lib/python3.7/dist-packages (from requests->transformers) (2021.10.8)\n",
            "Requirement already satisfied: urllib3!=1.25.0,!=1.25.1,<1.26,>=1.21.1 in /usr/local/lib/python3.7/dist-packages (from requests->transformers) (1.24.3)\n",
            "Requirement already satisfied: chardet<4,>=3.0.2 in /usr/local/lib/python3.7/dist-packages (from requests->transformers) (3.0.4)\n",
            "Requirement already satisfied: idna<3,>=2.5 in /usr/local/lib/python3.7/dist-packages (from requests->transformers) (2.10)\n",
            "Requirement already satisfied: six in /usr/local/lib/python3.7/dist-packages (from sacremoses->transformers) (1.15.0)\n",
            "Requirement already satisfied: joblib in /usr/local/lib/python3.7/dist-packages (from sacremoses->transformers) (1.1.0)\n",
            "Requirement already satisfied: click in /usr/local/lib/python3.7/dist-packages (from sacremoses->transformers) (7.1.2)\n",
            "Installing collected packages: pyyaml, sacremoses, huggingface-hub, transformers\n",
            "  Attempting uninstall: pyyaml\n",
            "    Found existing installation: PyYAML 3.13\n",
            "    Uninstalling PyYAML-3.13:\n",
            "      Successfully uninstalled PyYAML-3.13\n",
            "Successfully installed huggingface-hub-0.2.1 pyyaml-6.0 sacremoses-0.0.46 transformers-4.12.5\n",
            "Requirement already satisfied: wget in /usr/local/lib/python3.7/dist-packages (3.2)\n",
            "Collecting sentence_transformers\n",
            "  Downloading sentence-transformers-2.1.0.tar.gz (78 kB)\n",
            "\u001b[K     |████████████████████████████████| 78 kB 4.8 MB/s \n",
            "\u001b[?25hRequirement already satisfied: transformers<5.0.0,>=4.6.0 in /usr/local/lib/python3.7/dist-packages (from sentence_transformers) (4.12.5)\n",
            "Requirement already satisfied: tokenizers>=0.10.3 in /usr/local/lib/python3.7/dist-packages (from sentence_transformers) (0.10.3)\n",
            "Requirement already satisfied: tqdm in /usr/local/lib/python3.7/dist-packages (from sentence_transformers) (4.62.3)\n",
            "Requirement already satisfied: torch>=1.6.0 in /usr/local/lib/python3.7/dist-packages (from sentence_transformers) (1.10.0+cu111)\n",
            "Requirement already satisfied: torchvision in /usr/local/lib/python3.7/dist-packages (from sentence_transformers) (0.11.1+cu111)\n",
            "Requirement already satisfied: numpy in /usr/local/lib/python3.7/dist-packages (from sentence_transformers) (1.19.5)\n",
            "Requirement already satisfied: scikit-learn in /usr/local/lib/python3.7/dist-packages (from sentence_transformers) (1.0.1)\n",
            "Requirement already satisfied: scipy in /usr/local/lib/python3.7/dist-packages (from sentence_transformers) (1.4.1)\n",
            "Requirement already satisfied: nltk in /usr/local/lib/python3.7/dist-packages (from sentence_transformers) (3.2.5)\n",
            "Collecting sentencepiece\n",
            "  Downloading sentencepiece-0.1.96-cp37-cp37m-manylinux_2_17_x86_64.manylinux2014_x86_64.whl (1.2 MB)\n",
            "\u001b[K     |████████████████████████████████| 1.2 MB 30.2 MB/s \n",
            "\u001b[?25hRequirement already satisfied: huggingface-hub in /usr/local/lib/python3.7/dist-packages (from sentence_transformers) (0.2.1)\n",
            "Requirement already satisfied: typing-extensions in /usr/local/lib/python3.7/dist-packages (from torch>=1.6.0->sentence_transformers) (3.10.0.2)\n",
            "Requirement already satisfied: sacremoses in /usr/local/lib/python3.7/dist-packages (from transformers<5.0.0,>=4.6.0->sentence_transformers) (0.0.46)\n",
            "Requirement already satisfied: importlib-metadata in /usr/local/lib/python3.7/dist-packages (from transformers<5.0.0,>=4.6.0->sentence_transformers) (4.8.2)\n",
            "Requirement already satisfied: packaging>=20.0 in /usr/local/lib/python3.7/dist-packages (from transformers<5.0.0,>=4.6.0->sentence_transformers) (21.3)\n",
            "Requirement already satisfied: requests in /usr/local/lib/python3.7/dist-packages (from transformers<5.0.0,>=4.6.0->sentence_transformers) (2.23.0)\n",
            "Requirement already satisfied: pyyaml>=5.1 in /usr/local/lib/python3.7/dist-packages (from transformers<5.0.0,>=4.6.0->sentence_transformers) (6.0)\n",
            "Requirement already satisfied: filelock in /usr/local/lib/python3.7/dist-packages (from transformers<5.0.0,>=4.6.0->sentence_transformers) (3.4.0)\n",
            "Requirement already satisfied: regex!=2019.12.17 in /usr/local/lib/python3.7/dist-packages (from transformers<5.0.0,>=4.6.0->sentence_transformers) (2019.12.20)\n",
            "Requirement already satisfied: pyparsing!=3.0.5,>=2.0.2 in /usr/local/lib/python3.7/dist-packages (from packaging>=20.0->transformers<5.0.0,>=4.6.0->sentence_transformers) (3.0.6)\n",
            "Requirement already satisfied: zipp>=0.5 in /usr/local/lib/python3.7/dist-packages (from importlib-metadata->transformers<5.0.0,>=4.6.0->sentence_transformers) (3.6.0)\n",
            "Requirement already satisfied: six in /usr/local/lib/python3.7/dist-packages (from nltk->sentence_transformers) (1.15.0)\n",
            "Requirement already satisfied: chardet<4,>=3.0.2 in /usr/local/lib/python3.7/dist-packages (from requests->transformers<5.0.0,>=4.6.0->sentence_transformers) (3.0.4)\n",
            "Requirement already satisfied: certifi>=2017.4.17 in /usr/local/lib/python3.7/dist-packages (from requests->transformers<5.0.0,>=4.6.0->sentence_transformers) (2021.10.8)\n",
            "Requirement already satisfied: idna<3,>=2.5 in /usr/local/lib/python3.7/dist-packages (from requests->transformers<5.0.0,>=4.6.0->sentence_transformers) (2.10)\n",
            "Requirement already satisfied: urllib3!=1.25.0,!=1.25.1,<1.26,>=1.21.1 in /usr/local/lib/python3.7/dist-packages (from requests->transformers<5.0.0,>=4.6.0->sentence_transformers) (1.24.3)\n",
            "Requirement already satisfied: click in /usr/local/lib/python3.7/dist-packages (from sacremoses->transformers<5.0.0,>=4.6.0->sentence_transformers) (7.1.2)\n",
            "Requirement already satisfied: joblib in /usr/local/lib/python3.7/dist-packages (from sacremoses->transformers<5.0.0,>=4.6.0->sentence_transformers) (1.1.0)\n",
            "Requirement already satisfied: threadpoolctl>=2.0.0 in /usr/local/lib/python3.7/dist-packages (from scikit-learn->sentence_transformers) (3.0.0)\n",
            "Requirement already satisfied: pillow!=8.3.0,>=5.3.0 in /usr/local/lib/python3.7/dist-packages (from torchvision->sentence_transformers) (7.1.2)\n",
            "Building wheels for collected packages: sentence-transformers\n",
            "  Building wheel for sentence-transformers (setup.py) ... \u001b[?25l\u001b[?25hdone\n",
            "  Created wheel for sentence-transformers: filename=sentence_transformers-2.1.0-py3-none-any.whl size=121000 sha256=8e359a01e1f1ce6ad4c37a1b4065faf6591cb9f0d0b64d075891636fc598a561\n",
            "  Stored in directory: /root/.cache/pip/wheels/90/f0/bb/ed1add84da70092ea526466eadc2bfb197c4bcb8d4fa5f7bad\n",
            "Successfully built sentence-transformers\n",
            "Installing collected packages: sentencepiece, sentence-transformers\n",
            "Successfully installed sentence-transformers-2.1.0 sentencepiece-0.1.96\n"
          ]
        }
      ]
    },
    {
      "cell_type": "code",
      "metadata": {
        "id": "Zb6kgCXpdnqA"
      },
      "source": [
        "# from google.colab import drive\n",
        "# drive.mount('/content/drive')"
      ],
      "execution_count": null,
      "outputs": []
    },
    {
      "cell_type": "markdown",
      "metadata": {
        "id": "UIQvKHozOtys"
      },
      "source": [
        "**Regression task**\n",
        "\n",
        "Load the data and then build the model required using the sentence transformer library. As loss function define the Mean Squared Error between the label sentence similarity and the predicted one (through the cosine similarity)"
      ]
    },
    {
      "cell_type": "code",
      "metadata": {
        "id": "NfDF4WhO0l5U"
      },
      "source": [
        "train_path = '/content/sts-train.csv'\n",
        "\n",
        "# will be used for the evaluation phase\n",
        "df_train = pd.read_csv('/content/sts-train.csv', sep='\\t', header=None, error_bad_lines=False, quoting=csv.QUOTE_NONE)\n",
        "df_train.columns=['title', 'type', 'year', 'id', 'value', 'sentenceA', 'sentenceB']\n",
        "\n",
        "# will be used for the training phase\n",
        "train_samples_sts=[]\n",
        "with open(train_path, newline='') as train:\n",
        "  columns=['title', 'type', 'year', 'id', 'value', 'sentenceA', 'sentenceB']\n",
        "  df = csv.DictReader(train, delimiter='\\t', fieldnames=columns, quoting=csv.QUOTE_NONE)\n",
        "  for row in df:\n",
        "     score = float(row['value']) / 5.0  # Normalize score to range 0 ... 1\n",
        "     inp_example = InputExample(texts=[row['sentenceA'], row['sentenceB']], label=score)\n",
        "     train_samples_sts.append(inp_example)\n",
        "     #print(inp_example)\n"
      ],
      "execution_count": null,
      "outputs": []
    },
    {
      "cell_type": "code",
      "metadata": {
        "id": "WilJ_qRR0reG"
      },
      "source": [
        "# will be used for the evaluation phase\n",
        "df_dev = pd.read_csv('/content/sts-dev.csv', sep='\\t', header=None, error_bad_lines=False, quoting=csv.QUOTE_NONE)\n",
        "df_dev.columns=['title', 'type', 'year', 'id', 'value', 'sentenceA', 'sentenceB']\n",
        "\n",
        "# used for the training\n",
        "dev_samples_sts=[]\n",
        "\n",
        "with open('/content/sts-dev.csv', newline='') as train:\n",
        "  columns=['title', 'type', 'year', 'id', 'value', 'sentenceA', 'sentenceB']\n",
        "  df = csv.DictReader(train, delimiter='\\t', fieldnames=columns, quoting=csv.QUOTE_NONE)\n",
        "  for row in df:\n",
        "     score = float(row['value']) / 5.0  # Normalize score to range 0 ... 1\n",
        "     inp_example = InputExample(texts=[row['sentenceA'], row['sentenceB']], label=score)\n",
        "     dev_samples_sts.append(inp_example)\n",
        "     #print(inp_example)"
      ],
      "execution_count": null,
      "outputs": []
    },
    {
      "cell_type": "code",
      "metadata": {
        "id": "H1BezxCQ0vQe"
      },
      "source": [
        "test_line = '/content/sts-test.csv'\n",
        "\n",
        "# will be used for the evaluation phase\n",
        "df_test = pd.read_csv(test_line, sep='\\t', header=None, error_bad_lines=False, quoting=csv.QUOTE_NONE)\n",
        "df_test.columns=['title', 'type', 'year', 'id', 'value', 'sentenceA', 'sentenceB']\n",
        "\n",
        "\n",
        "# used for the evaluation phase\n",
        "test_samples_sts=[]\n",
        "with open(test_line, newline='') as train:\n",
        "  columns=['title', 'type', 'year', 'id', 'value', 'sentenceA', 'sentenceB']\n",
        "  df = csv.DictReader(train, delimiter='\\t', fieldnames=columns, quoting=csv.QUOTE_NONE)\n",
        "  for row in df:\n",
        "     score = float(row['value']) / 5.0  # Normalize score to range 0 ... 1\n",
        "     inp_example = InputExample(texts=[row['sentenceA'], row['sentenceB']], label=score)\n",
        "     test_samples_sts.append(inp_example)\n",
        "     #print(inp_example)"
      ],
      "execution_count": null,
      "outputs": []
    },
    {
      "cell_type": "markdown",
      "metadata": {
        "id": "xs9hemsVPatm"
      },
      "source": [
        "Define the pre-trained model as bert-base-uncased and using sentence-transformer library to define the word-embedding"
      ]
    },
    {
      "cell_type": "code",
      "metadata": {
        "colab": {
          "base_uri": "https://localhost:8080/",
          "height": 252,
          "referenced_widgets": [
            "bd957d6bb2e441ed9bca7c01031e4b8e",
            "c4ca7cfb575b4050af4ca8cf365721f1",
            "edb84cf90e5a46eb80b6c8eb17fe561d",
            "a501577b628a4df78a2217fc811e4401",
            "6297dd9d72a94dc0a46b3d611a7b7a12",
            "5e12b2232a3449f08f8c80979bce6dc3",
            "407faea7331e40e2930b9c9c02aac76f",
            "d19a9060690f4f07b545b9e4a11b731b",
            "a10de484e8884f1889ea6c4765f913fe",
            "aa2ebd9183ed4a818997dd9eafa28cce",
            "5ef43cafbac4419db15556db0fc0824a",
            "8cc240554f49414eb05c182d4af22530",
            "11a4000a7f8844dba4de947e82b3c913",
            "89b48dd01ab040e5bdc22095b75a1e1a",
            "1a4a2a5056fc41c09acc32626a9d2ede",
            "ddbe00774b604259abbcd67ff764225f",
            "c9ddf6b8a0c04ab280a8c5eff23ad985",
            "3fd87d4fd0024411be36fb7fea275cf8",
            "75226aff2f724ccb9988007e63405326",
            "acbe4c5ead60438fa6033bc1f9dfc33c",
            "4ba0ea4f804144119254ad67847c0298",
            "8c61edd8127a472b86095f5621a45a52",
            "2bab4c4e5fc44d2d9f008aa9af7a2c6a",
            "2f991f45d2524edb980ec96af845b02c",
            "a167ae1ced694bf7b334fe828bcb70e9",
            "6ddda0908f6e4de8946f9e8346206012",
            "a2a86242975e45f2b90c06883b7bf70a",
            "8ae197bf89924ce0b08ca8ffc36cb8b8",
            "0659ec52385144d2af940ff3dbc9f935",
            "6408197cb7704a4fa7add9c79bface7b",
            "bdacfc2ca6e14f768bdffc6fabf14222",
            "e07d4622eacf43479c043dd9b6ff0812",
            "c719dba2e0cd4fb8abe52e40a69a429a",
            "98ac76c6a87c49a59bc4154736073ec2",
            "7ee5cfd8d5784037813966e16eff6140",
            "3eed70416f7e43cebf65e90e3db032a9",
            "1a79e711196c4b4a9585beb4a6c801a4",
            "74cd5ca442f94277b63426027b4c1bfd",
            "5d37d8e642f140a3ab197908862136af",
            "e5bc16bd853649a184ecd2316c884bdb",
            "f3758a9c3de5476ab3cab0f957fc31db",
            "9f17d3dcfe7d46258032ed4d96b24234",
            "1d0786ea39134f968219a51b5db3fcfc",
            "4ba9bbc578a942f889c61b32497a5bca",
            "65655fcf8d7545f082a2a9e6b1bce9ac",
            "d452891b14e24b5db2292b756fb8cc07",
            "64d9798f58c04d989958ebe4f6ad5db0",
            "4c30cf7c92fc4c49a742379a17fb0c04",
            "7abcd5196f1449f5a68bb1f8388d13f5",
            "96ace99f79be499d80e600732b32025f",
            "5e948225ab00479d9281e81277c4f505",
            "f7d883a0da13498c9452883ac8693c5c",
            "63d6242310ce4cc9a4a667e42d231d53",
            "3a448f09e3044018a35def43354c91db",
            "dde42dfbbc124330b1c2e939904175f8"
          ]
        },
        "id": "hebq42UE01Qd",
        "outputId": "7c3b22fd-af63-422e-9d55-734e4c803ab7"
      },
      "source": [
        "model_name = 'bert-base-uncased'\n",
        "word_embedding_model = models.Transformer(model_name)"
      ],
      "execution_count": 13,
      "outputs": [
        {
          "output_type": "display_data",
          "data": {
            "application/vnd.jupyter.widget-view+json": {
              "model_id": "bd957d6bb2e441ed9bca7c01031e4b8e",
              "version_minor": 0,
              "version_major": 2
            },
            "text/plain": [
              "Downloading:   0%|          | 0.00/570 [00:00<?, ?B/s]"
            ]
          },
          "metadata": {}
        },
        {
          "output_type": "display_data",
          "data": {
            "application/vnd.jupyter.widget-view+json": {
              "model_id": "8cc240554f49414eb05c182d4af22530",
              "version_minor": 0,
              "version_major": 2
            },
            "text/plain": [
              "Downloading:   0%|          | 0.00/420M [00:00<?, ?B/s]"
            ]
          },
          "metadata": {}
        },
        {
          "output_type": "stream",
          "name": "stderr",
          "text": [
            "Some weights of the model checkpoint at bert-base-uncased were not used when initializing BertModel: ['cls.predictions.transform.LayerNorm.weight', 'cls.seq_relationship.bias', 'cls.predictions.decoder.weight', 'cls.predictions.bias', 'cls.predictions.transform.dense.bias', 'cls.predictions.transform.LayerNorm.bias', 'cls.predictions.transform.dense.weight', 'cls.seq_relationship.weight']\n",
            "- This IS expected if you are initializing BertModel from the checkpoint of a model trained on another task or with another architecture (e.g. initializing a BertForSequenceClassification model from a BertForPreTraining model).\n",
            "- This IS NOT expected if you are initializing BertModel from the checkpoint of a model that you expect to be exactly identical (initializing a BertForSequenceClassification model from a BertForSequenceClassification model).\n"
          ]
        },
        {
          "output_type": "display_data",
          "data": {
            "application/vnd.jupyter.widget-view+json": {
              "model_id": "2bab4c4e5fc44d2d9f008aa9af7a2c6a",
              "version_minor": 0,
              "version_major": 2
            },
            "text/plain": [
              "Downloading:   0%|          | 0.00/28.0 [00:00<?, ?B/s]"
            ]
          },
          "metadata": {}
        },
        {
          "output_type": "display_data",
          "data": {
            "application/vnd.jupyter.widget-view+json": {
              "model_id": "98ac76c6a87c49a59bc4154736073ec2",
              "version_minor": 0,
              "version_major": 2
            },
            "text/plain": [
              "Downloading:   0%|          | 0.00/226k [00:00<?, ?B/s]"
            ]
          },
          "metadata": {}
        },
        {
          "output_type": "display_data",
          "data": {
            "application/vnd.jupyter.widget-view+json": {
              "model_id": "65655fcf8d7545f082a2a9e6b1bce9ac",
              "version_minor": 0,
              "version_major": 2
            },
            "text/plain": [
              "Downloading:   0%|          | 0.00/455k [00:00<?, ?B/s]"
            ]
          },
          "metadata": {}
        }
      ]
    },
    {
      "cell_type": "markdown",
      "metadata": {
        "id": "X0ewx5SJPrYq"
      },
      "source": [
        "Define the parameters as required by the lab assignement"
      ]
    },
    {
      "cell_type": "code",
      "metadata": {
        "id": "Gwn137eo03uY"
      },
      "source": [
        "train_batch_size = 16\n",
        "learn_rate = 2e-5\n",
        "num_epochs = 1"
      ],
      "execution_count": 14,
      "outputs": []
    },
    {
      "cell_type": "markdown",
      "metadata": {
        "id": "Oi2CUUUEPwyQ"
      },
      "source": [
        "Add to the pre-trained model the mean pooling layer and modify the model by adding the pooling layer"
      ]
    },
    {
      "cell_type": "code",
      "metadata": {
        "id": "rQB9FTi505s1"
      },
      "source": [
        "# Apply mean pooling to get one fixed sized sentence vector\n",
        "pooling_model = models.Pooling(word_embedding_model.get_word_embedding_dimension(),\n",
        "                               pooling_mode_mean_tokens=True,\n",
        "                               pooling_mode_cls_token=False,\n",
        "                               pooling_mode_max_tokens=False)\n",
        "\n",
        "\n",
        "model = SentenceTransformer(modules=[word_embedding_model, pooling_model])"
      ],
      "execution_count": 15,
      "outputs": []
    },
    {
      "cell_type": "code",
      "source": [
        "model"
      ],
      "metadata": {
        "colab": {
          "base_uri": "https://localhost:8080/"
        },
        "id": "oiXuVHMWjNmA",
        "outputId": "e52e8171-f860-4b66-8140-3939de4bb988"
      },
      "execution_count": 16,
      "outputs": [
        {
          "output_type": "execute_result",
          "data": {
            "text/plain": [
              "SentenceTransformer(\n",
              "  (0): Transformer({'max_seq_length': 512, 'do_lower_case': False}) with Transformer model: BertModel \n",
              "  (1): Pooling({'word_embedding_dimension': 768, 'pooling_mode_cls_token': False, 'pooling_mode_mean_tokens': True, 'pooling_mode_max_tokens': False, 'pooling_mode_mean_sqrt_len_tokens': False})\n",
              ")"
            ]
          },
          "metadata": {},
          "execution_count": 16
        }
      ]
    },
    {
      "cell_type": "markdown",
      "metadata": {
        "id": "libbuIP_P_AC"
      },
      "source": [
        "Define the DataLoader, as usually in Python, to load the training data\n",
        "Compute the cosine similarity between the two sentence embeddings and use Mean Squared erro as loss function (defined as default by Cosine Similarity Loss)\n",
        "\n",
        "CosineSimilarityLoss expects, it minimizes the following loss: ||input_label - cos_score_transformation(cosine_sim(u,v))||_2.\n",
        "    \n"
      ]
    },
    {
      "cell_type": "code",
      "metadata": {
        "id": "SEzrP_rg07kc"
      },
      "source": [
        "train_dataloader = DataLoader(train_samples_sts, shuffle=True, batch_size=train_batch_size)\n",
        "train_loss = losses.CosineSimilarityLoss(model=model) #loss function=MSE"
      ],
      "execution_count": 12,
      "outputs": []
    },
    {
      "cell_type": "markdown",
      "metadata": {
        "id": "g_McthU4RY8l"
      },
      "source": [
        "Define the evaluator which evaluates the Person similarity by predicting the label of two sentence ambeddings and compute the pearsorn coefficient between the predicted and the true label"
      ]
    },
    {
      "cell_type": "code",
      "metadata": {
        "id": "tJx-pLke09fj"
      },
      "source": [
        "evaluator = EmbeddingSimilarityEvaluator.from_input_examples(dev_samples_sts)"
      ],
      "execution_count": 13,
      "outputs": []
    },
    {
      "cell_type": "code",
      "metadata": {
        "id": "_cwGbfJV0_bg"
      },
      "source": [
        "warmup_steps = math.ceil(len(train_dataloader) * num_epochs  * 0.1) #10% of train data for warm-up"
      ],
      "execution_count": 53,
      "outputs": []
    },
    {
      "cell_type": "code",
      "metadata": {
        "id": "E2m5F_8u1Yfg"
      },
      "source": [
        "# Save path to store our model\n",
        "regression_path = '/sts-regression'\n",
        "model_save_path = regression_path"
      ],
      "execution_count": 15,
      "outputs": []
    },
    {
      "cell_type": "markdown",
      "metadata": {
        "id": "2QAjdExrRrOK"
      },
      "source": [
        "Fit the model using train data, loss function and evaluator over the developement dataset."
      ]
    },
    {
      "cell_type": "code",
      "metadata": {
        "colab": {
          "base_uri": "https://localhost:8080/",
          "height": 81,
          "referenced_widgets": [
            "d00a5e55b4a447e781625c8f1bed3429",
            "dd473d9b47874a94b7a4f897cb57c06f",
            "ec0e1923b49b461f861b86c3de2679b6",
            "527d2290c5fc48c884a7cfc7d2aef9cc",
            "6457e482aea442c9a949586a0008f1a7",
            "24b7ec06cf0a42859f3a2116b12816a8",
            "97383d9863bd4ee89e38d06d3e226f9c",
            "ea36d8faaa3249c2aaa98f69606ab8c4",
            "c8677ff9d2904dd383188d73ce7397a2",
            "385ccff214324038855ff196776ce4db",
            "76ac7432441440fa8fe806226ab8aefd",
            "7035b871cf1d422c863262a0d6fedd23",
            "b4f0b0a3c131469db7ef9478a3442d79",
            "7729ee04c85546418e49093d5d5a234f",
            "41e1620ec7634bf493291ce29487d30b",
            "5c3c15cea9574ebf869cf41493a83e06",
            "16591f4e2e734856aa3f4446293dac63",
            "d072bc5fcdf9424d81e2fdc8f201a2d9",
            "321f96f60e5f4ece8edebaa66ceaedab",
            "b93dc32af4844e0b929c3db622b45c66",
            "84bd7037a527409f9ae3f32db81fabff",
            "d717b66fe99c4eb08344f05f7a46da4e"
          ]
        },
        "id": "9bvvvsOz1BP-",
        "outputId": "71f700fe-2ed9-40b7-d704-18d45eacca72"
      },
      "source": [
        "model.fit(train_objectives=[(train_dataloader, train_loss)],\n",
        "          evaluator=evaluator,\n",
        "          epochs=num_epochs,\n",
        "          evaluation_steps=1000,\n",
        "          warmup_steps=warmup_steps,\n",
        "          output_path=model_save_path,\n",
        "          save_best_model=model_save_path)\n"
      ],
      "execution_count": 16,
      "outputs": [
        {
          "output_type": "display_data",
          "data": {
            "application/vnd.jupyter.widget-view+json": {
              "model_id": "d00a5e55b4a447e781625c8f1bed3429",
              "version_minor": 0,
              "version_major": 2
            },
            "text/plain": [
              "Epoch:   0%|          | 0/1 [00:00<?, ?it/s]"
            ]
          },
          "metadata": {}
        },
        {
          "output_type": "display_data",
          "data": {
            "application/vnd.jupyter.widget-view+json": {
              "model_id": "7035b871cf1d422c863262a0d6fedd23",
              "version_minor": 0,
              "version_major": 2
            },
            "text/plain": [
              "Iteration:   0%|          | 0/360 [00:00<?, ?it/s]"
            ]
          },
          "metadata": {}
        }
      ]
    },
    {
      "cell_type": "markdown",
      "metadata": {
        "id": "_qjHogFhR2tk"
      },
      "source": [
        "**Define the model as the one trained and evaluate it with respect to cosine similarity**\n",
        "\n",
        "\\\n",
        "For the evaluation part we use both the sentence-transformer library using EmbeddingSimilarity evaluator, as well as implementing it ourselves.\n",
        "In the latter, we first encode the test sentences using the trained model and secondly compute the cosine similarity as \n",
        "\n",
        "\n",
        "**cosine sim = 1 - cosine distance between the sentence embedding**"
      ]
    },
    {
      "cell_type": "code",
      "metadata": {
        "id": "4kKNra7D1Mqq",
        "colab": {
          "base_uri": "https://localhost:8080/"
        },
        "outputId": "1bd6088c-11d4-4c47-8414-160e489b5536"
      },
      "source": [
        "model = SentenceTransformer(model_save_path)\n",
        "test_evaluator = EmbeddingSimilarityEvaluator.from_input_examples(test_samples_sts)\n",
        "test_evaluator(model, output_path=model_save_path)"
      ],
      "execution_count": 18,
      "outputs": [
        {
          "output_type": "execute_result",
          "data": {
            "text/plain": [
              "0.8105144092618082"
            ]
          },
          "metadata": {},
          "execution_count": 18
        }
      ]
    },
    {
      "cell_type": "code",
      "metadata": {
        "id": "D_i7DQDRBXJ1"
      },
      "source": [
        "embeddings1_sts = model.encode(df_test['sentenceA'], batch_size=16, convert_to_numpy=True)\n",
        "embeddings2_sts = model.encode(df_test['sentenceB'], batch_size=16, convert_to_numpy=True)"
      ],
      "execution_count": 19,
      "outputs": []
    },
    {
      "cell_type": "code",
      "metadata": {
        "id": "6QX2D8UuDE_5",
        "colab": {
          "base_uri": "https://localhost:8080/"
        },
        "outputId": "83abb12f-3062-4bd2-b4c0-70cf5de20cb1"
      },
      "source": [
        "# Define cosine Similarity as 1 - cosine distance\n",
        "# smallest distance means higher similarity.\n",
        "score_pred_sim_sts = 1 - (sklearn.metrics.pairwise.paired_cosine_distances(embeddings1_sts, embeddings2_sts))\n",
        "print(score_pred_sim_sts)\n",
        "\n",
        "corr_test_sim_sts = scipy.stats.spearmanr(score_pred_sim_sts, df_test['value'])[0]\n",
        "corr_test_sim_sts"
      ],
      "execution_count": 25,
      "outputs": [
        {
          "output_type": "stream",
          "name": "stdout",
          "text": [
            "[0.7711062  0.8415069  0.921403   ... 0.86130416 0.92347854 0.93584096]\n"
          ]
        },
        {
          "output_type": "execute_result",
          "data": {
            "text/plain": [
              "0.8299401355837919"
            ]
          },
          "metadata": {},
          "execution_count": 25
        }
      ]
    },
    {
      "cell_type": "markdown",
      "metadata": {
        "id": "Oa_Puv6sR8ay"
      },
      "source": [
        "**Classification Task**\n",
        "\n",
        "Load the data from the website and unzip it. \n",
        "Then use the same model as before, changing the loss function to the softmax between the the sentence embeddings and the difference between them.\n",
        "\n"
      ]
    },
    {
      "cell_type": "code",
      "metadata": {
        "id": "E8fLcUb197nN",
        "colab": {
          "base_uri": "https://localhost:8080/"
        },
        "outputId": "b34a7afe-a5d9-4295-e991-d0168bd59cd0"
      },
      "source": [
        "print('Downloading dataset...')\n",
        "\n",
        "# The URL for the dataset zip file.\n",
        "url = 'https://nlp.stanford.edu/projects/snli/snli_1.0.zip'\n",
        "\n",
        "# Download the file (if we haven't already)\n",
        "if not os.path.exists('./snli_1.0.zip'):\n",
        "    wget.download(url, './snli_1.0.zip')"
      ],
      "execution_count": 2,
      "outputs": [
        {
          "output_type": "stream",
          "name": "stdout",
          "text": [
            "Collecting wget\n",
            "  Downloading wget-3.2.zip (10 kB)\n",
            "Building wheels for collected packages: wget\n",
            "  Building wheel for wget (setup.py) ... \u001b[?25l\u001b[?25hdone\n",
            "  Created wheel for wget: filename=wget-3.2-py3-none-any.whl size=9672 sha256=2a8a29cefdc56773db5d88bd77f9bc8f5b36df79ef6d7e4de64eecd56d0f863a\n",
            "  Stored in directory: /root/.cache/pip/wheels/a1/b6/7c/0e63e34eb06634181c63adacca38b79ff8f35c37e3c13e3c02\n",
            "Successfully built wget\n",
            "Installing collected packages: wget\n",
            "Successfully installed wget-3.2\n",
            "Downloading dataset...\n"
          ]
        }
      ]
    },
    {
      "cell_type": "code",
      "metadata": {
        "id": "TqJYC6Ll97jq",
        "colab": {
          "base_uri": "https://localhost:8080/"
        },
        "outputId": "7b7fe024-a4b2-457d-98b8-53c1adeaa5ea"
      },
      "source": [
        "!unzip snli_1.0.zip"
      ],
      "execution_count": 3,
      "outputs": [
        {
          "output_type": "stream",
          "name": "stdout",
          "text": [
            "Archive:  snli_1.0.zip\n",
            "   creating: snli_1.0/\n",
            "  inflating: snli_1.0/.DS_Store      \n",
            "   creating: __MACOSX/\n",
            "   creating: __MACOSX/snli_1.0/\n",
            "  inflating: __MACOSX/snli_1.0/._.DS_Store  \n",
            " extracting: snli_1.0/Icon           \n",
            "  inflating: __MACOSX/snli_1.0/._Icon  \n",
            "  inflating: snli_1.0/README.txt     \n",
            "  inflating: __MACOSX/snli_1.0/._README.txt  \n",
            "  inflating: snli_1.0/snli_1.0_dev.jsonl  \n",
            "  inflating: snli_1.0/snli_1.0_dev.txt  \n",
            "  inflating: snli_1.0/snli_1.0_test.jsonl  \n",
            "  inflating: snli_1.0/snli_1.0_test.txt  \n",
            "  inflating: snli_1.0/snli_1.0_train.jsonl  \n",
            "  inflating: snli_1.0/snli_1.0_train.txt  \n",
            "  inflating: __MACOSX/._snli_1.0     \n"
          ]
        }
      ]
    },
    {
      "cell_type": "code",
      "metadata": {
        "id": "qctJ23G297hq",
        "colab": {
          "base_uri": "https://localhost:8080/",
          "height": 1000
        },
        "outputId": "e7994b19-8e2d-4acc-cd72-52d93baba49c"
      },
      "source": [
        "train_path = '/content/snli_1.0/snli_1.0_train.jsonl'\n",
        "\n",
        "df_class = pd.read_json(\"snli_1.0/snli_1.0_train.jsonl\", lines=True)\n",
        "df_class\n"
      ],
      "execution_count": 20,
      "outputs": [
        {
          "output_type": "execute_result",
          "data": {
            "text/html": [
              "<div>\n",
              "<style scoped>\n",
              "    .dataframe tbody tr th:only-of-type {\n",
              "        vertical-align: middle;\n",
              "    }\n",
              "\n",
              "    .dataframe tbody tr th {\n",
              "        vertical-align: top;\n",
              "    }\n",
              "\n",
              "    .dataframe thead th {\n",
              "        text-align: right;\n",
              "    }\n",
              "</style>\n",
              "<table border=\"1\" class=\"dataframe\">\n",
              "  <thead>\n",
              "    <tr style=\"text-align: right;\">\n",
              "      <th></th>\n",
              "      <th>annotator_labels</th>\n",
              "      <th>captionID</th>\n",
              "      <th>gold_label</th>\n",
              "      <th>pairID</th>\n",
              "      <th>sentence1</th>\n",
              "      <th>sentence1_binary_parse</th>\n",
              "      <th>sentence1_parse</th>\n",
              "      <th>sentence2</th>\n",
              "      <th>sentence2_binary_parse</th>\n",
              "      <th>sentence2_parse</th>\n",
              "    </tr>\n",
              "  </thead>\n",
              "  <tbody>\n",
              "    <tr>\n",
              "      <th>0</th>\n",
              "      <td>[neutral]</td>\n",
              "      <td>3416050480.jpg#4</td>\n",
              "      <td>neutral</td>\n",
              "      <td>3416050480.jpg#4r1n</td>\n",
              "      <td>A person on a horse jumps over a broken down a...</td>\n",
              "      <td>( ( ( A person ) ( on ( a horse ) ) ) ( ( jump...</td>\n",
              "      <td>(ROOT (S (NP (NP (DT A) (NN person)) (PP (IN o...</td>\n",
              "      <td>A person is training his horse for a competition.</td>\n",
              "      <td>( ( A person ) ( ( is ( ( training ( his horse...</td>\n",
              "      <td>(ROOT (S (NP (DT A) (NN person)) (VP (VBZ is) ...</td>\n",
              "    </tr>\n",
              "    <tr>\n",
              "      <th>1</th>\n",
              "      <td>[contradiction]</td>\n",
              "      <td>3416050480.jpg#4</td>\n",
              "      <td>contradiction</td>\n",
              "      <td>3416050480.jpg#4r1c</td>\n",
              "      <td>A person on a horse jumps over a broken down a...</td>\n",
              "      <td>( ( ( A person ) ( on ( a horse ) ) ) ( ( jump...</td>\n",
              "      <td>(ROOT (S (NP (NP (DT A) (NN person)) (PP (IN o...</td>\n",
              "      <td>A person is at a diner, ordering an omelette.</td>\n",
              "      <td>( ( A person ) ( ( ( ( is ( at ( a diner ) ) )...</td>\n",
              "      <td>(ROOT (S (NP (DT A) (NN person)) (VP (VBZ is) ...</td>\n",
              "    </tr>\n",
              "    <tr>\n",
              "      <th>2</th>\n",
              "      <td>[entailment]</td>\n",
              "      <td>3416050480.jpg#4</td>\n",
              "      <td>entailment</td>\n",
              "      <td>3416050480.jpg#4r1e</td>\n",
              "      <td>A person on a horse jumps over a broken down a...</td>\n",
              "      <td>( ( ( A person ) ( on ( a horse ) ) ) ( ( jump...</td>\n",
              "      <td>(ROOT (S (NP (NP (DT A) (NN person)) (PP (IN o...</td>\n",
              "      <td>A person is outdoors, on a horse.</td>\n",
              "      <td>( ( A person ) ( ( ( ( is outdoors ) , ) ( on ...</td>\n",
              "      <td>(ROOT (S (NP (DT A) (NN person)) (VP (VBZ is) ...</td>\n",
              "    </tr>\n",
              "    <tr>\n",
              "      <th>3</th>\n",
              "      <td>[neutral]</td>\n",
              "      <td>2267923837.jpg#2</td>\n",
              "      <td>neutral</td>\n",
              "      <td>2267923837.jpg#2r1n</td>\n",
              "      <td>Children smiling and waving at camera</td>\n",
              "      <td>( Children ( ( ( smiling and ) waving ) ( at c...</td>\n",
              "      <td>(ROOT (NP (S (NP (NNP Children)) (VP (VBG smil...</td>\n",
              "      <td>They are smiling at their parents</td>\n",
              "      <td>( They ( are ( smiling ( at ( their parents ) ...</td>\n",
              "      <td>(ROOT (S (NP (PRP They)) (VP (VBP are) (VP (VB...</td>\n",
              "    </tr>\n",
              "    <tr>\n",
              "      <th>4</th>\n",
              "      <td>[entailment]</td>\n",
              "      <td>2267923837.jpg#2</td>\n",
              "      <td>entailment</td>\n",
              "      <td>2267923837.jpg#2r1e</td>\n",
              "      <td>Children smiling and waving at camera</td>\n",
              "      <td>( Children ( ( ( smiling and ) waving ) ( at c...</td>\n",
              "      <td>(ROOT (NP (S (NP (NNP Children)) (VP (VBG smil...</td>\n",
              "      <td>There are children present</td>\n",
              "      <td>( There ( ( are children ) present ) )</td>\n",
              "      <td>(ROOT (S (NP (EX There)) (VP (VBP are) (NP (NN...</td>\n",
              "    </tr>\n",
              "    <tr>\n",
              "      <th>...</th>\n",
              "      <td>...</td>\n",
              "      <td>...</td>\n",
              "      <td>...</td>\n",
              "      <td>...</td>\n",
              "      <td>...</td>\n",
              "      <td>...</td>\n",
              "      <td>...</td>\n",
              "      <td>...</td>\n",
              "      <td>...</td>\n",
              "      <td>...</td>\n",
              "    </tr>\n",
              "    <tr>\n",
              "      <th>550147</th>\n",
              "      <td>[contradiction]</td>\n",
              "      <td>2267923837.jpg#3</td>\n",
              "      <td>contradiction</td>\n",
              "      <td>2267923837.jpg#3r1c</td>\n",
              "      <td>Four dirty and barefooted children.</td>\n",
              "      <td>( ( ( ( Four dirty ) and ) ( barefooted childr...</td>\n",
              "      <td>(ROOT (NP (NP (CD Four) (NNS dirty)) (CC and) ...</td>\n",
              "      <td>four kids won awards for 'cleanest feet'</td>\n",
              "      <td>( ( four kids ) ( ( won awards ) ( ( ( for ` )...</td>\n",
              "      <td>(ROOT (S (NP (CD four) (NNS kids)) (VP (VBD wo...</td>\n",
              "    </tr>\n",
              "    <tr>\n",
              "      <th>550148</th>\n",
              "      <td>[neutral]</td>\n",
              "      <td>2267923837.jpg#3</td>\n",
              "      <td>neutral</td>\n",
              "      <td>2267923837.jpg#3r1n</td>\n",
              "      <td>Four dirty and barefooted children.</td>\n",
              "      <td>( ( ( ( Four dirty ) and ) ( barefooted childr...</td>\n",
              "      <td>(ROOT (NP (NP (CD Four) (NNS dirty)) (CC and) ...</td>\n",
              "      <td>four homeless children had their shoes stolen,...</td>\n",
              "      <td>( ( ( ( ( ( four ( homeless children ) ) ( had...</td>\n",
              "      <td>(ROOT (S (S (NP (CD four) (JJ homeless) (NNS c...</td>\n",
              "    </tr>\n",
              "    <tr>\n",
              "      <th>550149</th>\n",
              "      <td>[neutral]</td>\n",
              "      <td>7979219683.jpg#2</td>\n",
              "      <td>neutral</td>\n",
              "      <td>7979219683.jpg#2r1n</td>\n",
              "      <td>A man is surfing in a bodysuit in beautiful bl...</td>\n",
              "      <td>( ( A man ) ( ( is ( surfing ( in ( ( a bodysu...</td>\n",
              "      <td>(ROOT (S (NP (DT A) (NN man)) (VP (VBZ is) (VP...</td>\n",
              "      <td>A man in a bodysuit is competing in a surfing ...</td>\n",
              "      <td>( ( ( A man ) ( in ( a bodysuit ) ) ) ( ( is (...</td>\n",
              "      <td>(ROOT (S (NP (NP (DT A) (NN man)) (PP (IN in) ...</td>\n",
              "    </tr>\n",
              "    <tr>\n",
              "      <th>550150</th>\n",
              "      <td>[contradiction]</td>\n",
              "      <td>7979219683.jpg#2</td>\n",
              "      <td>contradiction</td>\n",
              "      <td>7979219683.jpg#2r1c</td>\n",
              "      <td>A man is surfing in a bodysuit in beautiful bl...</td>\n",
              "      <td>( ( A man ) ( ( is ( surfing ( in ( ( a bodysu...</td>\n",
              "      <td>(ROOT (S (NP (DT A) (NN man)) (VP (VBZ is) (VP...</td>\n",
              "      <td>A man in a business suit is heading to a board...</td>\n",
              "      <td>( ( ( A man ) ( in ( a ( business suit ) ) ) )...</td>\n",
              "      <td>(ROOT (S (NP (NP (DT A) (NN man)) (PP (IN in) ...</td>\n",
              "    </tr>\n",
              "    <tr>\n",
              "      <th>550151</th>\n",
              "      <td>[entailment]</td>\n",
              "      <td>7979219683.jpg#2</td>\n",
              "      <td>entailment</td>\n",
              "      <td>7979219683.jpg#2r1e</td>\n",
              "      <td>A man is surfing in a bodysuit in beautiful bl...</td>\n",
              "      <td>( ( A man ) ( ( is ( surfing ( in ( ( a bodysu...</td>\n",
              "      <td>(ROOT (S (NP (DT A) (NN man)) (VP (VBZ is) (VP...</td>\n",
              "      <td>On the beautiful blue water there is a man in ...</td>\n",
              "      <td>( ( On ( the ( beautiful ( blue water ) ) ) ) ...</td>\n",
              "      <td>(ROOT (S (PP (IN On) (NP (DT the) (JJ beautifu...</td>\n",
              "    </tr>\n",
              "  </tbody>\n",
              "</table>\n",
              "<p>550152 rows × 10 columns</p>\n",
              "</div>"
            ],
            "text/plain": [
              "       annotator_labels  ...                                    sentence2_parse\n",
              "0             [neutral]  ...  (ROOT (S (NP (DT A) (NN person)) (VP (VBZ is) ...\n",
              "1       [contradiction]  ...  (ROOT (S (NP (DT A) (NN person)) (VP (VBZ is) ...\n",
              "2          [entailment]  ...  (ROOT (S (NP (DT A) (NN person)) (VP (VBZ is) ...\n",
              "3             [neutral]  ...  (ROOT (S (NP (PRP They)) (VP (VBP are) (VP (VB...\n",
              "4          [entailment]  ...  (ROOT (S (NP (EX There)) (VP (VBP are) (NP (NN...\n",
              "...                 ...  ...                                                ...\n",
              "550147  [contradiction]  ...  (ROOT (S (NP (CD four) (NNS kids)) (VP (VBD wo...\n",
              "550148        [neutral]  ...  (ROOT (S (S (NP (CD four) (JJ homeless) (NNS c...\n",
              "550149        [neutral]  ...  (ROOT (S (NP (NP (DT A) (NN man)) (PP (IN in) ...\n",
              "550150  [contradiction]  ...  (ROOT (S (NP (NP (DT A) (NN man)) (PP (IN in) ...\n",
              "550151     [entailment]  ...  (ROOT (S (PP (IN On) (NP (DT the) (JJ beautifu...\n",
              "\n",
              "[550152 rows x 10 columns]"
            ]
          },
          "metadata": {},
          "execution_count": 20
        }
      ]
    },
    {
      "cell_type": "markdown",
      "metadata": {
        "id": "c1i1BtEWDlFT"
      },
      "source": [
        "Perform explanatory analysis"
      ]
    },
    {
      "cell_type": "code",
      "metadata": {
        "id": "I7BUlUaEeFYy",
        "colab": {
          "base_uri": "https://localhost:8080/"
        },
        "outputId": "67b6031f-7324-4bae-eec8-c32ebbbe9af4"
      },
      "source": [
        "print(df_class['gold_label'])"
      ],
      "execution_count": 21,
      "outputs": [
        {
          "output_type": "stream",
          "name": "stdout",
          "text": [
            "0               neutral\n",
            "1         contradiction\n",
            "2            entailment\n",
            "3               neutral\n",
            "4            entailment\n",
            "              ...      \n",
            "550147    contradiction\n",
            "550148          neutral\n",
            "550149          neutral\n",
            "550150    contradiction\n",
            "550151       entailment\n",
            "Name: gold_label, Length: 550152, dtype: object\n"
          ]
        }
      ]
    },
    {
      "cell_type": "code",
      "metadata": {
        "id": "leXcGiJKa-G5",
        "colab": {
          "base_uri": "https://localhost:8080/"
        },
        "outputId": "8e1cedce-1da4-4b0b-aa32-06edb4f3fc80"
      },
      "source": [
        "df_class.gold_label.value_counts()"
      ],
      "execution_count": 22,
      "outputs": [
        {
          "output_type": "execute_result",
          "data": {
            "text/plain": [
              "entailment       183416\n",
              "contradiction    183187\n",
              "neutral          182764\n",
              "-                   785\n",
              "Name: gold_label, dtype: int64"
            ]
          },
          "metadata": {},
          "execution_count": 22
        }
      ]
    },
    {
      "cell_type": "code",
      "metadata": {
        "id": "eMeFCixdelzU",
        "colab": {
          "base_uri": "https://localhost:8080/"
        },
        "outputId": "e254724c-f3f5-4a6d-9139-1657ad643ce1"
      },
      "source": [
        "print(len(df_class.gold_label.index))"
      ],
      "execution_count": 23,
      "outputs": [
        {
          "output_type": "stream",
          "name": "stdout",
          "text": [
            "550152\n"
          ]
        }
      ]
    },
    {
      "cell_type": "code",
      "metadata": {
        "id": "sqn5DMy4DqKe"
      },
      "source": [
        "# train_class = []\n",
        "\n",
        "# delete=[]\n",
        "\n",
        "# for i in df_class.index:\n",
        "#   print(i)\n",
        "  \n",
        "#   if df_class['gold_label'][i] == 'contradiction':\n",
        "#     label_id = 0\n",
        "#     inp_sample = InputExample(texts=[df_class['sentence1'][i], df_class['sentence2'][i]], label=label_id)\n",
        "#     train_class.append(inp_sample)\n",
        "#   elif df_class['gold_label'][i] == 'entailment':\n",
        "#     label_id = 1\n",
        "#     inp_sample = InputExample(texts=[df_class['sentence1'][i], df_class['sentence2'][i]], label=label_id)\n",
        "#     train_class.append(inp_sample)\n",
        "#   elif df_class['gold_label'][i] == 'neutral':\n",
        "#     label_id = 2\n",
        "#     inp_sample = InputExample(texts=[df_class['sentence1'][i], df_class['sentence2'][i]], label=label_id)\n",
        "#     train_class.append(inp_sample)\n",
        "#   else:\n",
        "#     delete_id = 3\n",
        "#     inp_sample =  InputExample(texts=[df_class['sentence1'][i], df_class['sentence2'][i]], label=delete_id)\n",
        "#     delete.append(inp_sample)\n",
        "#     #print('..................................................................................................................')\n",
        "    "
      ],
      "execution_count": 19,
      "outputs": []
    },
    {
      "cell_type": "markdown",
      "metadata": {
        "id": "5gN0AqzSDveI"
      },
      "source": [
        "Assign to phrases classified as contradiction label 0 ,\n",
        "                                entailment label 1,\n",
        "                                neutral label 2 "
      ]
    },
    {
      "cell_type": "code",
      "metadata": {
        "id": "FGtOcvASq9LL"
      },
      "source": [
        "train_class = []\n",
        "\n",
        "for i in df_class.index:\n",
        "  #print(i)\n",
        "  \n",
        "  if df_class['gold_label'][i] == 'contradiction':\n",
        "    label_id = 0\n",
        "    \n",
        "  elif df_class['gold_label'][i] == 'entailment':\n",
        "    label_id = 1\n",
        "    \n",
        "  elif df_class['gold_label'][i] == 'neutral':\n",
        "    label_id = 2\n",
        "  \n",
        "  inp_sample = InputExample(texts=[df_class['sentence1'][i], df_class['sentence2'][i]], label=label_id)\n",
        "  #print(inp_sample)\n",
        "  train_class.append(inp_sample)"
      ],
      "execution_count": 24,
      "outputs": []
    },
    {
      "cell_type": "code",
      "metadata": {
        "id": "3tY5CRT-97e3"
      },
      "source": [
        "dev_path = 'snli_1.0/snli_1.0_dev.jsonl'\n",
        "\n",
        "df_class_dev = pd.read_json(dev_path, lines=True)\n",
        "\n",
        "dev_class = []\n",
        "\n",
        "for i in df_class_dev.index:\n",
        "  if df_class_dev['gold_label'][i] == 'contradiction':\n",
        "    label_id = 0\n",
        "  elif df_class_dev['gold_label'][i] == 'entailment':\n",
        "    label_id  = 1\n",
        "  elif df_class_dev['gold_label'][i] == 'neutral':\n",
        "    label_id = 2\n",
        "  inp_sample = InputExample(texts=[df_class_dev['sentence1'][i], df_class_dev['sentence2'][i]], label=label_id)\n",
        "  #print(inp_sample)\n",
        "  dev_class.append(inp_sample)"
      ],
      "execution_count": 25,
      "outputs": []
    },
    {
      "cell_type": "code",
      "metadata": {
        "id": "NvEnuZWV97c3"
      },
      "source": [
        "test_path = 'snli_1.0/snli_1.0_test.jsonl'\n",
        "df_class_test = pd.read_json(test_path, lines=True)\n",
        "\n",
        "test_class=[]\n",
        "label =[]\n",
        "\n",
        "for i in df_class_test.index:\n",
        "  if df_class_test['gold_label'][i] == 'contradiction':\n",
        "    label_id = 0\n",
        "  elif df_class_test['gold_label'][i] == 'entailment':\n",
        "    label_id = 1\n",
        "  elif df_class_test['gold_label'][i] == 'neutral':\n",
        "    label_id = 2\n",
        "  inp_sample = InputExample(texts=[df_class_test['sentence1'][i], df_class_test['sentence2'][i]], label=label_id)\n",
        "  label.append(label_id)\n",
        "  #print(inp_sample)\n",
        "  test_class.append(inp_sample)\n",
        "\n",
        "#print(label)"
      ],
      "execution_count": 26,
      "outputs": []
    },
    {
      "cell_type": "code",
      "metadata": {
        "id": "bncQEFdp97Z5"
      },
      "source": [
        "# Read the dataset\n",
        "train_batch_size = 16\n",
        "\n",
        "# Define the path to save the model\n",
        "model_save_path_class = 'content/training_nli_'"
      ],
      "execution_count": 27,
      "outputs": []
    },
    {
      "cell_type": "markdown",
      "metadata": {
        "id": "_mjTIwlkSLYA"
      },
      "source": [
        "Define the model, which is the same as before, changing the dataset"
      ]
    },
    {
      "cell_type": "code",
      "metadata": {
        "id": "2-020giibJb_"
      },
      "source": [
        "train_dataloader = DataLoader(train_class, shuffle=True, batch_size=train_batch_size)"
      ],
      "execution_count": 28,
      "outputs": []
    },
    {
      "cell_type": "code",
      "metadata": {
        "id": "IaZQ1VOebMmI"
      },
      "source": [
        "#creating custom model, by using mean pooling of the word embeddings given as input\n",
        "model = SentenceTransformer(modules=[word_embedding_model, pooling_model])"
      ],
      "execution_count": 29,
      "outputs": []
    },
    {
      "cell_type": "code",
      "metadata": {
        "id": "v_1XhOUB97X8"
      },
      "source": [
        "#     SentenceTransformer model : BERT base\n",
        "#     Dimension of your sentence embeddings\n",
        "#     Number of different labels : 3 (0,1,2)\n",
        "#     Concatenate vectors u,v for the softmax classifier? T\n",
        "#     Add abs(u-v) for the softmax classifier? T\n",
        "#     Add u*v for the softmax classifier? F\n",
        "#     If not set, uses nn.CrossEntropyLoss() T\n",
        "\n",
        "train_loss = losses.SoftmaxLoss(model=model, sentence_embedding_dimension=model.get_sentence_embedding_dimension(), num_labels=3)"
      ],
      "execution_count": 30,
      "outputs": []
    },
    {
      "cell_type": "code",
      "metadata": {
        "id": "U3QoHM9697MX"
      },
      "source": [
        "# Define the evaluator on the development samples\n",
        "dev_evaluator = EmbeddingSimilarityEvaluator.from_input_examples(dev_class, batch_size=train_batch_size, name='snli-dev')"
      ],
      "execution_count": 31,
      "outputs": []
    },
    {
      "cell_type": "code",
      "metadata": {
        "id": "OYcBtrMW2zfk"
      },
      "source": [
        "# Configure the training\n",
        "num_epochs = 1\n",
        "\n",
        "# Define warm up steps\n",
        "warmup_steps = math.ceil(len(train_dataloader) * num_epochs * 0.1) #10% of train data for warm-up"
      ],
      "execution_count": 32,
      "outputs": []
    },
    {
      "cell_type": "code",
      "metadata": {
        "id": "3YXRvUKQUQmn",
        "colab": {
          "base_uri": "https://localhost:8080/",
          "height": 81,
          "referenced_widgets": [
            "e063044fce76459d8da4ca001cb9a7a0",
            "198ff8340f92462d879fb448c40dced9",
            "e15188cc79d74cfc98468ca6498c6349",
            "b11a448586c649379993e8d6e79e1fa0",
            "96d2da821c1f43a2ae4220af5e0ddc12",
            "ea16a359518d49f59fc7af96c42b2fb2",
            "a1a771a1e1194798ab445a47bff18900",
            "b3c9fdead708463e9fe790603b27a19a",
            "f58b94e3429a4ab390b15ff56945ba41",
            "80e012c0b44f48baa20c874aa82ecfa4",
            "286b399ed3e1468092478b2be0c26ed7",
            "204eda695db8419683e0ffb509b8f1e6",
            "08640326df8d47e2be813b2c17de06ed",
            "42f33845d55645758d91fa708171edc5",
            "5e7014649557473387497dfad82d844a",
            "67faf404ef394c0790feb09656204212",
            "940b13033c9549d2b2e4fe29300cb404",
            "e80c9f04dace4801957f9734c5cb0db3",
            "e59e3c9535f34634bf6707088f7a80b5",
            "b9ae416fd1904e4f9d0ada952a330fbb",
            "02d43f6214524ee5b8908e4c8eb0248a",
            "0b8687306af14ab080616f238bad6d4a"
          ]
        },
        "outputId": "763443bb-9119-410a-fefe-229c993ec992"
      },
      "source": [
        "# Train the model\n",
        "model.fit(train_objectives=[(train_dataloader, train_loss)],\n",
        "          evaluator=dev_evaluator,\n",
        "          epochs=num_epochs,\n",
        "          evaluation_steps=1000,\n",
        "          warmup_steps=warmup_steps,\n",
        "          output_path=model_save_path_class\n",
        "          )\n"
      ],
      "execution_count": null,
      "outputs": [
        {
          "output_type": "display_data",
          "data": {
            "application/vnd.jupyter.widget-view+json": {
              "model_id": "e063044fce76459d8da4ca001cb9a7a0",
              "version_minor": 0,
              "version_major": 2
            },
            "text/plain": [
              "Epoch:   0%|          | 0/1 [00:00<?, ?it/s]"
            ]
          },
          "metadata": {}
        },
        {
          "output_type": "display_data",
          "data": {
            "application/vnd.jupyter.widget-view+json": {
              "model_id": "204eda695db8419683e0ffb509b8f1e6",
              "version_minor": 0,
              "version_major": 2
            },
            "text/plain": [
              "Iteration:   0%|          | 0/34385 [00:00<?, ?it/s]"
            ]
          },
          "metadata": {}
        }
      ]
    },
    {
      "cell_type": "markdown",
      "metadata": {
        "id": "8u8zPLtBEgez"
      },
      "source": [
        "Evaluate using bothe the library in sentence-transformer and using the cosine similarity"
      ]
    },
    {
      "cell_type": "code",
      "source": [
        "# to upload data saved in the drive\n",
        "\n",
        "from google.colab import drive\n",
        "drive.mount('/content/drive')"
      ],
      "metadata": {
        "id": "dbaBmrZ5heWO"
      },
      "execution_count": null,
      "outputs": []
    },
    {
      "cell_type": "code",
      "metadata": {
        "id": "nwiM9VJqUXvK",
        "colab": {
          "base_uri": "https://localhost:8080/"
        },
        "outputId": "35bd4cb4-da2e-4e2d-9039-014095be61ef"
      },
      "source": [
        "#model = SentenceTransformer(model_save_path_class)\n",
        "class_model_path = '/content/drive/MyDrive/Colab Notebooks/training_nli_'\n",
        "model = SentenceTransformer(class_model_path)\n",
        "test_evaluator = EmbeddingSimilarityEvaluator.from_input_examples(test_class, name='snli-test')\n",
        "test_evaluator(model, output_path=class_model_path)"
      ],
      "execution_count": 40,
      "outputs": [
        {
          "output_type": "execute_result",
          "data": {
            "text/plain": [
              "0.3344243667223143"
            ]
          },
          "metadata": {},
          "execution_count": 40
        }
      ]
    },
    {
      "cell_type": "code",
      "metadata": {
        "id": "gQzV2ag22YRg"
      },
      "source": [
        "embeddings1_nli = model.encode(df_class_test['sentence1'], batch_size=16, convert_to_numpy=True)\n",
        "embeddings2_nli = model.encode(df_class_test['sentence2'], batch_size=16, convert_to_numpy=True)\n"
      ],
      "execution_count": 37,
      "outputs": []
    },
    {
      "cell_type": "code",
      "metadata": {
        "colab": {
          "base_uri": "https://localhost:8080/"
        },
        "id": "q87msl4uMnUj",
        "outputId": "37cea856-6771-4efd-ee9c-6a88a3ec03a1"
      },
      "source": [
        "cosine_scores_nli = 1 - (sklearn.metrics.pairwise.paired_cosine_distances(embeddings1_nli, embeddings2_nli))\n",
        "eval_pearson_cosine_nli = scipy.stats.spearmanr(label, cosine_scores_nli)[0] \n",
        "\n",
        "print(eval_pearson_cosine_nli)"
      ],
      "execution_count": 38,
      "outputs": [
        {
          "output_type": "stream",
          "name": "stdout",
          "text": [
            "0.33247572354397975\n"
          ]
        }
      ]
    },
    {
      "cell_type": "markdown",
      "metadata": {
        "id": "AfU6G5j5SdBb"
      },
      "source": [
        "Using the previuos model evaluate on the sts dataset"
      ]
    },
    {
      "cell_type": "code",
      "metadata": {
        "id": "jUQ8iciPtmOC",
        "colab": {
          "base_uri": "https://localhost:8080/"
        },
        "outputId": "e9657afa-1658-4e67-e453-3e9ca8df0cb7"
      },
      "source": [
        "#model_best = SentenceTransformer(model_save_path_class)\n",
        "model_best = SentenceTransformer(class_model_path)\n",
        "test_evaluator = EmbeddingSimilarityEvaluator.from_input_examples(test_samples_sts, name='sts-test')\n",
        "test_evaluator(model_best, output_path=class_model_path)"
      ],
      "execution_count": 41,
      "outputs": [
        {
          "output_type": "execute_result",
          "data": {
            "text/plain": [
              "0.7289311601536409"
            ]
          },
          "metadata": {},
          "execution_count": 41
        }
      ]
    },
    {
      "cell_type": "code",
      "metadata": {
        "colab": {
          "base_uri": "https://localhost:8080/"
        },
        "id": "NiSDYAg1FZfI",
        "outputId": "69bcf10e-7681-440d-c006-b3756fc16db3"
      },
      "source": [
        "embeddings1 = model_best.encode(df_test['sentenceA'], batch_size=16, convert_to_numpy=True)\n",
        "embeddings2 = model_best.encode(df_test['sentenceB'], batch_size=16, convert_to_numpy=True)\n",
        "cosine_scores = 1 - (sklearn.metrics.pairwise.paired_cosine_distances(embeddings1, embeddings2))\n",
        "eval_pearson_cosine = scipy.stats.spearmanr(df_test['value'], cosine_scores)[0] \n",
        "\n",
        "print(eval_pearson_cosine)"
      ],
      "execution_count": 42,
      "outputs": [
        {
          "output_type": "stream",
          "name": "stdout",
          "text": [
            "0.7703232432933508\n"
          ]
        }
      ]
    },
    {
      "cell_type": "code",
      "metadata": {
        "id": "WAyGFG1zFsGy"
      },
      "source": [
        "#https://www.kaggle.com/rmisra/news-category-dataset/download"
      ],
      "execution_count": null,
      "outputs": []
    },
    {
      "cell_type": "code",
      "metadata": {
        "id": "DYTtSNzpFsE-",
        "colab": {
          "base_uri": "https://localhost:8080/"
        },
        "outputId": "e315c120-aa42-44f9-8a18-f26dcb55b7f8"
      },
      "source": [
        "print('Downloading dataset...')\n",
        "\n",
        "# define the path for the news data set and read it\n",
        "semantic_search_path = '/News_Category_Dataset_v2.json'\n",
        "news = pd.read_json(semantic_search_path, lines=True)"
      ],
      "execution_count": 44,
      "outputs": [
        {
          "output_type": "stream",
          "name": "stdout",
          "text": [
            "Downloading dataset...\n"
          ]
        }
      ]
    },
    {
      "cell_type": "code",
      "metadata": {
        "id": "YN0VY2KAJOBN",
        "colab": {
          "base_uri": "https://localhost:8080/",
          "height": 597
        },
        "outputId": "91c1e66a-946f-49a0-fbee-bc8e0a953dc6"
      },
      "source": [
        "# print the data set to understand how it is presented \n",
        "news"
      ],
      "execution_count": 45,
      "outputs": [
        {
          "output_type": "execute_result",
          "data": {
            "text/html": [
              "<div>\n",
              "<style scoped>\n",
              "    .dataframe tbody tr th:only-of-type {\n",
              "        vertical-align: middle;\n",
              "    }\n",
              "\n",
              "    .dataframe tbody tr th {\n",
              "        vertical-align: top;\n",
              "    }\n",
              "\n",
              "    .dataframe thead th {\n",
              "        text-align: right;\n",
              "    }\n",
              "</style>\n",
              "<table border=\"1\" class=\"dataframe\">\n",
              "  <thead>\n",
              "    <tr style=\"text-align: right;\">\n",
              "      <th></th>\n",
              "      <th>category</th>\n",
              "      <th>headline</th>\n",
              "      <th>authors</th>\n",
              "      <th>link</th>\n",
              "      <th>short_description</th>\n",
              "      <th>date</th>\n",
              "    </tr>\n",
              "  </thead>\n",
              "  <tbody>\n",
              "    <tr>\n",
              "      <th>0</th>\n",
              "      <td>CRIME</td>\n",
              "      <td>There Were 2 Mass Shootings In Texas Last Week...</td>\n",
              "      <td>Melissa Jeltsen</td>\n",
              "      <td>https://www.huffingtonpost.com/entry/texas-ama...</td>\n",
              "      <td>She left her husband. He killed their children...</td>\n",
              "      <td>2018-05-26</td>\n",
              "    </tr>\n",
              "    <tr>\n",
              "      <th>1</th>\n",
              "      <td>ENTERTAINMENT</td>\n",
              "      <td>Will Smith Joins Diplo And Nicky Jam For The 2...</td>\n",
              "      <td>Andy McDonald</td>\n",
              "      <td>https://www.huffingtonpost.com/entry/will-smit...</td>\n",
              "      <td>Of course it has a song.</td>\n",
              "      <td>2018-05-26</td>\n",
              "    </tr>\n",
              "    <tr>\n",
              "      <th>2</th>\n",
              "      <td>ENTERTAINMENT</td>\n",
              "      <td>Hugh Grant Marries For The First Time At Age 57</td>\n",
              "      <td>Ron Dicker</td>\n",
              "      <td>https://www.huffingtonpost.com/entry/hugh-gran...</td>\n",
              "      <td>The actor and his longtime girlfriend Anna Ebe...</td>\n",
              "      <td>2018-05-26</td>\n",
              "    </tr>\n",
              "    <tr>\n",
              "      <th>3</th>\n",
              "      <td>ENTERTAINMENT</td>\n",
              "      <td>Jim Carrey Blasts 'Castrato' Adam Schiff And D...</td>\n",
              "      <td>Ron Dicker</td>\n",
              "      <td>https://www.huffingtonpost.com/entry/jim-carre...</td>\n",
              "      <td>The actor gives Dems an ass-kicking for not fi...</td>\n",
              "      <td>2018-05-26</td>\n",
              "    </tr>\n",
              "    <tr>\n",
              "      <th>4</th>\n",
              "      <td>ENTERTAINMENT</td>\n",
              "      <td>Julianna Margulies Uses Donald Trump Poop Bags...</td>\n",
              "      <td>Ron Dicker</td>\n",
              "      <td>https://www.huffingtonpost.com/entry/julianna-...</td>\n",
              "      <td>The \"Dietland\" actress said using the bags is ...</td>\n",
              "      <td>2018-05-26</td>\n",
              "    </tr>\n",
              "    <tr>\n",
              "      <th>...</th>\n",
              "      <td>...</td>\n",
              "      <td>...</td>\n",
              "      <td>...</td>\n",
              "      <td>...</td>\n",
              "      <td>...</td>\n",
              "      <td>...</td>\n",
              "    </tr>\n",
              "    <tr>\n",
              "      <th>200848</th>\n",
              "      <td>TECH</td>\n",
              "      <td>RIM CEO Thorsten Heins' 'Significant' Plans Fo...</td>\n",
              "      <td>Reuters, Reuters</td>\n",
              "      <td>https://www.huffingtonpost.com/entry/rim-ceo-t...</td>\n",
              "      <td>Verizon Wireless and AT&amp;T are already promotin...</td>\n",
              "      <td>2012-01-28</td>\n",
              "    </tr>\n",
              "    <tr>\n",
              "      <th>200849</th>\n",
              "      <td>SPORTS</td>\n",
              "      <td>Maria Sharapova Stunned By Victoria Azarenka I...</td>\n",
              "      <td></td>\n",
              "      <td>https://www.huffingtonpost.com/entry/maria-sha...</td>\n",
              "      <td>Afterward, Azarenka, more effusive with the pr...</td>\n",
              "      <td>2012-01-28</td>\n",
              "    </tr>\n",
              "    <tr>\n",
              "      <th>200850</th>\n",
              "      <td>SPORTS</td>\n",
              "      <td>Giants Over Patriots, Jets Over Colts Among  M...</td>\n",
              "      <td></td>\n",
              "      <td>https://www.huffingtonpost.com/entry/super-bow...</td>\n",
              "      <td>Leading up to Super Bowl XLVI, the most talked...</td>\n",
              "      <td>2012-01-28</td>\n",
              "    </tr>\n",
              "    <tr>\n",
              "      <th>200851</th>\n",
              "      <td>SPORTS</td>\n",
              "      <td>Aldon Smith Arrested: 49ers Linebacker Busted ...</td>\n",
              "      <td></td>\n",
              "      <td>https://www.huffingtonpost.com/entry/aldon-smi...</td>\n",
              "      <td>CORRECTION: An earlier version of this story i...</td>\n",
              "      <td>2012-01-28</td>\n",
              "    </tr>\n",
              "    <tr>\n",
              "      <th>200852</th>\n",
              "      <td>SPORTS</td>\n",
              "      <td>Dwight Howard Rips Teammates After Magic Loss ...</td>\n",
              "      <td></td>\n",
              "      <td>https://www.huffingtonpost.com/entry/dwight-ho...</td>\n",
              "      <td>The five-time all-star center tore into his te...</td>\n",
              "      <td>2012-01-28</td>\n",
              "    </tr>\n",
              "  </tbody>\n",
              "</table>\n",
              "<p>200853 rows × 6 columns</p>\n",
              "</div>"
            ],
            "text/plain": [
              "             category  ...       date\n",
              "0               CRIME  ... 2018-05-26\n",
              "1       ENTERTAINMENT  ... 2018-05-26\n",
              "2       ENTERTAINMENT  ... 2018-05-26\n",
              "3       ENTERTAINMENT  ... 2018-05-26\n",
              "4       ENTERTAINMENT  ... 2018-05-26\n",
              "...               ...  ...        ...\n",
              "200848           TECH  ... 2012-01-28\n",
              "200849         SPORTS  ... 2012-01-28\n",
              "200850         SPORTS  ... 2012-01-28\n",
              "200851         SPORTS  ... 2012-01-28\n",
              "200852         SPORTS  ... 2012-01-28\n",
              "\n",
              "[200853 rows x 6 columns]"
            ]
          },
          "metadata": {},
          "execution_count": 45
        }
      ]
    },
    {
      "cell_type": "code",
      "metadata": {
        "id": "WQfC75MYctz7"
      },
      "source": [
        "# prepare the data used for the implementation of the semantic research\n",
        "# data is a list composed by both the short description and the headlines and link [headlines, short_description, link]\n",
        "\n",
        "data = []\n",
        "\n",
        "for indx in news.index:\n",
        "  data.append([news['headline'][indx], news['short_description'][indx], news['link'][indx]])\n",
        "  "
      ],
      "execution_count": 46,
      "outputs": []
    },
    {
      "cell_type": "code",
      "metadata": {
        "id": "khLA1iabHGMz"
      },
      "source": [
        "# We use the best model to encode all passages, so that we can use it with sematic search\n",
        "\n",
        "encoder = SentenceTransformer(class_model_path)"
      ],
      "execution_count": 49,
      "outputs": []
    },
    {
      "cell_type": "code",
      "metadata": {
        "id": "jZVIZ6ceMaYy",
        "colab": {
          "base_uri": "https://localhost:8080/",
          "height": 49,
          "referenced_widgets": [
            "6d50746ea89a4c34af3d9a0bc7f41670",
            "4c1de77482c14005b1cf83c45a8f910c",
            "c43fcb91285643dba79fbecf92d6f5d3",
            "959d14fd82ff4acba2edfb22b7a39197",
            "b5a0b0a6ed7744b9a96f0849004715dd",
            "3b501887957b4c9ba5bf766c337be8b7",
            "e3a59d4b81e24447a3f9366680e61479",
            "7a67b23e3f804dd5a0f36b96817f14ef",
            "00376098cb584d5996cc3c316d74b01e",
            "196f74105cc34cfcb5f4abb750aabcbb",
            "c197892a5005464589ef805aef16d5de"
          ]
        },
        "outputId": "b1ff5d6f-636e-4b71-8791-8a95e3e930cc"
      },
      "source": [
        "# encode the data using the best model\n",
        "corpus_embeddings = encoder.encode(data, convert_to_tensor=True, show_progress_bar=True)"
      ],
      "execution_count": 50,
      "outputs": [
        {
          "output_type": "display_data",
          "data": {
            "application/vnd.jupyter.widget-view+json": {
              "model_id": "6d50746ea89a4c34af3d9a0bc7f41670",
              "version_minor": 0,
              "version_major": 2
            },
            "text/plain": [
              "Batches:   0%|          | 0/6277 [00:00<?, ?it/s]"
            ]
          },
          "metadata": {}
        }
      ]
    },
    {
      "cell_type": "code",
      "metadata": {
        "id": "5pillQJeNvEz",
        "colab": {
          "base_uri": "https://localhost:8080/"
        },
        "outputId": "7262848c-1503-45b0-8a63-eab1538004d2"
      },
      "source": [
        "# Number of data we want to provide as output\n",
        "top_k = 8\n",
        "\n",
        "# ask for an input research\n",
        "input = input(\"Please enter the research: \")"
      ],
      "execution_count": 51,
      "outputs": [
        {
          "name": "stdout",
          "output_type": "stream",
          "text": [
            "Please enter the research: best film\n"
          ]
        }
      ]
    },
    {
      "cell_type": "code",
      "metadata": {
        "id": "DWzNvObp5oPY",
        "colab": {
          "base_uri": "https://localhost:8080/"
        },
        "outputId": "4e98180e-ff6b-485a-e936-e517cd196058"
      },
      "source": [
        "# encode the research query using the best_model\n",
        "query_embedding = encoder.encode(input, convert_to_tensor=True)\n",
        "\n",
        "# We use cosine-similarity and torch.topk to find the highest scores\n",
        "cos_scores = util.pytorch_cos_sim(query_embedding, corpus_embeddings)[0]\n",
        "top_results = torch.topk(cos_scores, k=top_k)\n",
        "print(top_results[0])\n",
        "\n",
        "print(\"\\n\\n======================\\n\\n\")\n",
        "print(\"Input:\", input)\n",
        "print(\"\\nTop {} most similar sentences in the news data base:\".format(top_k))\n",
        "\n",
        "for score, idx in zip(top_results[0], top_results[1]):\n",
        "  print(data[idx],\"\\n\", \"(Score: {:.3f})\".format(score))\n",
        "  print(\"\\n\")"
      ],
      "execution_count": 52,
      "outputs": [
        {
          "output_type": "stream",
          "name": "stdout",
          "text": [
            "tensor([0.8086, 0.7992, 0.7822, 0.7797, 0.7787, 0.7758, 0.7755, 0.7737],\n",
            "       device='cuda:0')\n",
            "\n",
            "\n",
            "======================\n",
            "\n",
            "\n",
            "Input: best film\n",
            "\n",
            "Top 8 most similar sentences in the news data base:\n",
            "['One Of These Movies Will Win Best Picture', '', 'https://www.huffingtonpost.com/entry/best-picture-2015-oscars_n_6406642.html'] \n",
            " (Score: 0.809)\n",
            "\n",
            "\n",
            "['These Were The Best Movie Moments Of The Year', '', 'https://www.huffingtonpost.com/entry/best-movie-scenes-2014_n_6375144.html'] \n",
            " (Score: 0.799)\n",
            "\n",
            "\n",
            "['MTV Movie Awards Moments That Surprised Viewers', 'With categories like Best On-Screen Dirt Bag, Best Kiss, and Best Scared-as-S--t Performance, the MTV Movie Awards have a', 'https://www.huffingtonpost.com/entry/mtv-movie-awards-moments-surprise_us_5bb421f3e4b066f8d2552cdc'] \n",
            " (Score: 0.782)\n",
            "\n",
            "\n",
            "['All The MTV Movie Awards Winners', '', 'https://www.huffingtonpost.com/entry/mtv-movie-awards-2015-winners_n_7035384.html'] \n",
            " (Score: 0.780)\n",
            "\n",
            "\n",
            "[\"Screen Actors Guild Awards: 'Spotlight,' Leonardo DiCaprio Get Top Honors\", \"As a contrast to the Academy Awards' all-white nominees, the SAG awards had a diverse group of winners.\", 'https://www.huffingtonpost.com/entry/sag-awards-spotlight-dicaprio_us_56ad7ec3e4b00b033aaf679e'] \n",
            " (Score: 0.779)\n",
            "\n",
            "\n",
            "[\"How Weird, A Movie About Fish Sex Became Awards Season's Consensus Vote\", 'In a moment neither earth-shattering nor regressive, \"The Shape of Water\" won Best Picture at the Oscars.', 'https://www.huffingtonpost.com/entry/the-shape-of-water-best-picture-oscars_us_5a9cd003e4b089ec353bfdad'] \n",
            " (Score: 0.776)\n",
            "\n",
            "\n",
            "['And The Golden Globe For Best Supporting Actor Goes To ...', '', 'https://www.huffingtonpost.com/entry/jk-simmons-best-supporting-actor-golden-globes_n_6431584.html'] \n",
            " (Score: 0.775)\n",
            "\n",
            "\n",
            "['The Worst Movies Of The Year', \"See the full list of winners here, and let's look back at the Razzies' best of the worst films through the years. Like the\", 'https://www.huffingtonpost.comhttp://www.cnn.com/2014/02/28/showbiz/gallery/razzies-through-the-years/index.html?hpt=hp_c3'] \n",
            " (Score: 0.774)\n",
            "\n",
            "\n"
          ]
        }
      ]
    },
    {
      "cell_type": "code",
      "source": [
        ""
      ],
      "metadata": {
        "id": "n796VbAjsPvM"
      },
      "execution_count": null,
      "outputs": []
    }
  ]
}